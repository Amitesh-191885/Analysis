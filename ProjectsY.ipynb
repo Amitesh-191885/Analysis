{
  "nbformat": 4,
  "nbformat_minor": 0,
  "metadata": {
    "colab": {
      "name": "ProjectsY.ipynb",
      "provenance": [],
      "collapsed_sections": [
        "TpTjpfrNT7FF",
        "ErUd0eNNUNrs",
        "MEx8VjxM7lpl",
        "Z2HpC0CcADhn",
        "msBRYBg4AMiI",
        "ilgv0xhpLHTj",
        "8lVjwXeZWl73",
        "QD-TM6um4GEu",
        "ChjowuadcfqT",
        "ULLGh1Bg3MZ1",
        "HrHiD4SggotR",
        "7rv8BXWeh6ln",
        "ak-iUnkZiWoG",
        "9Uznr08xiyNX",
        "Hqa-CKnojjHY",
        "vWylp8DlnxEU",
        "2_Z5qqTSlqxI",
        "y8xSHf7xp7hf",
        "kRykzZ5ex9tF",
        "8TnQpol1s2Zt",
        "0DmjJnDWpTvi",
        "Eoo9DFHwvbf4"
      ],
      "authorship_tag": "ABX9TyML8dlCWmnBDssuIse/EW8s",
      "include_colab_link": true
    },
    "kernelspec": {
      "name": "python3",
      "display_name": "Python 3"
    },
    "language_info": {
      "name": "python"
    }
  },
  "cells": [
    {
      "cell_type": "markdown",
      "metadata": {
        "id": "view-in-github",
        "colab_type": "text"
      },
      "source": [
        "<a href=\"https://colab.research.google.com/github/Amitesh-191885/Analysis/blob/main/ProjectsY.ipynb\" target=\"_parent\"><img src=\"https://colab.research.google.com/assets/colab-badge.svg\" alt=\"Open In Colab\"/></a>"
      ]
    },
    {
      "cell_type": "markdown",
      "source": [
        "# Supervised Machine Learning - Regression\n",
        "**Project -1**"
      ],
      "metadata": {
        "id": "TpTjpfrNT7FF"
      }
    },
    {
      "cell_type": "markdown",
      "source": [
        "## Mileage Prediction - Regression Analysis\n"
      ],
      "metadata": {
        "id": "ErUd0eNNUNrs"
      }
    },
    {
      "cell_type": "markdown",
      "source": [
        "**Source:**\n",
        "This dataset was taken from the StatLib Library which is maintained at Camegie Mellon University. The dataset was used in the 1983 american Statistical Association Exposition\n",
        "**Data Set Information:**\n",
        "This dataset is slightly modified version of the dataset provided tin the StatLib library. In line with te use by Ross Quirian (1993) in predicting the attribute 'mpg', 8 of the original instances were removed because they had unknown values for the \"mpg\" attribute. The original dataset is availabe in the file \"auto-mpg data-original\" \n",
        "\n",
        "\"The data concerns city-cycle fuel consumptin in miles per galion, to be predicted in tems of 3 multivalued discrete and 5 continous attributed\" (Quanian 1993)\n",
        "\n",
        "**Attribute INformation:**\n",
        "\n",
        "\n",
        "1.   mpg: continuous \n",
        "2.  cylinders: Malti-valued discrete\n",
        "3. displacement: continuous\n",
        "4. horsepower: continuous\n",
        "5. weight: continuous\n",
        "6. acceleration: continuous\n",
        "7. model year: multi-valued discrete\n",
        "8. origin: multi-valued discrete\n",
        "9. car name : string(unique for each instances)\n",
        "\n",
        "file Path: https://github.com/YBI-Foundation/Dataset/blob/main/MPG.csv\n",
        "\n"
      ],
      "metadata": {
        "id": "7gxEQjqtUgUl"
      }
    },
    {
      "cell_type": "markdown",
      "source": [
        "*Import Library*\n",
        "\n",
        "pandas \n",
        "\n",
        "numpy\n",
        "\n",
        "matplotlib.pyplot\n",
        "\n",
        "seaborn"
      ],
      "metadata": {
        "id": "Im_mMUytadfy"
      }
    },
    {
      "cell_type": "code",
      "source": [
        "#Library \n",
        "import numpy as np\n",
        "import pandas as pd\n",
        "import matplotlib.pyplot as plt\n",
        "import seaborn as sns "
      ],
      "metadata": {
        "id": "ad5B_KlwUFzd"
      },
      "execution_count": null,
      "outputs": []
    },
    {
      "cell_type": "markdown",
      "source": [
        "**Import Data**"
      ],
      "metadata": {
        "id": "SguF47OObGPR"
      }
    },
    {
      "cell_type": "code",
      "source": [
        "url = 'https://raw.githubusercontent.com/YBI-Foundation/Dataset/main/MPG.csv'\n",
        "df = pd.read_csv(url)"
      ],
      "metadata": {
        "id": "syGXAz-TawHt"
      },
      "execution_count": null,
      "outputs": []
    },
    {
      "cell_type": "code",
      "source": [
        "df.head()"
      ],
      "metadata": {
        "colab": {
          "base_uri": "https://localhost:8080/",
          "height": 206
        },
        "id": "815VVF4FbTmM",
        "outputId": "74f2d17b-ab5a-446c-a651-0f8f81ca9a06"
      },
      "execution_count": null,
      "outputs": [
        {
          "output_type": "execute_result",
          "data": {
            "text/plain": [
              "    mpg  cylinders  displacement  horsepower  weight  acceleration  \\\n",
              "0  18.0          8         307.0       130.0    3504          12.0   \n",
              "1  15.0          8         350.0       165.0    3693          11.5   \n",
              "2  18.0          8         318.0       150.0    3436          11.0   \n",
              "3  16.0          8         304.0       150.0    3433          12.0   \n",
              "4  17.0          8         302.0       140.0    3449          10.5   \n",
              "\n",
              "   model_year origin                       name  \n",
              "0          70    usa  chevrolet chevelle malibu  \n",
              "1          70    usa          buick skylark 320  \n",
              "2          70    usa         plymouth satellite  \n",
              "3          70    usa              amc rebel sst  \n",
              "4          70    usa                ford torino  "
            ],
            "text/html": [
              "\n",
              "  <div id=\"df-865e71fa-ba74-47b1-8fd2-c378765f262f\">\n",
              "    <div class=\"colab-df-container\">\n",
              "      <div>\n",
              "<style scoped>\n",
              "    .dataframe tbody tr th:only-of-type {\n",
              "        vertical-align: middle;\n",
              "    }\n",
              "\n",
              "    .dataframe tbody tr th {\n",
              "        vertical-align: top;\n",
              "    }\n",
              "\n",
              "    .dataframe thead th {\n",
              "        text-align: right;\n",
              "    }\n",
              "</style>\n",
              "<table border=\"1\" class=\"dataframe\">\n",
              "  <thead>\n",
              "    <tr style=\"text-align: right;\">\n",
              "      <th></th>\n",
              "      <th>mpg</th>\n",
              "      <th>cylinders</th>\n",
              "      <th>displacement</th>\n",
              "      <th>horsepower</th>\n",
              "      <th>weight</th>\n",
              "      <th>acceleration</th>\n",
              "      <th>model_year</th>\n",
              "      <th>origin</th>\n",
              "      <th>name</th>\n",
              "    </tr>\n",
              "  </thead>\n",
              "  <tbody>\n",
              "    <tr>\n",
              "      <th>0</th>\n",
              "      <td>18.0</td>\n",
              "      <td>8</td>\n",
              "      <td>307.0</td>\n",
              "      <td>130.0</td>\n",
              "      <td>3504</td>\n",
              "      <td>12.0</td>\n",
              "      <td>70</td>\n",
              "      <td>usa</td>\n",
              "      <td>chevrolet chevelle malibu</td>\n",
              "    </tr>\n",
              "    <tr>\n",
              "      <th>1</th>\n",
              "      <td>15.0</td>\n",
              "      <td>8</td>\n",
              "      <td>350.0</td>\n",
              "      <td>165.0</td>\n",
              "      <td>3693</td>\n",
              "      <td>11.5</td>\n",
              "      <td>70</td>\n",
              "      <td>usa</td>\n",
              "      <td>buick skylark 320</td>\n",
              "    </tr>\n",
              "    <tr>\n",
              "      <th>2</th>\n",
              "      <td>18.0</td>\n",
              "      <td>8</td>\n",
              "      <td>318.0</td>\n",
              "      <td>150.0</td>\n",
              "      <td>3436</td>\n",
              "      <td>11.0</td>\n",
              "      <td>70</td>\n",
              "      <td>usa</td>\n",
              "      <td>plymouth satellite</td>\n",
              "    </tr>\n",
              "    <tr>\n",
              "      <th>3</th>\n",
              "      <td>16.0</td>\n",
              "      <td>8</td>\n",
              "      <td>304.0</td>\n",
              "      <td>150.0</td>\n",
              "      <td>3433</td>\n",
              "      <td>12.0</td>\n",
              "      <td>70</td>\n",
              "      <td>usa</td>\n",
              "      <td>amc rebel sst</td>\n",
              "    </tr>\n",
              "    <tr>\n",
              "      <th>4</th>\n",
              "      <td>17.0</td>\n",
              "      <td>8</td>\n",
              "      <td>302.0</td>\n",
              "      <td>140.0</td>\n",
              "      <td>3449</td>\n",
              "      <td>10.5</td>\n",
              "      <td>70</td>\n",
              "      <td>usa</td>\n",
              "      <td>ford torino</td>\n",
              "    </tr>\n",
              "  </tbody>\n",
              "</table>\n",
              "</div>\n",
              "      <button class=\"colab-df-convert\" onclick=\"convertToInteractive('df-865e71fa-ba74-47b1-8fd2-c378765f262f')\"\n",
              "              title=\"Convert this dataframe to an interactive table.\"\n",
              "              style=\"display:none;\">\n",
              "        \n",
              "  <svg xmlns=\"http://www.w3.org/2000/svg\" height=\"24px\"viewBox=\"0 0 24 24\"\n",
              "       width=\"24px\">\n",
              "    <path d=\"M0 0h24v24H0V0z\" fill=\"none\"/>\n",
              "    <path d=\"M18.56 5.44l.94 2.06.94-2.06 2.06-.94-2.06-.94-.94-2.06-.94 2.06-2.06.94zm-11 1L8.5 8.5l.94-2.06 2.06-.94-2.06-.94L8.5 2.5l-.94 2.06-2.06.94zm10 10l.94 2.06.94-2.06 2.06-.94-2.06-.94-.94-2.06-.94 2.06-2.06.94z\"/><path d=\"M17.41 7.96l-1.37-1.37c-.4-.4-.92-.59-1.43-.59-.52 0-1.04.2-1.43.59L10.3 9.45l-7.72 7.72c-.78.78-.78 2.05 0 2.83L4 21.41c.39.39.9.59 1.41.59.51 0 1.02-.2 1.41-.59l7.78-7.78 2.81-2.81c.8-.78.8-2.07 0-2.86zM5.41 20L4 18.59l7.72-7.72 1.47 1.35L5.41 20z\"/>\n",
              "  </svg>\n",
              "      </button>\n",
              "      \n",
              "  <style>\n",
              "    .colab-df-container {\n",
              "      display:flex;\n",
              "      flex-wrap:wrap;\n",
              "      gap: 12px;\n",
              "    }\n",
              "\n",
              "    .colab-df-convert {\n",
              "      background-color: #E8F0FE;\n",
              "      border: none;\n",
              "      border-radius: 50%;\n",
              "      cursor: pointer;\n",
              "      display: none;\n",
              "      fill: #1967D2;\n",
              "      height: 32px;\n",
              "      padding: 0 0 0 0;\n",
              "      width: 32px;\n",
              "    }\n",
              "\n",
              "    .colab-df-convert:hover {\n",
              "      background-color: #E2EBFA;\n",
              "      box-shadow: 0px 1px 2px rgba(60, 64, 67, 0.3), 0px 1px 3px 1px rgba(60, 64, 67, 0.15);\n",
              "      fill: #174EA6;\n",
              "    }\n",
              "\n",
              "    [theme=dark] .colab-df-convert {\n",
              "      background-color: #3B4455;\n",
              "      fill: #D2E3FC;\n",
              "    }\n",
              "\n",
              "    [theme=dark] .colab-df-convert:hover {\n",
              "      background-color: #434B5C;\n",
              "      box-shadow: 0px 1px 3px 1px rgba(0, 0, 0, 0.15);\n",
              "      filter: drop-shadow(0px 1px 2px rgba(0, 0, 0, 0.3));\n",
              "      fill: #FFFFFF;\n",
              "    }\n",
              "  </style>\n",
              "\n",
              "      <script>\n",
              "        const buttonEl =\n",
              "          document.querySelector('#df-865e71fa-ba74-47b1-8fd2-c378765f262f button.colab-df-convert');\n",
              "        buttonEl.style.display =\n",
              "          google.colab.kernel.accessAllowed ? 'block' : 'none';\n",
              "\n",
              "        async function convertToInteractive(key) {\n",
              "          const element = document.querySelector('#df-865e71fa-ba74-47b1-8fd2-c378765f262f');\n",
              "          const dataTable =\n",
              "            await google.colab.kernel.invokeFunction('convertToInteractive',\n",
              "                                                     [key], {});\n",
              "          if (!dataTable) return;\n",
              "\n",
              "          const docLinkHtml = 'Like what you see? Visit the ' +\n",
              "            '<a target=\"_blank\" href=https://colab.research.google.com/notebooks/data_table.ipynb>data table notebook</a>'\n",
              "            + ' to learn more about interactive tables.';\n",
              "          element.innerHTML = '';\n",
              "          dataTable['output_type'] = 'display_data';\n",
              "          await google.colab.output.renderOutput(dataTable, element);\n",
              "          const docLink = document.createElement('div');\n",
              "          docLink.innerHTML = docLinkHtml;\n",
              "          element.appendChild(docLink);\n",
              "        }\n",
              "      </script>\n",
              "    </div>\n",
              "  </div>\n",
              "  "
            ]
          },
          "metadata": {},
          "execution_count": 84
        }
      ]
    },
    {
      "cell_type": "code",
      "source": [
        "df.nunique()"
      ],
      "metadata": {
        "colab": {
          "base_uri": "https://localhost:8080/"
        },
        "id": "ISVeMh6ae76R",
        "outputId": "36ba19cb-0875-4e2b-e467-58a3eb39c16f"
      },
      "execution_count": null,
      "outputs": [
        {
          "output_type": "execute_result",
          "data": {
            "text/plain": [
              "mpg             129\n",
              "cylinders         5\n",
              "displacement     82\n",
              "horsepower       93\n",
              "weight          351\n",
              "acceleration     95\n",
              "model_year       13\n",
              "origin            3\n",
              "name            305\n",
              "dtype: int64"
            ]
          },
          "metadata": {},
          "execution_count": 85
        }
      ]
    },
    {
      "cell_type": "markdown",
      "source": [
        "**Data Preprocession**"
      ],
      "metadata": {
        "id": "vZHG2BGSfMGM"
      }
    },
    {
      "cell_type": "code",
      "source": [
        "#for check any missing value and information about the data\n",
        "df.info()"
      ],
      "metadata": {
        "colab": {
          "base_uri": "https://localhost:8080/"
        },
        "id": "DByi3fX9fCKR",
        "outputId": "9def2d98-dcb8-494a-a0a2-5cd3c4dd311b"
      },
      "execution_count": null,
      "outputs": [
        {
          "output_type": "stream",
          "name": "stdout",
          "text": [
            "<class 'pandas.core.frame.DataFrame'>\n",
            "RangeIndex: 398 entries, 0 to 397\n",
            "Data columns (total 9 columns):\n",
            " #   Column        Non-Null Count  Dtype  \n",
            "---  ------        --------------  -----  \n",
            " 0   mpg           398 non-null    float64\n",
            " 1   cylinders     398 non-null    int64  \n",
            " 2   displacement  398 non-null    float64\n",
            " 3   horsepower    392 non-null    float64\n",
            " 4   weight        398 non-null    int64  \n",
            " 5   acceleration  398 non-null    float64\n",
            " 6   model_year    398 non-null    int64  \n",
            " 7   origin        398 non-null    object \n",
            " 8   name          398 non-null    object \n",
            "dtypes: float64(4), int64(3), object(2)\n",
            "memory usage: 28.1+ KB\n"
          ]
        }
      ]
    },
    {
      "cell_type": "code",
      "source": [
        "df.describe()"
      ],
      "metadata": {
        "colab": {
          "base_uri": "https://localhost:8080/",
          "height": 300
        },
        "id": "-cvdrBuEgDPJ",
        "outputId": "3008baa7-b124-49ab-cfae-3282a2e5d6e2"
      },
      "execution_count": null,
      "outputs": [
        {
          "output_type": "execute_result",
          "data": {
            "text/plain": [
              "              mpg   cylinders  displacement  horsepower       weight  \\\n",
              "count  398.000000  398.000000    398.000000  392.000000   398.000000   \n",
              "mean    23.514573    5.454774    193.425879  104.469388  2970.424623   \n",
              "std      7.815984    1.701004    104.269838   38.491160   846.841774   \n",
              "min      9.000000    3.000000     68.000000   46.000000  1613.000000   \n",
              "25%     17.500000    4.000000    104.250000   75.000000  2223.750000   \n",
              "50%     23.000000    4.000000    148.500000   93.500000  2803.500000   \n",
              "75%     29.000000    8.000000    262.000000  126.000000  3608.000000   \n",
              "max     46.600000    8.000000    455.000000  230.000000  5140.000000   \n",
              "\n",
              "       acceleration  model_year  \n",
              "count    398.000000  398.000000  \n",
              "mean      15.568090   76.010050  \n",
              "std        2.757689    3.697627  \n",
              "min        8.000000   70.000000  \n",
              "25%       13.825000   73.000000  \n",
              "50%       15.500000   76.000000  \n",
              "75%       17.175000   79.000000  \n",
              "max       24.800000   82.000000  "
            ],
            "text/html": [
              "\n",
              "  <div id=\"df-560584f1-234c-44fe-90bb-6ff04081e97e\">\n",
              "    <div class=\"colab-df-container\">\n",
              "      <div>\n",
              "<style scoped>\n",
              "    .dataframe tbody tr th:only-of-type {\n",
              "        vertical-align: middle;\n",
              "    }\n",
              "\n",
              "    .dataframe tbody tr th {\n",
              "        vertical-align: top;\n",
              "    }\n",
              "\n",
              "    .dataframe thead th {\n",
              "        text-align: right;\n",
              "    }\n",
              "</style>\n",
              "<table border=\"1\" class=\"dataframe\">\n",
              "  <thead>\n",
              "    <tr style=\"text-align: right;\">\n",
              "      <th></th>\n",
              "      <th>mpg</th>\n",
              "      <th>cylinders</th>\n",
              "      <th>displacement</th>\n",
              "      <th>horsepower</th>\n",
              "      <th>weight</th>\n",
              "      <th>acceleration</th>\n",
              "      <th>model_year</th>\n",
              "    </tr>\n",
              "  </thead>\n",
              "  <tbody>\n",
              "    <tr>\n",
              "      <th>count</th>\n",
              "      <td>398.000000</td>\n",
              "      <td>398.000000</td>\n",
              "      <td>398.000000</td>\n",
              "      <td>392.000000</td>\n",
              "      <td>398.000000</td>\n",
              "      <td>398.000000</td>\n",
              "      <td>398.000000</td>\n",
              "    </tr>\n",
              "    <tr>\n",
              "      <th>mean</th>\n",
              "      <td>23.514573</td>\n",
              "      <td>5.454774</td>\n",
              "      <td>193.425879</td>\n",
              "      <td>104.469388</td>\n",
              "      <td>2970.424623</td>\n",
              "      <td>15.568090</td>\n",
              "      <td>76.010050</td>\n",
              "    </tr>\n",
              "    <tr>\n",
              "      <th>std</th>\n",
              "      <td>7.815984</td>\n",
              "      <td>1.701004</td>\n",
              "      <td>104.269838</td>\n",
              "      <td>38.491160</td>\n",
              "      <td>846.841774</td>\n",
              "      <td>2.757689</td>\n",
              "      <td>3.697627</td>\n",
              "    </tr>\n",
              "    <tr>\n",
              "      <th>min</th>\n",
              "      <td>9.000000</td>\n",
              "      <td>3.000000</td>\n",
              "      <td>68.000000</td>\n",
              "      <td>46.000000</td>\n",
              "      <td>1613.000000</td>\n",
              "      <td>8.000000</td>\n",
              "      <td>70.000000</td>\n",
              "    </tr>\n",
              "    <tr>\n",
              "      <th>25%</th>\n",
              "      <td>17.500000</td>\n",
              "      <td>4.000000</td>\n",
              "      <td>104.250000</td>\n",
              "      <td>75.000000</td>\n",
              "      <td>2223.750000</td>\n",
              "      <td>13.825000</td>\n",
              "      <td>73.000000</td>\n",
              "    </tr>\n",
              "    <tr>\n",
              "      <th>50%</th>\n",
              "      <td>23.000000</td>\n",
              "      <td>4.000000</td>\n",
              "      <td>148.500000</td>\n",
              "      <td>93.500000</td>\n",
              "      <td>2803.500000</td>\n",
              "      <td>15.500000</td>\n",
              "      <td>76.000000</td>\n",
              "    </tr>\n",
              "    <tr>\n",
              "      <th>75%</th>\n",
              "      <td>29.000000</td>\n",
              "      <td>8.000000</td>\n",
              "      <td>262.000000</td>\n",
              "      <td>126.000000</td>\n",
              "      <td>3608.000000</td>\n",
              "      <td>17.175000</td>\n",
              "      <td>79.000000</td>\n",
              "    </tr>\n",
              "    <tr>\n",
              "      <th>max</th>\n",
              "      <td>46.600000</td>\n",
              "      <td>8.000000</td>\n",
              "      <td>455.000000</td>\n",
              "      <td>230.000000</td>\n",
              "      <td>5140.000000</td>\n",
              "      <td>24.800000</td>\n",
              "      <td>82.000000</td>\n",
              "    </tr>\n",
              "  </tbody>\n",
              "</table>\n",
              "</div>\n",
              "      <button class=\"colab-df-convert\" onclick=\"convertToInteractive('df-560584f1-234c-44fe-90bb-6ff04081e97e')\"\n",
              "              title=\"Convert this dataframe to an interactive table.\"\n",
              "              style=\"display:none;\">\n",
              "        \n",
              "  <svg xmlns=\"http://www.w3.org/2000/svg\" height=\"24px\"viewBox=\"0 0 24 24\"\n",
              "       width=\"24px\">\n",
              "    <path d=\"M0 0h24v24H0V0z\" fill=\"none\"/>\n",
              "    <path d=\"M18.56 5.44l.94 2.06.94-2.06 2.06-.94-2.06-.94-.94-2.06-.94 2.06-2.06.94zm-11 1L8.5 8.5l.94-2.06 2.06-.94-2.06-.94L8.5 2.5l-.94 2.06-2.06.94zm10 10l.94 2.06.94-2.06 2.06-.94-2.06-.94-.94-2.06-.94 2.06-2.06.94z\"/><path d=\"M17.41 7.96l-1.37-1.37c-.4-.4-.92-.59-1.43-.59-.52 0-1.04.2-1.43.59L10.3 9.45l-7.72 7.72c-.78.78-.78 2.05 0 2.83L4 21.41c.39.39.9.59 1.41.59.51 0 1.02-.2 1.41-.59l7.78-7.78 2.81-2.81c.8-.78.8-2.07 0-2.86zM5.41 20L4 18.59l7.72-7.72 1.47 1.35L5.41 20z\"/>\n",
              "  </svg>\n",
              "      </button>\n",
              "      \n",
              "  <style>\n",
              "    .colab-df-container {\n",
              "      display:flex;\n",
              "      flex-wrap:wrap;\n",
              "      gap: 12px;\n",
              "    }\n",
              "\n",
              "    .colab-df-convert {\n",
              "      background-color: #E8F0FE;\n",
              "      border: none;\n",
              "      border-radius: 50%;\n",
              "      cursor: pointer;\n",
              "      display: none;\n",
              "      fill: #1967D2;\n",
              "      height: 32px;\n",
              "      padding: 0 0 0 0;\n",
              "      width: 32px;\n",
              "    }\n",
              "\n",
              "    .colab-df-convert:hover {\n",
              "      background-color: #E2EBFA;\n",
              "      box-shadow: 0px 1px 2px rgba(60, 64, 67, 0.3), 0px 1px 3px 1px rgba(60, 64, 67, 0.15);\n",
              "      fill: #174EA6;\n",
              "    }\n",
              "\n",
              "    [theme=dark] .colab-df-convert {\n",
              "      background-color: #3B4455;\n",
              "      fill: #D2E3FC;\n",
              "    }\n",
              "\n",
              "    [theme=dark] .colab-df-convert:hover {\n",
              "      background-color: #434B5C;\n",
              "      box-shadow: 0px 1px 3px 1px rgba(0, 0, 0, 0.15);\n",
              "      filter: drop-shadow(0px 1px 2px rgba(0, 0, 0, 0.3));\n",
              "      fill: #FFFFFF;\n",
              "    }\n",
              "  </style>\n",
              "\n",
              "      <script>\n",
              "        const buttonEl =\n",
              "          document.querySelector('#df-560584f1-234c-44fe-90bb-6ff04081e97e button.colab-df-convert');\n",
              "        buttonEl.style.display =\n",
              "          google.colab.kernel.accessAllowed ? 'block' : 'none';\n",
              "\n",
              "        async function convertToInteractive(key) {\n",
              "          const element = document.querySelector('#df-560584f1-234c-44fe-90bb-6ff04081e97e');\n",
              "          const dataTable =\n",
              "            await google.colab.kernel.invokeFunction('convertToInteractive',\n",
              "                                                     [key], {});\n",
              "          if (!dataTable) return;\n",
              "\n",
              "          const docLinkHtml = 'Like what you see? Visit the ' +\n",
              "            '<a target=\"_blank\" href=https://colab.research.google.com/notebooks/data_table.ipynb>data table notebook</a>'\n",
              "            + ' to learn more about interactive tables.';\n",
              "          element.innerHTML = '';\n",
              "          dataTable['output_type'] = 'display_data';\n",
              "          await google.colab.output.renderOutput(dataTable, element);\n",
              "          const docLink = document.createElement('div');\n",
              "          docLink.innerHTML = docLinkHtml;\n",
              "          element.appendChild(docLink);\n",
              "        }\n",
              "      </script>\n",
              "    </div>\n",
              "  </div>\n",
              "  "
            ]
          },
          "metadata": {},
          "execution_count": 87
        }
      ]
    },
    {
      "cell_type": "code",
      "source": [
        "df.corr()"
      ],
      "metadata": {
        "colab": {
          "base_uri": "https://localhost:8080/",
          "height": 269
        },
        "id": "EP73PY1eiN6P",
        "outputId": "c535da47-b26a-45f5-a7ef-7aff1817329b"
      },
      "execution_count": null,
      "outputs": [
        {
          "output_type": "execute_result",
          "data": {
            "text/plain": [
              "                   mpg  cylinders  displacement  horsepower    weight  \\\n",
              "mpg           1.000000  -0.775396     -0.804203   -0.778427 -0.831741   \n",
              "cylinders    -0.775396   1.000000      0.950721    0.842983  0.896017   \n",
              "displacement -0.804203   0.950721      1.000000    0.897257  0.932824   \n",
              "horsepower   -0.778427   0.842983      0.897257    1.000000  0.864538   \n",
              "weight       -0.831741   0.896017      0.932824    0.864538  1.000000   \n",
              "acceleration  0.420289  -0.505419     -0.543684   -0.689196 -0.417457   \n",
              "model_year    0.579267  -0.348746     -0.370164   -0.416361 -0.306564   \n",
              "\n",
              "              acceleration  model_year  \n",
              "mpg               0.420289    0.579267  \n",
              "cylinders        -0.505419   -0.348746  \n",
              "displacement     -0.543684   -0.370164  \n",
              "horsepower       -0.689196   -0.416361  \n",
              "weight           -0.417457   -0.306564  \n",
              "acceleration      1.000000    0.288137  \n",
              "model_year        0.288137    1.000000  "
            ],
            "text/html": [
              "\n",
              "  <div id=\"df-72ed5541-e4e3-4a35-9a8d-bb48702abceb\">\n",
              "    <div class=\"colab-df-container\">\n",
              "      <div>\n",
              "<style scoped>\n",
              "    .dataframe tbody tr th:only-of-type {\n",
              "        vertical-align: middle;\n",
              "    }\n",
              "\n",
              "    .dataframe tbody tr th {\n",
              "        vertical-align: top;\n",
              "    }\n",
              "\n",
              "    .dataframe thead th {\n",
              "        text-align: right;\n",
              "    }\n",
              "</style>\n",
              "<table border=\"1\" class=\"dataframe\">\n",
              "  <thead>\n",
              "    <tr style=\"text-align: right;\">\n",
              "      <th></th>\n",
              "      <th>mpg</th>\n",
              "      <th>cylinders</th>\n",
              "      <th>displacement</th>\n",
              "      <th>horsepower</th>\n",
              "      <th>weight</th>\n",
              "      <th>acceleration</th>\n",
              "      <th>model_year</th>\n",
              "    </tr>\n",
              "  </thead>\n",
              "  <tbody>\n",
              "    <tr>\n",
              "      <th>mpg</th>\n",
              "      <td>1.000000</td>\n",
              "      <td>-0.775396</td>\n",
              "      <td>-0.804203</td>\n",
              "      <td>-0.778427</td>\n",
              "      <td>-0.831741</td>\n",
              "      <td>0.420289</td>\n",
              "      <td>0.579267</td>\n",
              "    </tr>\n",
              "    <tr>\n",
              "      <th>cylinders</th>\n",
              "      <td>-0.775396</td>\n",
              "      <td>1.000000</td>\n",
              "      <td>0.950721</td>\n",
              "      <td>0.842983</td>\n",
              "      <td>0.896017</td>\n",
              "      <td>-0.505419</td>\n",
              "      <td>-0.348746</td>\n",
              "    </tr>\n",
              "    <tr>\n",
              "      <th>displacement</th>\n",
              "      <td>-0.804203</td>\n",
              "      <td>0.950721</td>\n",
              "      <td>1.000000</td>\n",
              "      <td>0.897257</td>\n",
              "      <td>0.932824</td>\n",
              "      <td>-0.543684</td>\n",
              "      <td>-0.370164</td>\n",
              "    </tr>\n",
              "    <tr>\n",
              "      <th>horsepower</th>\n",
              "      <td>-0.778427</td>\n",
              "      <td>0.842983</td>\n",
              "      <td>0.897257</td>\n",
              "      <td>1.000000</td>\n",
              "      <td>0.864538</td>\n",
              "      <td>-0.689196</td>\n",
              "      <td>-0.416361</td>\n",
              "    </tr>\n",
              "    <tr>\n",
              "      <th>weight</th>\n",
              "      <td>-0.831741</td>\n",
              "      <td>0.896017</td>\n",
              "      <td>0.932824</td>\n",
              "      <td>0.864538</td>\n",
              "      <td>1.000000</td>\n",
              "      <td>-0.417457</td>\n",
              "      <td>-0.306564</td>\n",
              "    </tr>\n",
              "    <tr>\n",
              "      <th>acceleration</th>\n",
              "      <td>0.420289</td>\n",
              "      <td>-0.505419</td>\n",
              "      <td>-0.543684</td>\n",
              "      <td>-0.689196</td>\n",
              "      <td>-0.417457</td>\n",
              "      <td>1.000000</td>\n",
              "      <td>0.288137</td>\n",
              "    </tr>\n",
              "    <tr>\n",
              "      <th>model_year</th>\n",
              "      <td>0.579267</td>\n",
              "      <td>-0.348746</td>\n",
              "      <td>-0.370164</td>\n",
              "      <td>-0.416361</td>\n",
              "      <td>-0.306564</td>\n",
              "      <td>0.288137</td>\n",
              "      <td>1.000000</td>\n",
              "    </tr>\n",
              "  </tbody>\n",
              "</table>\n",
              "</div>\n",
              "      <button class=\"colab-df-convert\" onclick=\"convertToInteractive('df-72ed5541-e4e3-4a35-9a8d-bb48702abceb')\"\n",
              "              title=\"Convert this dataframe to an interactive table.\"\n",
              "              style=\"display:none;\">\n",
              "        \n",
              "  <svg xmlns=\"http://www.w3.org/2000/svg\" height=\"24px\"viewBox=\"0 0 24 24\"\n",
              "       width=\"24px\">\n",
              "    <path d=\"M0 0h24v24H0V0z\" fill=\"none\"/>\n",
              "    <path d=\"M18.56 5.44l.94 2.06.94-2.06 2.06-.94-2.06-.94-.94-2.06-.94 2.06-2.06.94zm-11 1L8.5 8.5l.94-2.06 2.06-.94-2.06-.94L8.5 2.5l-.94 2.06-2.06.94zm10 10l.94 2.06.94-2.06 2.06-.94-2.06-.94-.94-2.06-.94 2.06-2.06.94z\"/><path d=\"M17.41 7.96l-1.37-1.37c-.4-.4-.92-.59-1.43-.59-.52 0-1.04.2-1.43.59L10.3 9.45l-7.72 7.72c-.78.78-.78 2.05 0 2.83L4 21.41c.39.39.9.59 1.41.59.51 0 1.02-.2 1.41-.59l7.78-7.78 2.81-2.81c.8-.78.8-2.07 0-2.86zM5.41 20L4 18.59l7.72-7.72 1.47 1.35L5.41 20z\"/>\n",
              "  </svg>\n",
              "      </button>\n",
              "      \n",
              "  <style>\n",
              "    .colab-df-container {\n",
              "      display:flex;\n",
              "      flex-wrap:wrap;\n",
              "      gap: 12px;\n",
              "    }\n",
              "\n",
              "    .colab-df-convert {\n",
              "      background-color: #E8F0FE;\n",
              "      border: none;\n",
              "      border-radius: 50%;\n",
              "      cursor: pointer;\n",
              "      display: none;\n",
              "      fill: #1967D2;\n",
              "      height: 32px;\n",
              "      padding: 0 0 0 0;\n",
              "      width: 32px;\n",
              "    }\n",
              "\n",
              "    .colab-df-convert:hover {\n",
              "      background-color: #E2EBFA;\n",
              "      box-shadow: 0px 1px 2px rgba(60, 64, 67, 0.3), 0px 1px 3px 1px rgba(60, 64, 67, 0.15);\n",
              "      fill: #174EA6;\n",
              "    }\n",
              "\n",
              "    [theme=dark] .colab-df-convert {\n",
              "      background-color: #3B4455;\n",
              "      fill: #D2E3FC;\n",
              "    }\n",
              "\n",
              "    [theme=dark] .colab-df-convert:hover {\n",
              "      background-color: #434B5C;\n",
              "      box-shadow: 0px 1px 3px 1px rgba(0, 0, 0, 0.15);\n",
              "      filter: drop-shadow(0px 1px 2px rgba(0, 0, 0, 0.3));\n",
              "      fill: #FFFFFF;\n",
              "    }\n",
              "  </style>\n",
              "\n",
              "      <script>\n",
              "        const buttonEl =\n",
              "          document.querySelector('#df-72ed5541-e4e3-4a35-9a8d-bb48702abceb button.colab-df-convert');\n",
              "        buttonEl.style.display =\n",
              "          google.colab.kernel.accessAllowed ? 'block' : 'none';\n",
              "\n",
              "        async function convertToInteractive(key) {\n",
              "          const element = document.querySelector('#df-72ed5541-e4e3-4a35-9a8d-bb48702abceb');\n",
              "          const dataTable =\n",
              "            await google.colab.kernel.invokeFunction('convertToInteractive',\n",
              "                                                     [key], {});\n",
              "          if (!dataTable) return;\n",
              "\n",
              "          const docLinkHtml = 'Like what you see? Visit the ' +\n",
              "            '<a target=\"_blank\" href=https://colab.research.google.com/notebooks/data_table.ipynb>data table notebook</a>'\n",
              "            + ' to learn more about interactive tables.';\n",
              "          element.innerHTML = '';\n",
              "          dataTable['output_type'] = 'display_data';\n",
              "          await google.colab.output.renderOutput(dataTable, element);\n",
              "          const docLink = document.createElement('div');\n",
              "          docLink.innerHTML = docLinkHtml;\n",
              "          element.appendChild(docLink);\n",
              "        }\n",
              "      </script>\n",
              "    </div>\n",
              "  </div>\n",
              "  "
            ]
          },
          "metadata": {},
          "execution_count": 88
        }
      ]
    },
    {
      "cell_type": "markdown",
      "source": [
        "In the data set there is missing 6 value of horsepower, because all are 398, but horsepower count is 392 so that it has missing 6 value.\n",
        "\n",
        "And In the data set there is two lebel 'displacement' and 'cylinders' are highly correlated. so we use only one of them. \n",
        "\n",
        "Displacement =  no of cylinder * volume of cylinder\n",
        "\n",
        "but, in dataset  , missing voulume of cylinder so we use displacement instead of cylinder.\n"
      ],
      "metadata": {
        "id": "mORf39LTqOPq"
      }
    },
    {
      "cell_type": "markdown",
      "source": [
        "**Remove Missing Value**"
      ],
      "metadata": {
        "id": "myDcwyttrfws"
      }
    },
    {
      "cell_type": "code",
      "source": [
        "data = df.dropna()"
      ],
      "metadata": {
        "id": "0_bmukS6ihU3"
      },
      "execution_count": null,
      "outputs": []
    },
    {
      "cell_type": "code",
      "source": [
        "data.info()"
      ],
      "metadata": {
        "colab": {
          "base_uri": "https://localhost:8080/"
        },
        "id": "HOpeUTQLryLH",
        "outputId": "e30a93cc-1619-4296-e399-524b79aeef95"
      },
      "execution_count": null,
      "outputs": [
        {
          "output_type": "stream",
          "name": "stdout",
          "text": [
            "<class 'pandas.core.frame.DataFrame'>\n",
            "Int64Index: 392 entries, 0 to 397\n",
            "Data columns (total 9 columns):\n",
            " #   Column        Non-Null Count  Dtype  \n",
            "---  ------        --------------  -----  \n",
            " 0   mpg           392 non-null    float64\n",
            " 1   cylinders     392 non-null    int64  \n",
            " 2   displacement  392 non-null    float64\n",
            " 3   horsepower    392 non-null    float64\n",
            " 4   weight        392 non-null    int64  \n",
            " 5   acceleration  392 non-null    float64\n",
            " 6   model_year    392 non-null    int64  \n",
            " 7   origin        392 non-null    object \n",
            " 8   name          392 non-null    object \n",
            "dtypes: float64(4), int64(3), object(2)\n",
            "memory usage: 30.6+ KB\n"
          ]
        }
      ]
    },
    {
      "cell_type": "code",
      "source": [
        "data.columns"
      ],
      "metadata": {
        "colab": {
          "base_uri": "https://localhost:8080/"
        },
        "id": "hNWmw5xJstoC",
        "outputId": "ddbf217c-a513-402d-f90a-75deaf67a98b"
      },
      "execution_count": null,
      "outputs": [
        {
          "output_type": "execute_result",
          "data": {
            "text/plain": [
              "Index(['mpg', 'cylinders', 'displacement', 'horsepower', 'weight',\n",
              "       'acceleration', 'model_year', 'origin', 'name'],\n",
              "      dtype='object')"
            ]
          },
          "metadata": {},
          "execution_count": 91
        }
      ]
    },
    {
      "cell_type": "markdown",
      "source": [
        "Now No any missing value."
      ],
      "metadata": {
        "id": "eZV0R3vnr2zj"
      }
    },
    {
      "cell_type": "markdown",
      "source": [
        "**Data Visualization**"
      ],
      "metadata": {
        "id": "CGUlYwxcsQt_"
      }
    },
    {
      "cell_type": "code",
      "source": [
        "#Pair plot for visualization\n",
        "sns.pairplot(data, x_vars = ['displacement', 'horsepower', 'weight', 'acceleration'] , y_vars=['mpg'])"
      ],
      "metadata": {
        "colab": {
          "base_uri": "https://localhost:8080/",
          "height": 214
        },
        "id": "oifNifGqr0FP",
        "outputId": "4b173aaa-1ceb-4406-f900-71b190f0b675"
      },
      "execution_count": null,
      "outputs": [
        {
          "output_type": "execute_result",
          "data": {
            "text/plain": [
              "<seaborn.axisgrid.PairGrid at 0x7f1d4775c110>"
            ]
          },
          "metadata": {},
          "execution_count": 92
        },
        {
          "output_type": "display_data",
          "data": {
            "text/plain": [
              "<Figure size 720x180 with 4 Axes>"
            ],
            "image/png": "[encoded data removed]"
          },
          "metadata": {
            "needs_background": "light"
          }
        }
      ]
    },
    {
      "cell_type": "markdown",
      "source": [
        "In pairplot we see  that \n",
        "*  mpg - displacement  negative correleation\n",
        "*  mpg- horsepower negative correlation\n",
        "* mpg - weight negative correlation\n",
        "*  mpg - acceleration positive correlation"
      ],
      "metadata": {
        "id": "9ZRtpbDMwDjY"
      }
    },
    {
      "cell_type": "code",
      "source": [
        "X=data['displacement']\n",
        "Y=data['mpg']\n",
        "plt.title('Correlation')\n",
        "# plot the data\n",
        "plt.scatter(X, Y)\n",
        "\n",
        "plt.plot(np.unique(X), np.poly1d(np.polyfit(X, Y, 1)) (np.unique(X)), color='red')\n",
        "\n",
        "plt.xlabel('acceleration')\n",
        "plt.ylabel('mpg')"
      ],
      "metadata": {
        "colab": {
          "base_uri": "https://localhost:8080/",
          "height": 312
        },
        "id": "J6I3a5YdRQnG",
        "outputId": "687a750d-dee7-433d-a843-13eaf24b2e4b"
      },
      "execution_count": null,
      "outputs": [
        {
          "output_type": "execute_result",
          "data": {
            "text/plain": [
              "Text(0, 0.5, 'mpg')"
            ]
          },
          "metadata": {},
          "execution_count": 93
        },
        {
          "output_type": "display_data",
          "data": {
            "text/plain": [
              "<Figure size 432x288 with 1 Axes>"
            ],
            "image/png": "[encoded data removed]"
          },
          "metadata": {
            "needs_background": "light"
          }
        }
      ]
    },
    {
      "cell_type": "code",
      "source": [
        "sns.regplot(x='displacement', y='mpg',data=data,color='g');"
      ],
      "metadata": {
        "colab": {
          "base_uri": "https://localhost:8080/",
          "height": 279
        },
        "id": "E0Nm_j41vguu",
        "outputId": "9f1966f9-48fb-4a0a-fb30-68fd066eb995"
      },
      "execution_count": null,
      "outputs": [
        {
          "output_type": "display_data",
          "data": {
            "text/plain": [
              "<Figure size 432x288 with 1 Axes>"
            ],
            "image/png": "[encoded data removed]"
          },
          "metadata": {
            "needs_background": "light"
          }
        }
      ]
    },
    {
      "cell_type": "code",
      "source": [
        "sns.regplot( x='acceleration',y='mpg',data=data,color='g')"
      ],
      "metadata": {
        "colab": {
          "base_uri": "https://localhost:8080/",
          "height": 296
        },
        "id": "5PvHrngQxuOp",
        "outputId": "71184e70-b7c3-4443-f77b-4ae8e9e9515c"
      },
      "execution_count": null,
      "outputs": [
        {
          "output_type": "execute_result",
          "data": {
            "text/plain": [
              "<matplotlib.axes._subplots.AxesSubplot at 0x7f1d47a61210>"
            ]
          },
          "metadata": {},
          "execution_count": 95
        },
        {
          "output_type": "display_data",
          "data": {
            "text/plain": [
              "<Figure size 432x288 with 1 Axes>"
            ],
            "image/png": "[encoded data removed]"
          },
          "metadata": {
            "needs_background": "light"
          }
        }
      ]
    },
    {
      "cell_type": "code",
      "source": [
        "X=data['acceleration']\n",
        "Y=data['mpg']\n",
        "plt.title('Correlation')\n",
        "# plot the data\n",
        "plt.scatter(X, Y)\n",
        "\n",
        "plt.plot(np.unique(X), np.poly1d(np.polyfit(X, Y, 1)) (np.unique(X)), color='red')\n",
        "\n",
        "plt.xlabel('acceleration')\n",
        "plt.ylabel('mpg')"
      ],
      "metadata": {
        "colab": {
          "base_uri": "https://localhost:8080/",
          "height": 312
        },
        "id": "K89odeLgQrIC",
        "outputId": "55c85453-cbef-47f9-adc2-ee836a4095fe"
      },
      "execution_count": null,
      "outputs": [
        {
          "output_type": "execute_result",
          "data": {
            "text/plain": [
              "Text(0, 0.5, 'mpg')"
            ]
          },
          "metadata": {},
          "execution_count": 96
        },
        {
          "output_type": "display_data",
          "data": {
            "text/plain": [
              "<Figure size 432x288 with 1 Axes>"
            ],
            "image/png": "[encoded data removed]"
          },
          "metadata": {
            "needs_background": "light"
          }
        }
      ]
    },
    {
      "cell_type": "markdown",
      "source": [
        "**Define Target Variable y and Feature x**"
      ],
      "metadata": {
        "id": "4IGmr74Iyspc"
      }
    },
    {
      "cell_type": "code",
      "source": [
        "data.columns"
      ],
      "metadata": {
        "colab": {
          "base_uri": "https://localhost:8080/"
        },
        "id": "3Vq2CRG1zPZI",
        "outputId": "dedf41e8-fbf0-4f50-c0ff-4af04aa99098"
      },
      "execution_count": null,
      "outputs": [
        {
          "output_type": "execute_result",
          "data": {
            "text/plain": [
              "Index(['mpg', 'cylinders', 'displacement', 'horsepower', 'weight',\n",
              "       'acceleration', 'model_year', 'origin', 'name'],\n",
              "      dtype='object')"
            ]
          },
          "metadata": {},
          "execution_count": 97
        }
      ]
    },
    {
      "cell_type": "code",
      "source": [
        "y = data['mpg']"
      ],
      "metadata": {
        "id": "0FdsPRg_ySgg"
      },
      "execution_count": null,
      "outputs": []
    },
    {
      "cell_type": "code",
      "source": [
        "y.shape"
      ],
      "metadata": {
        "colab": {
          "base_uri": "https://localhost:8080/"
        },
        "id": "_9dLIhSIy3py",
        "outputId": "d9598161-dba3-4f63-e9a9-1a295af4a1bd"
      },
      "execution_count": null,
      "outputs": [
        {
          "output_type": "execute_result",
          "data": {
            "text/plain": [
              "(392,)"
            ]
          },
          "metadata": {},
          "execution_count": 99
        }
      ]
    },
    {
      "cell_type": "code",
      "source": [
        "x=data[['displacement', 'horsepower', 'weight', 'acceleration']]\n",
        "x.shape"
      ],
      "metadata": {
        "colab": {
          "base_uri": "https://localhost:8080/"
        },
        "id": "gxzZV1Zby5hp",
        "outputId": "b719bfa8-21a9-4475-f492-44f1497d727d"
      },
      "execution_count": null,
      "outputs": [
        {
          "output_type": "execute_result",
          "data": {
            "text/plain": [
              "(392, 4)"
            ]
          },
          "metadata": {},
          "execution_count": 100
        }
      ]
    },
    {
      "cell_type": "code",
      "source": [
        "x"
      ],
      "metadata": {
        "colab": {
          "base_uri": "https://localhost:8080/",
          "height": 424
        },
        "id": "RR1u85uI1mlG",
        "outputId": "d04d4652-5a24-44f1-fecf-a4e9b8f5b617"
      },
      "execution_count": null,
      "outputs": [
        {
          "output_type": "execute_result",
          "data": {
            "text/plain": [
              "     displacement  horsepower  weight  acceleration\n",
              "0           307.0       130.0    3504          12.0\n",
              "1           350.0       165.0    3693          11.5\n",
              "2           318.0       150.0    3436          11.0\n",
              "3           304.0       150.0    3433          12.0\n",
              "4           302.0       140.0    3449          10.5\n",
              "..            ...         ...     ...           ...\n",
              "393         140.0        86.0    2790          15.6\n",
              "394          97.0        52.0    2130          24.6\n",
              "395         135.0        84.0    2295          11.6\n",
              "396         120.0        79.0    2625          18.6\n",
              "397         119.0        82.0    2720          19.4\n",
              "\n",
              "[392 rows x 4 columns]"
            ],
            "text/html": [
              "\n",
              "  <div id=\"df-c4dc33e3-f873-4d64-8664-6674e7599d8f\">\n",
              "    <div class=\"colab-df-container\">\n",
              "      <div>\n",
              "<style scoped>\n",
              "    .dataframe tbody tr th:only-of-type {\n",
              "        vertical-align: middle;\n",
              "    }\n",
              "\n",
              "    .dataframe tbody tr th {\n",
              "        vertical-align: top;\n",
              "    }\n",
              "\n",
              "    .dataframe thead th {\n",
              "        text-align: right;\n",
              "    }\n",
              "</style>\n",
              "<table border=\"1\" class=\"dataframe\">\n",
              "  <thead>\n",
              "    <tr style=\"text-align: right;\">\n",
              "      <th></th>\n",
              "      <th>displacement</th>\n",
              "      <th>horsepower</th>\n",
              "      <th>weight</th>\n",
              "      <th>acceleration</th>\n",
              "    </tr>\n",
              "  </thead>\n",
              "  <tbody>\n",
              "    <tr>\n",
              "      <th>0</th>\n",
              "      <td>307.0</td>\n",
              "      <td>130.0</td>\n",
              "      <td>3504</td>\n",
              "      <td>12.0</td>\n",
              "    </tr>\n",
              "    <tr>\n",
              "      <th>1</th>\n",
              "      <td>350.0</td>\n",
              "      <td>165.0</td>\n",
              "      <td>3693</td>\n",
              "      <td>11.5</td>\n",
              "    </tr>\n",
              "    <tr>\n",
              "      <th>2</th>\n",
              "      <td>318.0</td>\n",
              "      <td>150.0</td>\n",
              "      <td>3436</td>\n",
              "      <td>11.0</td>\n",
              "    </tr>\n",
              "    <tr>\n",
              "      <th>3</th>\n",
              "      <td>304.0</td>\n",
              "      <td>150.0</td>\n",
              "      <td>3433</td>\n",
              "      <td>12.0</td>\n",
              "    </tr>\n",
              "    <tr>\n",
              "      <th>4</th>\n",
              "      <td>302.0</td>\n",
              "      <td>140.0</td>\n",
              "      <td>3449</td>\n",
              "      <td>10.5</td>\n",
              "    </tr>\n",
              "    <tr>\n",
              "      <th>...</th>\n",
              "      <td>...</td>\n",
              "      <td>...</td>\n",
              "      <td>...</td>\n",
              "      <td>...</td>\n",
              "    </tr>\n",
              "    <tr>\n",
              "      <th>393</th>\n",
              "      <td>140.0</td>\n",
              "      <td>86.0</td>\n",
              "      <td>2790</td>\n",
              "      <td>15.6</td>\n",
              "    </tr>\n",
              "    <tr>\n",
              "      <th>394</th>\n",
              "      <td>97.0</td>\n",
              "      <td>52.0</td>\n",
              "      <td>2130</td>\n",
              "      <td>24.6</td>\n",
              "    </tr>\n",
              "    <tr>\n",
              "      <th>395</th>\n",
              "      <td>135.0</td>\n",
              "      <td>84.0</td>\n",
              "      <td>2295</td>\n",
              "      <td>11.6</td>\n",
              "    </tr>\n",
              "    <tr>\n",
              "      <th>396</th>\n",
              "      <td>120.0</td>\n",
              "      <td>79.0</td>\n",
              "      <td>2625</td>\n",
              "      <td>18.6</td>\n",
              "    </tr>\n",
              "    <tr>\n",
              "      <th>397</th>\n",
              "      <td>119.0</td>\n",
              "      <td>82.0</td>\n",
              "      <td>2720</td>\n",
              "      <td>19.4</td>\n",
              "    </tr>\n",
              "  </tbody>\n",
              "</table>\n",
              "<p>392 rows × 4 columns</p>\n",
              "</div>\n",
              "      <button class=\"colab-df-convert\" onclick=\"convertToInteractive('df-c4dc33e3-f873-4d64-8664-6674e7599d8f')\"\n",
              "              title=\"Convert this dataframe to an interactive table.\"\n",
              "              style=\"display:none;\">\n",
              "        \n",
              "  <svg xmlns=\"http://www.w3.org/2000/svg\" height=\"24px\"viewBox=\"0 0 24 24\"\n",
              "       width=\"24px\">\n",
              "    <path d=\"M0 0h24v24H0V0z\" fill=\"none\"/>\n",
              "    <path d=\"M18.56 5.44l.94 2.06.94-2.06 2.06-.94-2.06-.94-.94-2.06-.94 2.06-2.06.94zm-11 1L8.5 8.5l.94-2.06 2.06-.94-2.06-.94L8.5 2.5l-.94 2.06-2.06.94zm10 10l.94 2.06.94-2.06 2.06-.94-2.06-.94-.94-2.06-.94 2.06-2.06.94z\"/><path d=\"M17.41 7.96l-1.37-1.37c-.4-.4-.92-.59-1.43-.59-.52 0-1.04.2-1.43.59L10.3 9.45l-7.72 7.72c-.78.78-.78 2.05 0 2.83L4 21.41c.39.39.9.59 1.41.59.51 0 1.02-.2 1.41-.59l7.78-7.78 2.81-2.81c.8-.78.8-2.07 0-2.86zM5.41 20L4 18.59l7.72-7.72 1.47 1.35L5.41 20z\"/>\n",
              "  </svg>\n",
              "      </button>\n",
              "      \n",
              "  <style>\n",
              "    .colab-df-container {\n",
              "      display:flex;\n",
              "      flex-wrap:wrap;\n",
              "      gap: 12px;\n",
              "    }\n",
              "\n",
              "    .colab-df-convert {\n",
              "      background-color: #E8F0FE;\n",
              "      border: none;\n",
              "      border-radius: 50%;\n",
              "      cursor: pointer;\n",
              "      display: none;\n",
              "      fill: #1967D2;\n",
              "      height: 32px;\n",
              "      padding: 0 0 0 0;\n",
              "      width: 32px;\n",
              "    }\n",
              "\n",
              "    .colab-df-convert:hover {\n",
              "      background-color: #E2EBFA;\n",
              "      box-shadow: 0px 1px 2px rgba(60, 64, 67, 0.3), 0px 1px 3px 1px rgba(60, 64, 67, 0.15);\n",
              "      fill: #174EA6;\n",
              "    }\n",
              "\n",
              "    [theme=dark] .colab-df-convert {\n",
              "      background-color: #3B4455;\n",
              "      fill: #D2E3FC;\n",
              "    }\n",
              "\n",
              "    [theme=dark] .colab-df-convert:hover {\n",
              "      background-color: #434B5C;\n",
              "      box-shadow: 0px 1px 3px 1px rgba(0, 0, 0, 0.15);\n",
              "      filter: drop-shadow(0px 1px 2px rgba(0, 0, 0, 0.3));\n",
              "      fill: #FFFFFF;\n",
              "    }\n",
              "  </style>\n",
              "\n",
              "      <script>\n",
              "        const buttonEl =\n",
              "          document.querySelector('#df-c4dc33e3-f873-4d64-8664-6674e7599d8f button.colab-df-convert');\n",
              "        buttonEl.style.display =\n",
              "          google.colab.kernel.accessAllowed ? 'block' : 'none';\n",
              "\n",
              "        async function convertToInteractive(key) {\n",
              "          const element = document.querySelector('#df-c4dc33e3-f873-4d64-8664-6674e7599d8f');\n",
              "          const dataTable =\n",
              "            await google.colab.kernel.invokeFunction('convertToInteractive',\n",
              "                                                     [key], {});\n",
              "          if (!dataTable) return;\n",
              "\n",
              "          const docLinkHtml = 'Like what you see? Visit the ' +\n",
              "            '<a target=\"_blank\" href=https://colab.research.google.com/notebooks/data_table.ipynb>data table notebook</a>'\n",
              "            + ' to learn more about interactive tables.';\n",
              "          element.innerHTML = '';\n",
              "          dataTable['output_type'] = 'display_data';\n",
              "          await google.colab.output.renderOutput(dataTable, element);\n",
              "          const docLink = document.createElement('div');\n",
              "          docLink.innerHTML = docLinkHtml;\n",
              "          element.appendChild(docLink);\n",
              "        }\n",
              "      </script>\n",
              "    </div>\n",
              "  </div>\n",
              "  "
            ]
          },
          "metadata": {},
          "execution_count": 101
        }
      ]
    },
    {
      "cell_type": "code",
      "source": [
        "pd.DataFrame(x).describe()"
      ],
      "metadata": {
        "colab": {
          "base_uri": "https://localhost:8080/",
          "height": 300
        },
        "id": "WJoJ8PXg1zXv",
        "outputId": "c452ddd9-2968-4819-933b-f3a8a686b42c"
      },
      "execution_count": null,
      "outputs": [
        {
          "output_type": "execute_result",
          "data": {
            "text/plain": [
              "       displacement  horsepower       weight  acceleration\n",
              "count    392.000000  392.000000   392.000000    392.000000\n",
              "mean     194.411990  104.469388  2977.584184     15.541327\n",
              "std      104.644004   38.491160   849.402560      2.758864\n",
              "min       68.000000   46.000000  1613.000000      8.000000\n",
              "25%      105.000000   75.000000  2225.250000     13.775000\n",
              "50%      151.000000   93.500000  2803.500000     15.500000\n",
              "75%      275.750000  126.000000  3614.750000     17.025000\n",
              "max      455.000000  230.000000  5140.000000     24.800000"
            ],
            "text/html": [
              "\n",
              "  <div id=\"df-aee459cd-e7d1-4c8e-9c29-14371f700f0b\">\n",
              "    <div class=\"colab-df-container\">\n",
              "      <div>\n",
              "<style scoped>\n",
              "    .dataframe tbody tr th:only-of-type {\n",
              "        vertical-align: middle;\n",
              "    }\n",
              "\n",
              "    .dataframe tbody tr th {\n",
              "        vertical-align: top;\n",
              "    }\n",
              "\n",
              "    .dataframe thead th {\n",
              "        text-align: right;\n",
              "    }\n",
              "</style>\n",
              "<table border=\"1\" class=\"dataframe\">\n",
              "  <thead>\n",
              "    <tr style=\"text-align: right;\">\n",
              "      <th></th>\n",
              "      <th>displacement</th>\n",
              "      <th>horsepower</th>\n",
              "      <th>weight</th>\n",
              "      <th>acceleration</th>\n",
              "    </tr>\n",
              "  </thead>\n",
              "  <tbody>\n",
              "    <tr>\n",
              "      <th>count</th>\n",
              "      <td>392.000000</td>\n",
              "      <td>392.000000</td>\n",
              "      <td>392.000000</td>\n",
              "      <td>392.000000</td>\n",
              "    </tr>\n",
              "    <tr>\n",
              "      <th>mean</th>\n",
              "      <td>194.411990</td>\n",
              "      <td>104.469388</td>\n",
              "      <td>2977.584184</td>\n",
              "      <td>15.541327</td>\n",
              "    </tr>\n",
              "    <tr>\n",
              "      <th>std</th>\n",
              "      <td>104.644004</td>\n",
              "      <td>38.491160</td>\n",
              "      <td>849.402560</td>\n",
              "      <td>2.758864</td>\n",
              "    </tr>\n",
              "    <tr>\n",
              "      <th>min</th>\n",
              "      <td>68.000000</td>\n",
              "      <td>46.000000</td>\n",
              "      <td>1613.000000</td>\n",
              "      <td>8.000000</td>\n",
              "    </tr>\n",
              "    <tr>\n",
              "      <th>25%</th>\n",
              "      <td>105.000000</td>\n",
              "      <td>75.000000</td>\n",
              "      <td>2225.250000</td>\n",
              "      <td>13.775000</td>\n",
              "    </tr>\n",
              "    <tr>\n",
              "      <th>50%</th>\n",
              "      <td>151.000000</td>\n",
              "      <td>93.500000</td>\n",
              "      <td>2803.500000</td>\n",
              "      <td>15.500000</td>\n",
              "    </tr>\n",
              "    <tr>\n",
              "      <th>75%</th>\n",
              "      <td>275.750000</td>\n",
              "      <td>126.000000</td>\n",
              "      <td>3614.750000</td>\n",
              "      <td>17.025000</td>\n",
              "    </tr>\n",
              "    <tr>\n",
              "      <th>max</th>\n",
              "      <td>455.000000</td>\n",
              "      <td>230.000000</td>\n",
              "      <td>5140.000000</td>\n",
              "      <td>24.800000</td>\n",
              "    </tr>\n",
              "  </tbody>\n",
              "</table>\n",
              "</div>\n",
              "      <button class=\"colab-df-convert\" onclick=\"convertToInteractive('df-aee459cd-e7d1-4c8e-9c29-14371f700f0b')\"\n",
              "              title=\"Convert this dataframe to an interactive table.\"\n",
              "              style=\"display:none;\">\n",
              "        \n",
              "  <svg xmlns=\"http://www.w3.org/2000/svg\" height=\"24px\"viewBox=\"0 0 24 24\"\n",
              "       width=\"24px\">\n",
              "    <path d=\"M0 0h24v24H0V0z\" fill=\"none\"/>\n",
              "    <path d=\"M18.56 5.44l.94 2.06.94-2.06 2.06-.94-2.06-.94-.94-2.06-.94 2.06-2.06.94zm-11 1L8.5 8.5l.94-2.06 2.06-.94-2.06-.94L8.5 2.5l-.94 2.06-2.06.94zm10 10l.94 2.06.94-2.06 2.06-.94-2.06-.94-.94-2.06-.94 2.06-2.06.94z\"/><path d=\"M17.41 7.96l-1.37-1.37c-.4-.4-.92-.59-1.43-.59-.52 0-1.04.2-1.43.59L10.3 9.45l-7.72 7.72c-.78.78-.78 2.05 0 2.83L4 21.41c.39.39.9.59 1.41.59.51 0 1.02-.2 1.41-.59l7.78-7.78 2.81-2.81c.8-.78.8-2.07 0-2.86zM5.41 20L4 18.59l7.72-7.72 1.47 1.35L5.41 20z\"/>\n",
              "  </svg>\n",
              "      </button>\n",
              "      \n",
              "  <style>\n",
              "    .colab-df-container {\n",
              "      display:flex;\n",
              "      flex-wrap:wrap;\n",
              "      gap: 12px;\n",
              "    }\n",
              "\n",
              "    .colab-df-convert {\n",
              "      background-color: #E8F0FE;\n",
              "      border: none;\n",
              "      border-radius: 50%;\n",
              "      cursor: pointer;\n",
              "      display: none;\n",
              "      fill: #1967D2;\n",
              "      height: 32px;\n",
              "      padding: 0 0 0 0;\n",
              "      width: 32px;\n",
              "    }\n",
              "\n",
              "    .colab-df-convert:hover {\n",
              "      background-color: #E2EBFA;\n",
              "      box-shadow: 0px 1px 2px rgba(60, 64, 67, 0.3), 0px 1px 3px 1px rgba(60, 64, 67, 0.15);\n",
              "      fill: #174EA6;\n",
              "    }\n",
              "\n",
              "    [theme=dark] .colab-df-convert {\n",
              "      background-color: #3B4455;\n",
              "      fill: #D2E3FC;\n",
              "    }\n",
              "\n",
              "    [theme=dark] .colab-df-convert:hover {\n",
              "      background-color: #434B5C;\n",
              "      box-shadow: 0px 1px 3px 1px rgba(0, 0, 0, 0.15);\n",
              "      filter: drop-shadow(0px 1px 2px rgba(0, 0, 0, 0.3));\n",
              "      fill: #FFFFFF;\n",
              "    }\n",
              "  </style>\n",
              "\n",
              "      <script>\n",
              "        const buttonEl =\n",
              "          document.querySelector('#df-aee459cd-e7d1-4c8e-9c29-14371f700f0b button.colab-df-convert');\n",
              "        buttonEl.style.display =\n",
              "          google.colab.kernel.accessAllowed ? 'block' : 'none';\n",
              "\n",
              "        async function convertToInteractive(key) {\n",
              "          const element = document.querySelector('#df-aee459cd-e7d1-4c8e-9c29-14371f700f0b');\n",
              "          const dataTable =\n",
              "            await google.colab.kernel.invokeFunction('convertToInteractive',\n",
              "                                                     [key], {});\n",
              "          if (!dataTable) return;\n",
              "\n",
              "          const docLinkHtml = 'Like what you see? Visit the ' +\n",
              "            '<a target=\"_blank\" href=https://colab.research.google.com/notebooks/data_table.ipynb>data table notebook</a>'\n",
              "            + ' to learn more about interactive tables.';\n",
              "          element.innerHTML = '';\n",
              "          dataTable['output_type'] = 'display_data';\n",
              "          await google.colab.output.renderOutput(dataTable, element);\n",
              "          const docLink = document.createElement('div');\n",
              "          docLink.innerHTML = docLinkHtml;\n",
              "          element.appendChild(docLink);\n",
              "        }\n",
              "      </script>\n",
              "    </div>\n",
              "  </div>\n",
              "  "
            ]
          },
          "metadata": {},
          "execution_count": 102
        }
      ]
    },
    {
      "cell_type": "markdown",
      "source": [
        "**Scaling of Data**\n",
        "For scalling the x "
      ],
      "metadata": {
        "id": "LqOFzkXPzg9n"
      }
    },
    {
      "cell_type": "code",
      "source": [
        "#import library\n",
        "from sklearn.preprocessing import StandardScaler\n",
        " "
      ],
      "metadata": {
        "id": "oou9KyVczJFx"
      },
      "execution_count": null,
      "outputs": []
    },
    {
      "cell_type": "code",
      "source": [
        "scale = StandardScaler()"
      ],
      "metadata": {
        "id": "ZsAV5gTY0Hsd"
      },
      "execution_count": null,
      "outputs": []
    },
    {
      "cell_type": "code",
      "source": [
        "X = scale.fit_transform(x)"
      ],
      "metadata": {
        "id": "DIiXeQBI0NId"
      },
      "execution_count": null,
      "outputs": []
    },
    {
      "cell_type": "code",
      "source": [
        "X"
      ],
      "metadata": {
        "colab": {
          "base_uri": "https://localhost:8080/"
        },
        "id": "sqC0kG721dNn",
        "outputId": "13fb91a9-22e2-49c0-a27a-6c3be042c1e7"
      },
      "execution_count": null,
      "outputs": [
        {
          "output_type": "execute_result",
          "data": {
            "text/plain": [
              "array([[ 1.07728956,  0.66413273,  0.62054034, -1.285258  ],\n",
              "       [ 1.48873169,  1.57459447,  0.84333403, -1.46672362],\n",
              "       [ 1.1825422 ,  1.18439658,  0.54038176, -1.64818924],\n",
              "       ...,\n",
              "       [-0.56847897, -0.53247413, -0.80463202, -1.4304305 ],\n",
              "       [-0.7120053 , -0.66254009, -0.41562716,  1.11008813],\n",
              "       [-0.72157372, -0.58450051, -0.30364091,  1.40043312]])"
            ]
          },
          "metadata": {},
          "execution_count": 106
        }
      ]
    },
    {
      "cell_type": "markdown",
      "source": [
        "**Train Test Split data**"
      ],
      "metadata": {
        "id": "wvZzg4OE0z4O"
      }
    },
    {
      "cell_type": "code",
      "source": [
        "#import \n",
        "from sklearn.model_selection import train_test_split"
      ],
      "metadata": {
        "id": "1F3vek6i0c7A"
      },
      "execution_count": null,
      "outputs": []
    },
    {
      "cell_type": "code",
      "source": [
        "X_train, X_test, Y_train, Y_test = train_test_split(X, y, train_size=0.7, random_state=2529)"
      ],
      "metadata": {
        "id": "xGaD2RDX1Cc4"
      },
      "execution_count": null,
      "outputs": []
    },
    {
      "cell_type": "code",
      "source": [
        "X_train.shape, X_test.shape, Y_train.shape, Y_test.shape"
      ],
      "metadata": {
        "colab": {
          "base_uri": "https://localhost:8080/"
        },
        "id": "diis5ORH2oiD",
        "outputId": "daaa5747-3060-4f1c-fb12-35f076b2e97a"
      },
      "execution_count": null,
      "outputs": [
        {
          "output_type": "execute_result",
          "data": {
            "text/plain": [
              "((274, 4), (118, 4), (274,), (118,))"
            ]
          },
          "metadata": {},
          "execution_count": 109
        }
      ]
    },
    {
      "cell_type": "markdown",
      "source": [
        "**Linear Regression Modle**"
      ],
      "metadata": {
        "id": "s5W4X-SA3ApP"
      }
    },
    {
      "cell_type": "code",
      "source": [
        "#import library\n",
        "from sklearn.linear_model import LinearRegression"
      ],
      "metadata": {
        "id": "d-FZfTAW2yx_"
      },
      "execution_count": null,
      "outputs": []
    },
    {
      "cell_type": "code",
      "source": [
        "Lr = LinearRegression()"
      ],
      "metadata": {
        "id": "XxoCOz5D3Pie"
      },
      "execution_count": null,
      "outputs": []
    },
    {
      "cell_type": "code",
      "source": [
        "Lr.fit(X_train,Y_train)"
      ],
      "metadata": {
        "colab": {
          "base_uri": "https://localhost:8080/"
        },
        "id": "Tc8gSBbj3Txu",
        "outputId": "6b78eb1a-56de-4afd-d827-13a61609acbe"
      },
      "execution_count": null,
      "outputs": [
        {
          "output_type": "execute_result",
          "data": {
            "text/plain": [
              "LinearRegression()"
            ]
          },
          "metadata": {},
          "execution_count": 112
        }
      ]
    },
    {
      "cell_type": "code",
      "source": [
        "Lr.intercept_"
      ],
      "metadata": {
        "colab": {
          "base_uri": "https://localhost:8080/"
        },
        "id": "rkhux6a33ce_",
        "outputId": "14ed8114-b48a-4bcf-9936-e77f2a765b54"
      },
      "execution_count": null,
      "outputs": [
        {
          "output_type": "execute_result",
          "data": {
            "text/plain": [
              "23.485738559737584"
            ]
          },
          "metadata": {},
          "execution_count": 113
        }
      ]
    },
    {
      "cell_type": "code",
      "source": [
        "Lr.coef_"
      ],
      "metadata": {
        "colab": {
          "base_uri": "https://localhost:8080/"
        },
        "id": "UtNgD2xg3fKu",
        "outputId": "eccff4db-af91-4d82-fd76-c26a23419417"
      },
      "execution_count": null,
      "outputs": [
        {
          "output_type": "execute_result",
          "data": {
            "text/plain": [
              "array([-1.05767743, -1.68734727, -4.10787617, -0.11495177])"
            ]
          },
          "metadata": {},
          "execution_count": 114
        }
      ]
    },
    {
      "cell_type": "markdown",
      "source": [
        "**Mileage = 23.48 - 1.05displacement -1.68horsepower -4.10weight -0.11acceleration +error**"
      ],
      "metadata": {
        "id": "7-p8hlTB3kwy"
      }
    },
    {
      "cell_type": "markdown",
      "source": [
        " -\n",
        " \n",
        "\n",
        "**Predict Test Data**"
      ],
      "metadata": {
        "id": "AcY1y6ak4e-7"
      }
    },
    {
      "cell_type": "code",
      "source": [
        "y_pred = Lr.predict(X_test)"
      ],
      "metadata": {
        "id": "UUy4gF3l3h-n"
      },
      "execution_count": null,
      "outputs": []
    },
    {
      "cell_type": "code",
      "source": [
        "y_pred"
      ],
      "metadata": {
        "colab": {
          "base_uri": "https://localhost:8080/"
        },
        "id": "gC0sGXWA4vQ-",
        "outputId": "f3c6ffa4-514f-401b-be28-6abc5bc5d2ec"
      },
      "execution_count": null,
      "outputs": [
        {
          "output_type": "execute_result",
          "data": {
            "text/plain": [
              "array([18.51865637, 15.09305675, 14.30128789, 23.6753321 , 29.7546115 ,\n",
              "       23.68796629, 26.61066644, 24.56692437, 15.06260986, 11.94312046,\n",
              "       24.08050053, 27.96518468, 31.66130278, 31.01309132, 18.32428976,\n",
              "       19.32795009, 28.08847536, 32.1506879 , 31.15859692, 27.15792144,\n",
              "       18.82433097, 22.54580176, 26.15598115, 32.36393869, 20.74377679,\n",
              "        8.78027518, 22.19699435, 18.20614294, 25.00052718, 15.26421552,\n",
              "       23.13441082, 17.10542257,  9.87180062, 30.00790415, 20.41204655,\n",
              "       29.11860245, 24.4305187 , 21.72601835, 10.51174626, 13.12426391,\n",
              "       21.41938406, 19.96113872,  6.19146626, 17.79025345, 22.5493033 ,\n",
              "       29.34765021, 13.4861847 , 25.88852083, 29.40406946, 22.41841964,\n",
              "       22.07684766, 16.46575802, 24.06290693, 30.12890046, 10.11318121,\n",
              "        9.85011438, 28.07543852, 23.41426617, 20.08501128, 30.68234133,\n",
              "       20.92026393, 26.78370281, 22.9078744 , 14.15936872, 24.6439883 ,\n",
              "       26.95515832, 15.25709393, 24.11272087, 30.80980589, 14.9770217 ,\n",
              "       27.67836372, 24.2372919 , 10.92177228, 30.22858779, 30.88687365,\n",
              "       27.33992044, 31.18447082, 10.8873597 , 27.63510608, 16.49231363,\n",
              "       25.63229888, 29.49776285, 14.90393439, 32.78670687, 30.37325244,\n",
              "       30.9262743 , 14.71702373, 27.09633246, 26.69933806, 29.06424799,\n",
              "       32.45810182, 29.44846898, 31.61239999, 31.57891837, 21.46542321,\n",
              "       31.76739191, 26.28605476, 28.96419915, 31.09628395, 24.80549594,\n",
              "       18.76490961, 23.28043777, 23.04466919, 22.14143162, 15.95854367,\n",
              "       28.62870918, 25.58809869, 11.4040908 , 25.73334842, 30.83500051,\n",
              "       21.94176255, 15.34532941, 30.37399213, 28.7620624 , 29.3639931 ,\n",
              "       29.10476703, 20.44662365, 28.11466839])"
            ]
          },
          "metadata": {},
          "execution_count": 116
        }
      ]
    },
    {
      "cell_type": "markdown",
      "source": [
        "**Model Accuracy**"
      ],
      "metadata": {
        "id": "4gK1lRbA41dO"
      }
    },
    {
      "cell_type": "code",
      "source": [
        "#import required library\n",
        "from sklearn.metrics import mean_absolute_percentage_error, mean_absolute_error, r2_score"
      ],
      "metadata": {
        "id": "EpgCQYKh4yhl"
      },
      "execution_count": null,
      "outputs": []
    },
    {
      "cell_type": "code",
      "source": [
        "error = mean_absolute_error(Y_test,y_pred)"
      ],
      "metadata": {
        "id": "cyFdbQ9P5S61"
      },
      "execution_count": null,
      "outputs": []
    },
    {
      "cell_type": "code",
      "source": [
        "percnterror = mean_absolute_percentage_error(Y_test,y_pred)"
      ],
      "metadata": {
        "id": "N4ibdnFH5hCt"
      },
      "execution_count": null,
      "outputs": []
    },
    {
      "cell_type": "code",
      "source": [
        "print(error,\"   \" ,percnterror)"
      ],
      "metadata": {
        "colab": {
          "base_uri": "https://localhost:8080/"
        },
        "id": "jKb17ljA5x3N",
        "outputId": "6b721a0e-7f84-4f91-b347-7b59c7b86c36"
      },
      "execution_count": null,
      "outputs": [
        {
          "output_type": "stream",
          "name": "stdout",
          "text": [
            "3.3286968643244106     0.14713035779536746\n"
          ]
        }
      ]
    },
    {
      "cell_type": "code",
      "source": [
        "r2_score(Y_test,y_pred)"
      ],
      "metadata": {
        "colab": {
          "base_uri": "https://localhost:8080/"
        },
        "id": "I5TFXXvc5240",
        "outputId": "4f4eb28d-9749-45ca-b8cf-bd967975f5bb"
      },
      "execution_count": null,
      "outputs": [
        {
          "output_type": "execute_result",
          "data": {
            "text/plain": [
              "0.7031250746717692"
            ]
          },
          "metadata": {},
          "execution_count": 121
        }
      ]
    },
    {
      "cell_type": "markdown",
      "source": [
        "**We see  that the model is no linear somthing like degree 2 curvature so we need polynomial regression.**"
      ],
      "metadata": {
        "id": "wmHLh1_J7LVM"
      }
    },
    {
      "cell_type": "markdown",
      "source": [
        "### Polynomial Regression"
      ],
      "metadata": {
        "id": "MEx8VjxM7lpl"
      }
    },
    {
      "cell_type": "code",
      "source": [
        "#import and fit the data set for polynomial Regression\n",
        "from sklearn.preprocessing import PolynomialFeatures"
      ],
      "metadata": {
        "id": "Rkz6hQ126R4-"
      },
      "execution_count": null,
      "outputs": []
    },
    {
      "cell_type": "code",
      "source": [
        "poly = PolynomialFeatures(degree=2,interaction_only=True,include_bias=False,order='F')"
      ],
      "metadata": {
        "id": "Zq3DfZlB73ci"
      },
      "execution_count": null,
      "outputs": []
    },
    {
      "cell_type": "code",
      "source": [
        "X_train2=poly.fit_transform(X_train)\n",
        "X_test2=poly.fit_transform(X_test)"
      ],
      "metadata": {
        "id": "vp_rEaJK84t3"
      },
      "execution_count": null,
      "outputs": []
    },
    {
      "cell_type": "code",
      "source": [
        "Lr.fit(X_train2,Y_train)"
      ],
      "metadata": {
        "colab": {
          "base_uri": "https://localhost:8080/"
        },
        "id": "ZBIPZel29KCC",
        "outputId": "c799b09e-78c6-4319-d183-4da2b64db118"
      },
      "execution_count": null,
      "outputs": [
        {
          "output_type": "execute_result",
          "data": {
            "text/plain": [
              "LinearRegression()"
            ]
          },
          "metadata": {},
          "execution_count": 125
        }
      ]
    },
    {
      "cell_type": "code",
      "source": [
        "Lr.intercept_"
      ],
      "metadata": {
        "colab": {
          "base_uri": "https://localhost:8080/"
        },
        "id": "VuaCsqmJ9Uv6",
        "outputId": "b44412d0-f23e-489e-8ae3-11fa9b5c7529"
      },
      "execution_count": null,
      "outputs": [
        {
          "output_type": "execute_result",
          "data": {
            "text/plain": [
              "21.273364500637655"
            ]
          },
          "metadata": {},
          "execution_count": 126
        }
      ]
    },
    {
      "cell_type": "code",
      "source": [
        "Lr.coef_"
      ],
      "metadata": {
        "colab": {
          "base_uri": "https://localhost:8080/"
        },
        "id": "NQ7P4YWD9Yrx",
        "outputId": "0b0730c6-20bf-4860-d0ad-fb28c07beff1"
      },
      "execution_count": null,
      "outputs": [
        {
          "output_type": "execute_result",
          "data": {
            "text/plain": [
              "array([-2.76070596, -5.00559628, -1.36884133, -0.81225214,  1.24596571,\n",
              "       -0.12475017, -0.90542822,  1.35064048, -0.17337823,  1.41680398])"
            ]
          },
          "metadata": {},
          "execution_count": 127
        }
      ]
    },
    {
      "cell_type": "code",
      "source": [
        "#Pridict the now polynomial regression\n",
        "\n",
        "y_pred_poly = Lr.predict(X_test2)"
      ],
      "metadata": {
        "id": "-EKXvCwQ9br5"
      },
      "execution_count": null,
      "outputs": []
    },
    {
      "cell_type": "markdown",
      "source": [
        "**Model Accuracy** check"
      ],
      "metadata": {
        "id": "Uf0buz8I9zQP"
      }
    },
    {
      "cell_type": "code",
      "source": [
        "mean_absolute_error(Y_test,y_pred_poly)"
      ],
      "metadata": {
        "colab": {
          "base_uri": "https://localhost:8080/"
        },
        "id": "yYUJHyzk9xZC",
        "outputId": "4abb86f4-a747-4d28-adae-9a63bd3f0846"
      },
      "execution_count": null,
      "outputs": [
        {
          "output_type": "execute_result",
          "data": {
            "text/plain": [
              "2.788714772029598"
            ]
          },
          "metadata": {},
          "execution_count": 129
        }
      ]
    },
    {
      "cell_type": "code",
      "source": [
        "mean_absolute_percentage_error(Y_test, y_pred_poly)"
      ],
      "metadata": {
        "colab": {
          "base_uri": "https://localhost:8080/"
        },
        "id": "JASdAAif-D-x",
        "outputId": "132169a9-181f-40ac-98c5-5fd34f7f3d87"
      },
      "execution_count": null,
      "outputs": [
        {
          "output_type": "execute_result",
          "data": {
            "text/plain": [
              "0.12074018342938689"
            ]
          },
          "metadata": {},
          "execution_count": 130
        }
      ]
    },
    {
      "cell_type": "code",
      "source": [
        "print(\"Previously error ={} and percentage error is {}\".format(error,percnterror))"
      ],
      "metadata": {
        "colab": {
          "base_uri": "https://localhost:8080/"
        },
        "id": "4zY5tOPX-K6x",
        "outputId": "d63409b2-c4f2-4970-b7c5-718ecf0411a8"
      },
      "execution_count": null,
      "outputs": [
        {
          "output_type": "stream",
          "name": "stdout",
          "text": [
            "Previously error =3.3286968643244106 and percentage error is 0.14713035779536746\n"
          ]
        }
      ]
    },
    {
      "cell_type": "code",
      "source": [
        "r2_score(Y_test,y_pred_poly)"
      ],
      "metadata": {
        "colab": {
          "base_uri": "https://localhost:8080/"
        },
        "id": "5OldQ6ZC-brZ",
        "outputId": "48bd650a-253c-423a-ec0e-ef9af19b9af1"
      },
      "execution_count": null,
      "outputs": [
        {
          "output_type": "execute_result",
          "data": {
            "text/plain": [
              "0.7461731314563802"
            ]
          },
          "metadata": {},
          "execution_count": 132
        }
      ]
    },
    {
      "cell_type": "code",
      "source": [
        ""
      ],
      "metadata": {
        "id": "WshEMH2i-wVl"
      },
      "execution_count": null,
      "outputs": []
    },
    {
      "cell_type": "markdown",
      "source": [
        "# Supervised Machine Learing - Classification\n",
        "**Project - 2**"
      ],
      "metadata": {
        "id": "Z2HpC0CcADhn"
      }
    },
    {
      "cell_type": "markdown",
      "source": [
        "## Hand Written Digit Prediction - Classification Analysis"
      ],
      "metadata": {
        "id": "msBRYBg4AMiI"
      }
    },
    {
      "cell_type": "markdown",
      "source": [
        "**The digitts dataset consists of 8x8 pixel images of digits. The images attribute of the dataset stores 8x8 arrays of grayscale values of each image. We will use theese arrays to visualize the first 4 images. The target attribute of the dataset stores the digit each image represents**\n",
        "\n",
        "Data set availabe in sklearn library"
      ],
      "metadata": {
        "id": "HKOrOmliB_SB"
      }
    },
    {
      "cell_type": "markdown",
      "source": [
        "*Import Library*"
      ],
      "metadata": {
        "id": "BfHSGvBuChz8"
      }
    },
    {
      "cell_type": "code",
      "source": [
        "#import required library\n",
        "import pandas as pd\n",
        "import numpy as np\n",
        "import matplotlib.pyplot as plt\n",
        "import seaborn as sns"
      ],
      "metadata": {
        "id": "eukPXiaCAIrY"
      },
      "execution_count": null,
      "outputs": []
    },
    {
      "cell_type": "markdown",
      "source": [
        "*Import Data*"
      ],
      "metadata": {
        "id": "ZIsxZ3cgDAsf"
      }
    },
    {
      "cell_type": "code",
      "source": [
        "from sklearn.datasets import load_digits\n",
        "df = load_digits()"
      ],
      "metadata": {
        "id": "cltT7j7CC-tz"
      },
      "execution_count": null,
      "outputs": []
    },
    {
      "cell_type": "code",
      "source": [
        "df"
      ],
      "metadata": {
        "colab": {
          "base_uri": "https://localhost:8080/"
        },
        "id": "heK2RQTRDgnd",
        "outputId": "ed5acddb-bd86-40eb-e15a-903c83a6bf7b"
      },
      "execution_count": null,
      "outputs": [
        {
          "output_type": "execute_result",
          "data": {
            "text/plain": [
              "{'DESCR': \".. _digits_dataset:\\n\\nOptical recognition of handwritten digits dataset\\n--------------------------------------------------\\n\\n**Data Set Characteristics:**\\n\\n    :Number of Instances: 1797\\n    :Number of Attributes: 64\\n    :Attribute Information: 8x8 image of integer pixels in the range 0..16.\\n    :Missing Attribute Values: None\\n    :Creator: E. Alpaydin (alpaydin '@' boun.edu.tr)\\n    :Date: July; 1998\\n\\nThis is a copy of the test set of the UCI ML hand-written digits datasets\\nhttps://archive.ics.uci.edu/ml/datasets/Optical+Recognition+of+Handwritten+Digits\\n\\nThe data set contains images of hand-written digits: 10 classes where\\neach class refers to a digit.\\n\\nPreprocessing programs made available by NIST were used to extract\\nnormalized bitmaps of handwritten digits from a preprinted form. From a\\ntotal of 43 people, 30 contributed to the training set and different 13\\nto the test set. 32x32 bitmaps are divided into nonoverlapping blocks of\\n4x4 and the number of on pixels are counted in each block. This generates\\nan input matrix of 8x8 where each element is an integer in the range\\n0..16. This reduces dimensionality and gives invariance to small\\ndistortions.\\n\\nFor info on NIST preprocessing routines, see M. D. Garris, J. L. Blue, G.\\nT. Candela, D. L. Dimmick, J. Geist, P. J. Grother, S. A. Janet, and C.\\nL. Wilson, NIST Form-Based Handprint Recognition System, NISTIR 5469,\\n1994.\\n\\n.. topic:: References\\n\\n  - C. Kaynak (1995) Methods of Combining Multiple Classifiers and Their\\n    Applications to Handwritten Digit Recognition, MSc Thesis, Institute of\\n    Graduate Studies in Science and Engineering, Bogazici University.\\n  - E. Alpaydin, C. Kaynak (1998) Cascading Classifiers, Kybernetika.\\n  - Ken Tang and Ponnuthurai N. Suganthan and Xi Yao and A. Kai Qin.\\n    Linear dimensionalityreduction using relevance weighted LDA. School of\\n    Electrical and Electronic Engineering Nanyang Technological University.\\n    2005.\\n  - Claudio Gentile. A New Approximate Maximal Margin Classification\\n    Algorithm. NIPS. 2000.\\n\",\n",
              " 'data': array([[ 0.,  0.,  5., ...,  0.,  0.,  0.],\n",
              "        [ 0.,  0.,  0., ..., 10.,  0.,  0.],\n",
              "        [ 0.,  0.,  0., ..., 16.,  9.,  0.],\n",
              "        ...,\n",
              "        [ 0.,  0.,  1., ...,  6.,  0.,  0.],\n",
              "        [ 0.,  0.,  2., ..., 12.,  0.,  0.],\n",
              "        [ 0.,  0., 10., ..., 12.,  1.,  0.]]),\n",
              " 'feature_names': ['pixel_0_0',\n",
              "  'pixel_0_1',\n",
              "  'pixel_0_2',\n",
              "  'pixel_0_3',\n",
              "  'pixel_0_4',\n",
              "  'pixel_0_5',\n",
              "  'pixel_0_6',\n",
              "  'pixel_0_7',\n",
              "  'pixel_1_0',\n",
              "  'pixel_1_1',\n",
              "  'pixel_1_2',\n",
              "  'pixel_1_3',\n",
              "  'pixel_1_4',\n",
              "  'pixel_1_5',\n",
              "  'pixel_1_6',\n",
              "  'pixel_1_7',\n",
              "  'pixel_2_0',\n",
              "  'pixel_2_1',\n",
              "  'pixel_2_2',\n",
              "  'pixel_2_3',\n",
              "  'pixel_2_4',\n",
              "  'pixel_2_5',\n",
              "  'pixel_2_6',\n",
              "  'pixel_2_7',\n",
              "  'pixel_3_0',\n",
              "  'pixel_3_1',\n",
              "  'pixel_3_2',\n",
              "  'pixel_3_3',\n",
              "  'pixel_3_4',\n",
              "  'pixel_3_5',\n",
              "  'pixel_3_6',\n",
              "  'pixel_3_7',\n",
              "  'pixel_4_0',\n",
              "  'pixel_4_1',\n",
              "  'pixel_4_2',\n",
              "  'pixel_4_3',\n",
              "  'pixel_4_4',\n",
              "  'pixel_4_5',\n",
              "  'pixel_4_6',\n",
              "  'pixel_4_7',\n",
              "  'pixel_5_0',\n",
              "  'pixel_5_1',\n",
              "  'pixel_5_2',\n",
              "  'pixel_5_3',\n",
              "  'pixel_5_4',\n",
              "  'pixel_5_5',\n",
              "  'pixel_5_6',\n",
              "  'pixel_5_7',\n",
              "  'pixel_6_0',\n",
              "  'pixel_6_1',\n",
              "  'pixel_6_2',\n",
              "  'pixel_6_3',\n",
              "  'pixel_6_4',\n",
              "  'pixel_6_5',\n",
              "  'pixel_6_6',\n",
              "  'pixel_6_7',\n",
              "  'pixel_7_0',\n",
              "  'pixel_7_1',\n",
              "  'pixel_7_2',\n",
              "  'pixel_7_3',\n",
              "  'pixel_7_4',\n",
              "  'pixel_7_5',\n",
              "  'pixel_7_6',\n",
              "  'pixel_7_7'],\n",
              " 'frame': None,\n",
              " 'images': array([[[ 0.,  0.,  5., ...,  1.,  0.,  0.],\n",
              "         [ 0.,  0., 13., ..., 15.,  5.,  0.],\n",
              "         [ 0.,  3., 15., ..., 11.,  8.,  0.],\n",
              "         ...,\n",
              "         [ 0.,  4., 11., ..., 12.,  7.,  0.],\n",
              "         [ 0.,  2., 14., ..., 12.,  0.,  0.],\n",
              "         [ 0.,  0.,  6., ...,  0.,  0.,  0.]],\n",
              " \n",
              "        [[ 0.,  0.,  0., ...,  5.,  0.,  0.],\n",
              "         [ 0.,  0.,  0., ...,  9.,  0.,  0.],\n",
              "         [ 0.,  0.,  3., ...,  6.,  0.,  0.],\n",
              "         ...,\n",
              "         [ 0.,  0.,  1., ...,  6.,  0.,  0.],\n",
              "         [ 0.,  0.,  1., ...,  6.,  0.,  0.],\n",
              "         [ 0.,  0.,  0., ..., 10.,  0.,  0.]],\n",
              " \n",
              "        [[ 0.,  0.,  0., ..., 12.,  0.,  0.],\n",
              "         [ 0.,  0.,  3., ..., 14.,  0.,  0.],\n",
              "         [ 0.,  0.,  8., ..., 16.,  0.,  0.],\n",
              "         ...,\n",
              "         [ 0.,  9., 16., ...,  0.,  0.,  0.],\n",
              "         [ 0.,  3., 13., ..., 11.,  5.,  0.],\n",
              "         [ 0.,  0.,  0., ..., 16.,  9.,  0.]],\n",
              " \n",
              "        ...,\n",
              " \n",
              "        [[ 0.,  0.,  1., ...,  1.,  0.,  0.],\n",
              "         [ 0.,  0., 13., ...,  2.,  1.,  0.],\n",
              "         [ 0.,  0., 16., ..., 16.,  5.,  0.],\n",
              "         ...,\n",
              "         [ 0.,  0., 16., ..., 15.,  0.,  0.],\n",
              "         [ 0.,  0., 15., ..., 16.,  0.,  0.],\n",
              "         [ 0.,  0.,  2., ...,  6.,  0.,  0.]],\n",
              " \n",
              "        [[ 0.,  0.,  2., ...,  0.,  0.,  0.],\n",
              "         [ 0.,  0., 14., ..., 15.,  1.,  0.],\n",
              "         [ 0.,  4., 16., ..., 16.,  7.,  0.],\n",
              "         ...,\n",
              "         [ 0.,  0.,  0., ..., 16.,  2.,  0.],\n",
              "         [ 0.,  0.,  4., ..., 16.,  2.,  0.],\n",
              "         [ 0.,  0.,  5., ..., 12.,  0.,  0.]],\n",
              " \n",
              "        [[ 0.,  0., 10., ...,  1.,  0.,  0.],\n",
              "         [ 0.,  2., 16., ...,  1.,  0.,  0.],\n",
              "         [ 0.,  0., 15., ..., 15.,  0.,  0.],\n",
              "         ...,\n",
              "         [ 0.,  4., 16., ..., 16.,  6.,  0.],\n",
              "         [ 0.,  8., 16., ..., 16.,  8.,  0.],\n",
              "         [ 0.,  1.,  8., ..., 12.,  1.,  0.]]]),\n",
              " 'target': array([0, 1, 2, ..., 8, 9, 8]),\n",
              " 'target_names': array([0, 1, 2, 3, 4, 5, 6, 7, 8, 9])}"
            ]
          },
          "metadata": {},
          "execution_count": 3
        }
      ]
    },
    {
      "cell_type": "code",
      "source": [
        "type(df)"
      ],
      "metadata": {
        "colab": {
          "base_uri": "https://localhost:8080/"
        },
        "id": "mspe77zZSfZI",
        "outputId": "557e7f95-d511-45e4-daee-563c7109109d"
      },
      "execution_count": null,
      "outputs": [
        {
          "output_type": "execute_result",
          "data": {
            "text/plain": [
              "sklearn.utils.Bunch"
            ]
          },
          "metadata": {},
          "execution_count": 6
        }
      ]
    },
    {
      "cell_type": "code",
      "source": [
        "for i in range(3):\n",
        "  plt.figure()\n",
        "  plt.imshow(df.images[i], cmap = plt.cm.gray_r, interpolation = 'nearest')\n",
        "  plt.show()"
      ],
      "metadata": {
        "colab": {
          "base_uri": "https://localhost:8080/",
          "height": 761
        },
        "id": "xRXpKu7KE7rJ",
        "outputId": "1f03f704-f66b-4155-9676-dc8df9ee9988"
      },
      "execution_count": null,
      "outputs": [
        {
          "output_type": "display_data",
          "data": {
            "text/plain": [
              "<Figure size 432x288 with 1 Axes>"
            ],
            "image/png": "[encoded data removed]"
          },
          "metadata": {
            "needs_background": "light"
          }
        },
        {
          "output_type": "display_data",
          "data": {
            "text/plain": [
              "<Figure size 432x288 with 1 Axes>"
            ],
            "image/png": "[encoded data removed]"
          },
          "metadata": {
            "needs_background": "light"
          }
        },
        {
          "output_type": "display_data",
          "data": {
            "text/plain": [
              "<Figure size 432x288 with 1 Axes>"
            ],
            "image/png": "[encoded data removed]"
          },
          "metadata": {
            "needs_background": "light"
          }
        }
      ]
    },
    {
      "cell_type": "code",
      "source": [
        "_, axes = plt.subplots(nrows=1, ncols=20)\n",
        "for ax, image, label in zip(axes, df.images, df.target):\n",
        "  ax.set_axis_off()\n",
        "  ax.imshow(image, cmap=plt.cm.gray_r, interpolation = 'nearest')\n"
      ],
      "metadata": {
        "colab": {
          "base_uri": "https://localhost:8080/",
          "height": 45
        },
        "id": "PnIflb-qS3p7",
        "outputId": "8bf97052-89e5-4037-ba2d-2738d026001a"
      },
      "execution_count": null,
      "outputs": [
        {
          "output_type": "display_data",
          "data": {
            "text/plain": [
              "<Figure size 432x288 with 20 Axes>"
            ],
            "image/png": "[encoded data removed]"
          },
          "metadata": {
            "needs_background": "light"
          }
        }
      ]
    },
    {
      "cell_type": "markdown",
      "source": [
        "**Data Preprocession**\n",
        "\n",
        "Flatten Image"
      ],
      "metadata": {
        "id": "ULVgdHubH51h"
      }
    },
    {
      "cell_type": "code",
      "source": [
        "#shape\n",
        "df.images.shape"
      ],
      "metadata": {
        "colab": {
          "base_uri": "https://localhost:8080/"
        },
        "id": "mD9TqFChG_bh",
        "outputId": "bcbbbb76-7b0a-4918-da14-eb914d75bf68"
      },
      "execution_count": null,
      "outputs": [
        {
          "output_type": "execute_result",
          "data": {
            "text/plain": [
              "(1797, 8, 8)"
            ]
          },
          "metadata": {},
          "execution_count": 16
        }
      ]
    },
    {
      "cell_type": "code",
      "source": [
        "df.images[0]"
      ],
      "metadata": {
        "colab": {
          "base_uri": "https://localhost:8080/"
        },
        "id": "9lryvbNxIIrx",
        "outputId": "af085f1d-2c48-4058-bc6d-5c7254b57a3c"
      },
      "execution_count": null,
      "outputs": [
        {
          "output_type": "execute_result",
          "data": {
            "text/plain": [
              "array([[ 0.,  0.,  5., 13.,  9.,  1.,  0.,  0.],\n",
              "       [ 0.,  0., 13., 15., 10., 15.,  5.,  0.],\n",
              "       [ 0.,  3., 15.,  2.,  0., 11.,  8.,  0.],\n",
              "       [ 0.,  4., 12.,  0.,  0.,  8.,  8.,  0.],\n",
              "       [ 0.,  5.,  8.,  0.,  0.,  9.,  8.,  0.],\n",
              "       [ 0.,  4., 11.,  0.,  1., 12.,  7.,  0.],\n",
              "       [ 0.,  2., 14.,  5., 10., 12.,  0.,  0.],\n",
              "       [ 0.,  0.,  6., 13., 10.,  0.,  0.,  0.]])"
            ]
          },
          "metadata": {},
          "execution_count": 17
        }
      ]
    },
    {
      "cell_type": "code",
      "source": [
        "#Shape of one image\n",
        "df.images[0].shape"
      ],
      "metadata": {
        "colab": {
          "base_uri": "https://localhost:8080/"
        },
        "id": "vFOWcJYqIK9h",
        "outputId": "6a17109e-fc2a-42c9-87d7-51433355a7b2"
      },
      "execution_count": null,
      "outputs": [
        {
          "output_type": "execute_result",
          "data": {
            "text/plain": [
              "(8, 8)"
            ]
          },
          "metadata": {},
          "execution_count": 19
        }
      ]
    },
    {
      "cell_type": "code",
      "source": [
        "#number of samples then reshape in flatten\n",
        "n_samples = len(df.images)\n",
        "data = df.images.reshape((n_samples, -1))"
      ],
      "metadata": {
        "id": "wG0X819EIPR6"
      },
      "execution_count": null,
      "outputs": []
    },
    {
      "cell_type": "code",
      "source": [
        "data[0]"
      ],
      "metadata": {
        "colab": {
          "base_uri": "https://localhost:8080/"
        },
        "id": "bTd0WlpKIdto",
        "outputId": "02580d3e-0472-4e05-cb16-84b6108d3bb3"
      },
      "execution_count": null,
      "outputs": [
        {
          "output_type": "execute_result",
          "data": {
            "text/plain": [
              "array([ 0.,  0.,  5., 13.,  9.,  1.,  0.,  0.,  0.,  0., 13., 15., 10.,\n",
              "       15.,  5.,  0.,  0.,  3., 15.,  2.,  0., 11.,  8.,  0.,  0.,  4.,\n",
              "       12.,  0.,  0.,  8.,  8.,  0.,  0.,  5.,  8.,  0.,  0.,  9.,  8.,\n",
              "        0.,  0.,  4., 11.,  0.,  1., 12.,  7.,  0.,  0.,  2., 14.,  5.,\n",
              "       10., 12.,  0.,  0.,  0.,  0.,  6., 13., 10.,  0.,  0.,  0.])"
            ]
          },
          "metadata": {},
          "execution_count": 22
        }
      ]
    },
    {
      "cell_type": "code",
      "source": [
        "data[0].shape"
      ],
      "metadata": {
        "colab": {
          "base_uri": "https://localhost:8080/"
        },
        "id": "2spKcLZ7Ipkh",
        "outputId": "f4d8d226-52a4-4228-fa16-04323fe42f4e"
      },
      "execution_count": null,
      "outputs": [
        {
          "output_type": "execute_result",
          "data": {
            "text/plain": [
              "(64,)"
            ]
          },
          "metadata": {},
          "execution_count": 23
        }
      ]
    },
    {
      "cell_type": "code",
      "source": [
        "data.shape"
      ],
      "metadata": {
        "colab": {
          "base_uri": "https://localhost:8080/"
        },
        "id": "EjQ9htunItO5",
        "outputId": "0734d8be-2df3-4ccb-d5fa-0f9167707058"
      },
      "execution_count": null,
      "outputs": [
        {
          "output_type": "execute_result",
          "data": {
            "text/plain": [
              "(1797, 64)"
            ]
          },
          "metadata": {},
          "execution_count": 24
        }
      ]
    },
    {
      "cell_type": "markdown",
      "source": [
        "*Scaling Data*"
      ],
      "metadata": {
        "id": "M2Rz7xS5Iv_i"
      }
    },
    {
      "cell_type": "code",
      "source": [
        "data"
      ],
      "metadata": {
        "colab": {
          "base_uri": "https://localhost:8080/"
        },
        "id": "_JcCtBOtIuOY",
        "outputId": "eddf2116-adc3-4c80-952e-b78402137dd5"
      },
      "execution_count": null,
      "outputs": [
        {
          "output_type": "execute_result",
          "data": {
            "text/plain": [
              "array([[ 0.,  0.,  5., ...,  0.,  0.,  0.],\n",
              "       [ 0.,  0.,  0., ..., 10.,  0.,  0.],\n",
              "       [ 0.,  0.,  0., ..., 16.,  9.,  0.],\n",
              "       ...,\n",
              "       [ 0.,  0.,  1., ...,  6.,  0.,  0.],\n",
              "       [ 0.,  0.,  2., ..., 12.,  0.,  0.],\n",
              "       [ 0.,  0., 10., ..., 12.,  1.,  0.]])"
            ]
          },
          "metadata": {},
          "execution_count": 25
        }
      ]
    },
    {
      "cell_type": "code",
      "source": [
        "data.min()"
      ],
      "metadata": {
        "colab": {
          "base_uri": "https://localhost:8080/"
        },
        "id": "LYZX3HH7I1IU",
        "outputId": "b10bb31c-4016-4386-a98d-17b364b52a8f"
      },
      "execution_count": null,
      "outputs": [
        {
          "output_type": "execute_result",
          "data": {
            "text/plain": [
              "0.0"
            ]
          },
          "metadata": {},
          "execution_count": 26
        }
      ]
    },
    {
      "cell_type": "code",
      "source": [
        "data.max()"
      ],
      "metadata": {
        "colab": {
          "base_uri": "https://localhost:8080/"
        },
        "id": "Jqx73F40I64s",
        "outputId": "418e7b80-2493-46dd-d095-90f18799a96d"
      },
      "execution_count": null,
      "outputs": [
        {
          "output_type": "execute_result",
          "data": {
            "text/plain": [
              "16.0"
            ]
          },
          "metadata": {},
          "execution_count": 27
        }
      ]
    },
    {
      "cell_type": "code",
      "source": [
        "#Max value is 16 so we need to scale of 1\n",
        "data = data/16"
      ],
      "metadata": {
        "id": "Sqr5zG3oI9Br"
      },
      "execution_count": null,
      "outputs": []
    },
    {
      "cell_type": "code",
      "source": [
        "data.min()"
      ],
      "metadata": {
        "colab": {
          "base_uri": "https://localhost:8080/"
        },
        "id": "n8B_HaiOJSl4",
        "outputId": "94b5ac2f-0651-4f51-b60a-3dd34a6c301f"
      },
      "execution_count": null,
      "outputs": [
        {
          "output_type": "execute_result",
          "data": {
            "text/plain": [
              "0.0"
            ]
          },
          "metadata": {},
          "execution_count": 29
        }
      ]
    },
    {
      "cell_type": "code",
      "source": [
        "data.max()"
      ],
      "metadata": {
        "colab": {
          "base_uri": "https://localhost:8080/"
        },
        "id": "YScqeqoOJVgY",
        "outputId": "6d260794-0a30-4705-f9e7-309630e4377b"
      },
      "execution_count": null,
      "outputs": [
        {
          "output_type": "execute_result",
          "data": {
            "text/plain": [
              "1.0"
            ]
          },
          "metadata": {},
          "execution_count": 30
        }
      ]
    },
    {
      "cell_type": "code",
      "source": [
        "data[0]"
      ],
      "metadata": {
        "colab": {
          "base_uri": "https://localhost:8080/"
        },
        "id": "hlBxcPx-Jzvv",
        "outputId": "00d99a75-cc98-49ec-ef84-2952a03650b9"
      },
      "execution_count": null,
      "outputs": [
        {
          "output_type": "execute_result",
          "data": {
            "text/plain": [
              "array([0.    , 0.    , 0.3125, 0.8125, 0.5625, 0.0625, 0.    , 0.    ,\n",
              "       0.    , 0.    , 0.8125, 0.9375, 0.625 , 0.9375, 0.3125, 0.    ,\n",
              "       0.    , 0.1875, 0.9375, 0.125 , 0.    , 0.6875, 0.5   , 0.    ,\n",
              "       0.    , 0.25  , 0.75  , 0.    , 0.    , 0.5   , 0.5   , 0.    ,\n",
              "       0.    , 0.3125, 0.5   , 0.    , 0.    , 0.5625, 0.5   , 0.    ,\n",
              "       0.    , 0.25  , 0.6875, 0.    , 0.0625, 0.75  , 0.4375, 0.    ,\n",
              "       0.    , 0.125 , 0.875 , 0.3125, 0.625 , 0.75  , 0.    , 0.    ,\n",
              "       0.    , 0.    , 0.375 , 0.8125, 0.625 , 0.    , 0.    , 0.    ])"
            ]
          },
          "metadata": {},
          "execution_count": 31
        }
      ]
    },
    {
      "cell_type": "code",
      "source": [
        "data"
      ],
      "metadata": {
        "colab": {
          "base_uri": "https://localhost:8080/"
        },
        "id": "cQPrMOqgJty7",
        "outputId": "f464631f-e4f0-4623-a498-4052a80c8069"
      },
      "execution_count": null,
      "outputs": [
        {
          "output_type": "execute_result",
          "data": {
            "text/plain": [
              "array([[0.    , 0.    , 0.3125, ..., 0.    , 0.    , 0.    ],\n",
              "       [0.    , 0.    , 0.    , ..., 0.625 , 0.    , 0.    ],\n",
              "       [0.    , 0.    , 0.    , ..., 1.    , 0.5625, 0.    ],\n",
              "       ...,\n",
              "       [0.    , 0.    , 0.0625, ..., 0.375 , 0.    , 0.    ],\n",
              "       [0.    , 0.    , 0.125 , ..., 0.75  , 0.    , 0.    ],\n",
              "       [0.    , 0.    , 0.625 , ..., 0.75  , 0.0625, 0.    ]])"
            ]
          },
          "metadata": {},
          "execution_count": 32
        }
      ]
    },
    {
      "cell_type": "markdown",
      "source": [
        "**Train Test Split Data**"
      ],
      "metadata": {
        "id": "XPhzkWXvJlFy"
      }
    },
    {
      "cell_type": "code",
      "source": [
        "from sklearn.model_selection import train_test_split\n"
      ],
      "metadata": {
        "id": "hAF7xSWqJYbI"
      },
      "execution_count": null,
      "outputs": []
    },
    {
      "cell_type": "code",
      "source": [
        "x_train, x_test, y_train, y_test = train_test_split(data, df.target, test_size=0.3, random_state=2529)"
      ],
      "metadata": {
        "id": "vfU30CByKF9J"
      },
      "execution_count": null,
      "outputs": []
    },
    {
      "cell_type": "code",
      "source": [
        "x_train.shape, x_test.shape, y_train.shape, y_test.shape"
      ],
      "metadata": {
        "colab": {
          "base_uri": "https://localhost:8080/"
        },
        "id": "II4JsnhSKlFG",
        "outputId": "5bf14f45-e9e5-462b-8b60-80c604bf4682"
      },
      "execution_count": null,
      "outputs": [
        {
          "output_type": "execute_result",
          "data": {
            "text/plain": [
              "((1257, 64), (540, 64), (1257,), (540,))"
            ]
          },
          "metadata": {},
          "execution_count": 35
        }
      ]
    },
    {
      "cell_type": "markdown",
      "source": [
        "### Random Forest Model"
      ],
      "metadata": {
        "id": "ilgv0xhpLHTj"
      }
    },
    {
      "cell_type": "code",
      "source": [
        "from sklearn.ensemble import RandomForestClassifier"
      ],
      "metadata": {
        "id": "GHbEaFkILFc_"
      },
      "execution_count": null,
      "outputs": []
    },
    {
      "cell_type": "code",
      "source": [
        "model = RandomForestClassifier(n_estimators=500)"
      ],
      "metadata": {
        "id": "buvEX4MWLVKX"
      },
      "execution_count": null,
      "outputs": []
    },
    {
      "cell_type": "code",
      "source": [
        "model.fit(x_train,y_train)"
      ],
      "metadata": {
        "colab": {
          "base_uri": "https://localhost:8080/"
        },
        "id": "oHtTHBZfLZjj",
        "outputId": "91a2519d-8138-4908-94bb-fb9451b388c7"
      },
      "execution_count": null,
      "outputs": [
        {
          "output_type": "execute_result",
          "data": {
            "text/plain": [
              "RandomForestClassifier(n_estimators=500)"
            ]
          },
          "metadata": {},
          "execution_count": 38
        }
      ]
    },
    {
      "cell_type": "code",
      "source": [
        "#Predict Test Data\n",
        "y_predic = model.predict(x_test)"
      ],
      "metadata": {
        "id": "Y04-K8wvLh3z"
      },
      "execution_count": null,
      "outputs": []
    },
    {
      "cell_type": "code",
      "source": [
        "y_predic"
      ],
      "metadata": {
        "colab": {
          "base_uri": "https://localhost:8080/"
        },
        "id": "qvetsi1HLvkF",
        "outputId": "49d813cd-65fb-4b24-bceb-a0572602c0c6"
      },
      "execution_count": null,
      "outputs": [
        {
          "output_type": "execute_result",
          "data": {
            "text/plain": [
              "array([1, 9, 4, 1, 1, 0, 6, 9, 6, 0, 0, 9, 6, 4, 5, 6, 8, 8, 8, 3, 0, 1,\n",
              "       2, 0, 8, 3, 1, 1, 7, 5, 0, 4, 1, 9, 5, 5, 4, 7, 1, 5, 7, 5, 7, 3,\n",
              "       3, 7, 6, 1, 9, 8, 0, 9, 7, 1, 9, 3, 4, 0, 8, 3, 0, 9, 8, 1, 5, 5,\n",
              "       0, 5, 7, 9, 5, 2, 6, 8, 4, 2, 2, 2, 8, 0, 4, 2, 1, 0, 7, 5, 5, 2,\n",
              "       1, 4, 9, 2, 4, 8, 2, 4, 9, 5, 4, 5, 1, 7, 1, 7, 7, 4, 2, 0, 0, 5,\n",
              "       1, 5, 7, 0, 1, 1, 5, 2, 5, 6, 8, 5, 7, 1, 1, 1, 9, 6, 9, 8, 7, 8,\n",
              "       7, 4, 7, 2, 9, 1, 8, 1, 2, 0, 8, 1, 2, 6, 3, 2, 3, 3, 1, 2, 1, 6,\n",
              "       9, 8, 9, 1, 4, 1, 7, 4, 5, 9, 1, 0, 6, 1, 7, 8, 1, 0, 7, 2, 3, 5,\n",
              "       5, 5, 1, 9, 5, 9, 5, 0, 1, 0, 3, 2, 9, 0, 8, 3, 5, 7, 3, 9, 8, 7,\n",
              "       4, 1, 6, 7, 8, 2, 6, 0, 6, 0, 7, 3, 1, 6, 2, 4, 6, 8, 5, 6, 2, 6,\n",
              "       5, 8, 7, 4, 2, 8, 9, 9, 3, 1, 4, 4, 7, 9, 1, 6, 3, 1, 9, 6, 4, 5,\n",
              "       0, 4, 2, 9, 0, 2, 0, 3, 8, 1, 2, 9, 1, 5, 2, 7, 0, 7, 9, 6, 6, 3,\n",
              "       1, 6, 3, 3, 6, 1, 1, 3, 5, 7, 8, 1, 5, 1, 0, 3, 7, 2, 7, 8, 7, 8,\n",
              "       8, 3, 3, 5, 9, 5, 7, 2, 0, 7, 7, 0, 6, 4, 1, 2, 4, 6, 5, 2, 4, 4,\n",
              "       1, 4, 9, 6, 4, 6, 4, 3, 3, 7, 5, 8, 1, 3, 0, 5, 2, 4, 5, 5, 8, 9,\n",
              "       9, 9, 4, 3, 2, 6, 3, 7, 6, 7, 1, 9, 2, 0, 1, 1, 2, 5, 8, 3, 1, 2,\n",
              "       3, 4, 5, 2, 9, 3, 2, 2, 8, 4, 1, 6, 2, 5, 3, 5, 1, 8, 5, 3, 8, 7,\n",
              "       7, 5, 5, 7, 0, 3, 8, 9, 8, 1, 6, 4, 7, 4, 3, 0, 0, 6, 6, 3, 6, 6,\n",
              "       5, 4, 9, 1, 1, 8, 4, 2, 3, 8, 3, 6, 9, 7, 2, 3, 5, 8, 5, 1, 9, 1,\n",
              "       7, 2, 4, 5, 2, 2, 9, 3, 4, 7, 1, 8, 9, 3, 6, 1, 8, 9, 4, 5, 4, 9,\n",
              "       3, 2, 2, 4, 1, 9, 8, 9, 0, 2, 5, 8, 5, 2, 5, 3, 1, 8, 9, 1, 6, 3,\n",
              "       4, 5, 8, 1, 0, 3, 6, 5, 1, 7, 0, 6, 0, 4, 8, 7, 6, 8, 2, 6, 6, 3,\n",
              "       5, 7, 7, 7, 0, 7, 6, 4, 4, 8, 7, 2, 6, 9, 7, 2, 4, 2, 1, 4, 6, 8,\n",
              "       5, 3, 3, 4, 4, 3, 4, 2, 0, 0, 2, 2, 2, 9, 1, 0, 1, 5, 5, 2, 5, 4,\n",
              "       7, 1, 2, 6, 2, 4, 2, 3, 6, 2, 3, 4])"
            ]
          },
          "metadata": {},
          "execution_count": 40
        }
      ]
    },
    {
      "cell_type": "markdown",
      "source": [
        "**Model Accuracy**"
      ],
      "metadata": {
        "id": "rkVKYwMqMwZw"
      }
    },
    {
      "cell_type": "code",
      "source": [
        "from sklearn.metrics import confusion_matrix, classification_report "
      ],
      "metadata": {
        "id": "lsVSMv-QL2Rb"
      },
      "execution_count": null,
      "outputs": []
    },
    {
      "cell_type": "code",
      "source": [
        "print(confusion_matrix(y_test, y_predic))"
      ],
      "metadata": {
        "colab": {
          "base_uri": "https://localhost:8080/"
        },
        "id": "wtI9z4GUM9HO",
        "outputId": "3eaef7d3-86fb-41d0-c867-d4ef4487c80f"
      },
      "execution_count": null,
      "outputs": [
        {
          "output_type": "stream",
          "name": "stdout",
          "text": [
            "[[43  0  0  0  0  0  0  0  0  0]\n",
            " [ 0 64  0  0  0  0  0  0  0  0]\n",
            " [ 0  0 61  0  0  0  0  0  0  0]\n",
            " [ 0  0  0 50  0  1  0  1  0  0]\n",
            " [ 0  0  0  0 53  0  0  0  1  0]\n",
            " [ 0  0  0  0  1 57  0  0  0  0]\n",
            " [ 0  1  0  0  0  1 49  0  1  0]\n",
            " [ 0  0  0  0  0  0  0 50  0  0]\n",
            " [ 0  5  0  1  0  0  0  1 46  0]\n",
            " [ 0  0  0  1  0  2  0  1  1 48]]\n"
          ]
        }
      ]
    },
    {
      "cell_type": "code",
      "source": [
        "print(classification_report(y_test, y_predic))"
      ],
      "metadata": {
        "colab": {
          "base_uri": "https://localhost:8080/"
        },
        "id": "IQv6oBgGNChP",
        "outputId": "ca37d49c-7378-438d-f2a0-e0dbc17d516c"
      },
      "execution_count": null,
      "outputs": [
        {
          "output_type": "stream",
          "name": "stdout",
          "text": [
            "              precision    recall  f1-score   support\n",
            "\n",
            "           0       1.00      1.00      1.00        43\n",
            "           1       0.91      1.00      0.96        64\n",
            "           2       1.00      1.00      1.00        61\n",
            "           3       0.96      0.96      0.96        52\n",
            "           4       0.98      0.98      0.98        54\n",
            "           5       0.93      0.98      0.96        58\n",
            "           6       1.00      0.94      0.97        52\n",
            "           7       0.94      1.00      0.97        50\n",
            "           8       0.94      0.87      0.90        53\n",
            "           9       1.00      0.91      0.95        53\n",
            "\n",
            "    accuracy                           0.96       540\n",
            "   macro avg       0.97      0.96      0.96       540\n",
            "weighted avg       0.97      0.96      0.96       540\n",
            "\n"
          ]
        }
      ]
    },
    {
      "cell_type": "code",
      "source": [
        " "
      ],
      "metadata": {
        "id": "YfvxwCQmNPqU"
      },
      "execution_count": null,
      "outputs": []
    },
    {
      "cell_type": "markdown",
      "source": [
        "# Project - 3\n",
        "\n",
        "Predict Career : Supervised Machine Learning - LinearRegression"
      ],
      "metadata": {
        "id": "8lVjwXeZWl73"
      }
    },
    {
      "cell_type": "markdown",
      "source": [
        "**Dataset:** Dataset have 20000 rows and 39 columns, but for predicting career we can select as per requirement. \n",
        "\n",
        "**Columns** In dataset contain 39 columns, containing various information about student in order to predict Job role for that student.\n",
        "\n",
        "**Problem:** Pridict the Suggested job role using students various data as per your requirement needed to predict the Job.\n"
      ],
      "metadata": {
        "id": "htIE-rF915AH"
      }
    },
    {
      "cell_type": "markdown",
      "source": [
        "## Start"
      ],
      "metadata": {
        "id": "QD-TM6um4GEu"
      }
    },
    {
      "cell_type": "code",
      "source": [
        "# import library\n",
        "import pandas as pd\n",
        "import numpy as np"
      ],
      "metadata": {
        "id": "kFDgb3fbWrCa"
      },
      "execution_count": 33,
      "outputs": []
    },
    {
      "cell_type": "markdown",
      "source": [
        "*Import dataset for prediction* \n",
        "**Github link of dataset** \n",
        "https://raw.githubusercontent.com/Amitesh-191885/hackathon2022/main/dataset.csv"
      ],
      "metadata": {
        "id": "CsA5fChCXLsR"
      }
    },
    {
      "cell_type": "code",
      "source": [
        "url = \"https://raw.githubusercontent.com/Amitesh-191885/hackathon2022/main/dataset.csv\"\n",
        "df_career = pd.read_csv(url)"
      ],
      "metadata": {
        "id": "J6CQbD23WzVo"
      },
      "execution_count": 34,
      "outputs": []
    },
    {
      "cell_type": "code",
      "source": [
        "df_career.head()"
      ],
      "metadata": {
        "colab": {
          "base_uri": "https://localhost:8080/",
          "height": 456
        },
        "id": "2Q0w2vb3b39u",
        "outputId": "5880d8cc-d340-48e6-ba85-457bb2d60b44"
      },
      "execution_count": 60,
      "outputs": [
        {
          "output_type": "execute_result",
          "data": {
            "text/plain": [
              "   Acedamic percentage in Operating Systems  percentage in Algorithms  \\\n",
              "0                                        69                        63   \n",
              "1                                        78                        62   \n",
              "2                                        71                        86   \n",
              "3                                        76                        87   \n",
              "4                                        92                        62   \n",
              "\n",
              "   Percentage in Programming Concepts  Percentage in Software Engineering  \\\n",
              "0                                  78                                  87   \n",
              "1                                  73                                  60   \n",
              "2                                  91                                  87   \n",
              "3                                  60                                  84   \n",
              "4                                  90                                  67   \n",
              "\n",
              "   Percentage in Computer Networks  Percentage in Electronics Subjects  \\\n",
              "0                               94                                  94   \n",
              "1                               71                                  70   \n",
              "2                               61                                  81   \n",
              "3                               89                                  73   \n",
              "4                               71                                  89   \n",
              "\n",
              "   Percentage in Computer Architecture  Percentage in Mathematics  \\\n",
              "0                                   87                         84   \n",
              "1                                   73                         84   \n",
              "2                                   72                         72   \n",
              "3                                   62                         88   \n",
              "4                                   73                         71   \n",
              "\n",
              "   Percentage in Communication skills  Hours working per day  ...  \\\n",
              "0                                  61                      9  ...   \n",
              "1                                  91                     12  ...   \n",
              "2                                  94                     11  ...   \n",
              "3                                  69                      7  ...   \n",
              "4                                  73                      4  ...   \n",
              "\n",
              "   Interested Type of Books  Salary Range Expected  In a Realtionship?  \\\n",
              "0              Prayer books                 salary                  no   \n",
              "1                 Childrens                 salary                 yes   \n",
              "2                    Travel                   Work                  no   \n",
              "3                   Romance                   Work                 yes   \n",
              "4                 Cookbooks                 salary                  no   \n",
              "\n",
              "   Gentle or Tuff behaviour? Management or Technical Salary/work  \\\n",
              "0                   stubborn                       1      salary   \n",
              "1                     gentle                       1      salary   \n",
              "2                   stubborn                       1        work   \n",
              "3                     gentle                       1        work   \n",
              "4                   stubborn                       1        work   \n",
              "\n",
              "  hard/smart worker worked in teams ever? Introvert Suggested Job Role  \n",
              "0       hard worker                   yes        no                  0  \n",
              "1       hard worker                    no       yes                  1  \n",
              "2       hard worker                    no       yes                  1  \n",
              "3      smart worker                   yes       yes                  2  \n",
              "4       hard worker                   yes       yes                  3  \n",
              "\n",
              "[5 rows x 39 columns]"
            ],
            "text/html": [
              "\n",
              "  <div id=\"df-a2722530-8dca-4196-85fd-8d27d0386993\">\n",
              "    <div class=\"colab-df-container\">\n",
              "      <div>\n",
              "<style scoped>\n",
              "    .dataframe tbody tr th:only-of-type {\n",
              "        vertical-align: middle;\n",
              "    }\n",
              "\n",
              "    .dataframe tbody tr th {\n",
              "        vertical-align: top;\n",
              "    }\n",
              "\n",
              "    .dataframe thead th {\n",
              "        text-align: right;\n",
              "    }\n",
              "</style>\n",
              "<table border=\"1\" class=\"dataframe\">\n",
              "  <thead>\n",
              "    <tr style=\"text-align: right;\">\n",
              "      <th></th>\n",
              "      <th>Acedamic percentage in Operating Systems</th>\n",
              "      <th>percentage in Algorithms</th>\n",
              "      <th>Percentage in Programming Concepts</th>\n",
              "      <th>Percentage in Software Engineering</th>\n",
              "      <th>Percentage in Computer Networks</th>\n",
              "      <th>Percentage in Electronics Subjects</th>\n",
              "      <th>Percentage in Computer Architecture</th>\n",
              "      <th>Percentage in Mathematics</th>\n",
              "      <th>Percentage in Communication skills</th>\n",
              "      <th>Hours working per day</th>\n",
              "      <th>...</th>\n",
              "      <th>Interested Type of Books</th>\n",
              "      <th>Salary Range Expected</th>\n",
              "      <th>In a Realtionship?</th>\n",
              "      <th>Gentle or Tuff behaviour?</th>\n",
              "      <th>Management or Technical</th>\n",
              "      <th>Salary/work</th>\n",
              "      <th>hard/smart worker</th>\n",
              "      <th>worked in teams ever?</th>\n",
              "      <th>Introvert</th>\n",
              "      <th>Suggested Job Role</th>\n",
              "    </tr>\n",
              "  </thead>\n",
              "  <tbody>\n",
              "    <tr>\n",
              "      <th>0</th>\n",
              "      <td>69</td>\n",
              "      <td>63</td>\n",
              "      <td>78</td>\n",
              "      <td>87</td>\n",
              "      <td>94</td>\n",
              "      <td>94</td>\n",
              "      <td>87</td>\n",
              "      <td>84</td>\n",
              "      <td>61</td>\n",
              "      <td>9</td>\n",
              "      <td>...</td>\n",
              "      <td>Prayer books</td>\n",
              "      <td>salary</td>\n",
              "      <td>no</td>\n",
              "      <td>stubborn</td>\n",
              "      <td>1</td>\n",
              "      <td>salary</td>\n",
              "      <td>hard worker</td>\n",
              "      <td>yes</td>\n",
              "      <td>no</td>\n",
              "      <td>0</td>\n",
              "    </tr>\n",
              "    <tr>\n",
              "      <th>1</th>\n",
              "      <td>78</td>\n",
              "      <td>62</td>\n",
              "      <td>73</td>\n",
              "      <td>60</td>\n",
              "      <td>71</td>\n",
              "      <td>70</td>\n",
              "      <td>73</td>\n",
              "      <td>84</td>\n",
              "      <td>91</td>\n",
              "      <td>12</td>\n",
              "      <td>...</td>\n",
              "      <td>Childrens</td>\n",
              "      <td>salary</td>\n",
              "      <td>yes</td>\n",
              "      <td>gentle</td>\n",
              "      <td>1</td>\n",
              "      <td>salary</td>\n",
              "      <td>hard worker</td>\n",
              "      <td>no</td>\n",
              "      <td>yes</td>\n",
              "      <td>1</td>\n",
              "    </tr>\n",
              "    <tr>\n",
              "      <th>2</th>\n",
              "      <td>71</td>\n",
              "      <td>86</td>\n",
              "      <td>91</td>\n",
              "      <td>87</td>\n",
              "      <td>61</td>\n",
              "      <td>81</td>\n",
              "      <td>72</td>\n",
              "      <td>72</td>\n",
              "      <td>94</td>\n",
              "      <td>11</td>\n",
              "      <td>...</td>\n",
              "      <td>Travel</td>\n",
              "      <td>Work</td>\n",
              "      <td>no</td>\n",
              "      <td>stubborn</td>\n",
              "      <td>1</td>\n",
              "      <td>work</td>\n",
              "      <td>hard worker</td>\n",
              "      <td>no</td>\n",
              "      <td>yes</td>\n",
              "      <td>1</td>\n",
              "    </tr>\n",
              "    <tr>\n",
              "      <th>3</th>\n",
              "      <td>76</td>\n",
              "      <td>87</td>\n",
              "      <td>60</td>\n",
              "      <td>84</td>\n",
              "      <td>89</td>\n",
              "      <td>73</td>\n",
              "      <td>62</td>\n",
              "      <td>88</td>\n",
              "      <td>69</td>\n",
              "      <td>7</td>\n",
              "      <td>...</td>\n",
              "      <td>Romance</td>\n",
              "      <td>Work</td>\n",
              "      <td>yes</td>\n",
              "      <td>gentle</td>\n",
              "      <td>1</td>\n",
              "      <td>work</td>\n",
              "      <td>smart worker</td>\n",
              "      <td>yes</td>\n",
              "      <td>yes</td>\n",
              "      <td>2</td>\n",
              "    </tr>\n",
              "    <tr>\n",
              "      <th>4</th>\n",
              "      <td>92</td>\n",
              "      <td>62</td>\n",
              "      <td>90</td>\n",
              "      <td>67</td>\n",
              "      <td>71</td>\n",
              "      <td>89</td>\n",
              "      <td>73</td>\n",
              "      <td>71</td>\n",
              "      <td>73</td>\n",
              "      <td>4</td>\n",
              "      <td>...</td>\n",
              "      <td>Cookbooks</td>\n",
              "      <td>salary</td>\n",
              "      <td>no</td>\n",
              "      <td>stubborn</td>\n",
              "      <td>1</td>\n",
              "      <td>work</td>\n",
              "      <td>hard worker</td>\n",
              "      <td>yes</td>\n",
              "      <td>yes</td>\n",
              "      <td>3</td>\n",
              "    </tr>\n",
              "  </tbody>\n",
              "</table>\n",
              "<p>5 rows × 39 columns</p>\n",
              "</div>\n",
              "      <button class=\"colab-df-convert\" onclick=\"convertToInteractive('df-a2722530-8dca-4196-85fd-8d27d0386993')\"\n",
              "              title=\"Convert this dataframe to an interactive table.\"\n",
              "              style=\"display:none;\">\n",
              "        \n",
              "  <svg xmlns=\"http://www.w3.org/2000/svg\" height=\"24px\"viewBox=\"0 0 24 24\"\n",
              "       width=\"24px\">\n",
              "    <path d=\"M0 0h24v24H0V0z\" fill=\"none\"/>\n",
              "    <path d=\"M18.56 5.44l.94 2.06.94-2.06 2.06-.94-2.06-.94-.94-2.06-.94 2.06-2.06.94zm-11 1L8.5 8.5l.94-2.06 2.06-.94-2.06-.94L8.5 2.5l-.94 2.06-2.06.94zm10 10l.94 2.06.94-2.06 2.06-.94-2.06-.94-.94-2.06-.94 2.06-2.06.94z\"/><path d=\"M17.41 7.96l-1.37-1.37c-.4-.4-.92-.59-1.43-.59-.52 0-1.04.2-1.43.59L10.3 9.45l-7.72 7.72c-.78.78-.78 2.05 0 2.83L4 21.41c.39.39.9.59 1.41.59.51 0 1.02-.2 1.41-.59l7.78-7.78 2.81-2.81c.8-.78.8-2.07 0-2.86zM5.41 20L4 18.59l7.72-7.72 1.47 1.35L5.41 20z\"/>\n",
              "  </svg>\n",
              "      </button>\n",
              "      \n",
              "  <style>\n",
              "    .colab-df-container {\n",
              "      display:flex;\n",
              "      flex-wrap:wrap;\n",
              "      gap: 12px;\n",
              "    }\n",
              "\n",
              "    .colab-df-convert {\n",
              "      background-color: #E8F0FE;\n",
              "      border: none;\n",
              "      border-radius: 50%;\n",
              "      cursor: pointer;\n",
              "      display: none;\n",
              "      fill: #1967D2;\n",
              "      height: 32px;\n",
              "      padding: 0 0 0 0;\n",
              "      width: 32px;\n",
              "    }\n",
              "\n",
              "    .colab-df-convert:hover {\n",
              "      background-color: #E2EBFA;\n",
              "      box-shadow: 0px 1px 2px rgba(60, 64, 67, 0.3), 0px 1px 3px 1px rgba(60, 64, 67, 0.15);\n",
              "      fill: #174EA6;\n",
              "    }\n",
              "\n",
              "    [theme=dark] .colab-df-convert {\n",
              "      background-color: #3B4455;\n",
              "      fill: #D2E3FC;\n",
              "    }\n",
              "\n",
              "    [theme=dark] .colab-df-convert:hover {\n",
              "      background-color: #434B5C;\n",
              "      box-shadow: 0px 1px 3px 1px rgba(0, 0, 0, 0.15);\n",
              "      filter: drop-shadow(0px 1px 2px rgba(0, 0, 0, 0.3));\n",
              "      fill: #FFFFFF;\n",
              "    }\n",
              "  </style>\n",
              "\n",
              "      <script>\n",
              "        const buttonEl =\n",
              "          document.querySelector('#df-a2722530-8dca-4196-85fd-8d27d0386993 button.colab-df-convert');\n",
              "        buttonEl.style.display =\n",
              "          google.colab.kernel.accessAllowed ? 'block' : 'none';\n",
              "\n",
              "        async function convertToInteractive(key) {\n",
              "          const element = document.querySelector('#df-a2722530-8dca-4196-85fd-8d27d0386993');\n",
              "          const dataTable =\n",
              "            await google.colab.kernel.invokeFunction('convertToInteractive',\n",
              "                                                     [key], {});\n",
              "          if (!dataTable) return;\n",
              "\n",
              "          const docLinkHtml = 'Like what you see? Visit the ' +\n",
              "            '<a target=\"_blank\" href=https://colab.research.google.com/notebooks/data_table.ipynb>data table notebook</a>'\n",
              "            + ' to learn more about interactive tables.';\n",
              "          element.innerHTML = '';\n",
              "          dataTable['output_type'] = 'display_data';\n",
              "          await google.colab.output.renderOutput(dataTable, element);\n",
              "          const docLink = document.createElement('div');\n",
              "          docLink.innerHTML = docLinkHtml;\n",
              "          element.appendChild(docLink);\n",
              "        }\n",
              "      </script>\n",
              "    </div>\n",
              "  </div>\n",
              "  "
            ]
          },
          "metadata": {},
          "execution_count": 60
        }
      ]
    },
    {
      "cell_type": "code",
      "source": [
        "df_career.shape"
      ],
      "metadata": {
        "colab": {
          "base_uri": "https://localhost:8080/"
        },
        "id": "MdTCwPBEX9oZ",
        "outputId": "b1b61e0c-1308-45b3-c903-0e795c86b4f7"
      },
      "execution_count": 61,
      "outputs": [
        {
          "output_type": "execute_result",
          "data": {
            "text/plain": [
              "(20000, 39)"
            ]
          },
          "metadata": {},
          "execution_count": 61
        }
      ]
    },
    {
      "cell_type": "code",
      "source": [
        "df_career.columns"
      ],
      "metadata": {
        "colab": {
          "base_uri": "https://localhost:8080/"
        },
        "id": "oF9-EPj5Zctx",
        "outputId": "d456eb54-af60-4a83-90b2-5481c91acabe"
      },
      "execution_count": 62,
      "outputs": [
        {
          "output_type": "execute_result",
          "data": {
            "text/plain": [
              "Index(['Acedamic percentage in Operating Systems', 'percentage in Algorithms',\n",
              "       'Percentage in Programming Concepts',\n",
              "       'Percentage in Software Engineering', 'Percentage in Computer Networks',\n",
              "       'Percentage in Electronics Subjects',\n",
              "       'Percentage in Computer Architecture', 'Percentage in Mathematics',\n",
              "       'Percentage in Communication skills', 'Hours working per day',\n",
              "       'Logical quotient rating', 'hackathons', 'coding skills rating',\n",
              "       'public speaking points', 'can work long time before system?',\n",
              "       'self-learning capability?', 'Extra-courses did', 'certifications',\n",
              "       'workshops', 'talenttests taken?', 'olympiads',\n",
              "       'reading and writing skills', 'memory capability score',\n",
              "       'Interested subjects', 'interested career area ', 'Job/Higher Studies?',\n",
              "       'Type of company want to settle in?',\n",
              "       'Taken inputs from seniors or elders', 'interested in games',\n",
              "       'Interested Type of Books', 'Salary Range Expected',\n",
              "       'In a Realtionship?', 'Gentle or Tuff behaviour?',\n",
              "       'Management or Technical', 'Salary/work', 'hard/smart worker',\n",
              "       'worked in teams ever?', 'Introvert', 'Suggested Job Role'],\n",
              "      dtype='object')"
            ]
          },
          "metadata": {},
          "execution_count": 62
        }
      ]
    },
    {
      "cell_type": "code",
      "source": [
        "df_career.info()"
      ],
      "metadata": {
        "colab": {
          "base_uri": "https://localhost:8080/"
        },
        "id": "v--dyTy7ZmQw",
        "outputId": "1b8df4e1-9464-4694-dbda-a5fd0dcbf25e"
      },
      "execution_count": 63,
      "outputs": [
        {
          "output_type": "stream",
          "name": "stdout",
          "text": [
            "<class 'pandas.core.frame.DataFrame'>\n",
            "RangeIndex: 20000 entries, 0 to 19999\n",
            "Data columns (total 39 columns):\n",
            " #   Column                                    Non-Null Count  Dtype \n",
            "---  ------                                    --------------  ----- \n",
            " 0   Acedamic percentage in Operating Systems  20000 non-null  int64 \n",
            " 1   percentage in Algorithms                  20000 non-null  int64 \n",
            " 2   Percentage in Programming Concepts        20000 non-null  int64 \n",
            " 3   Percentage in Software Engineering        20000 non-null  int64 \n",
            " 4   Percentage in Computer Networks           20000 non-null  int64 \n",
            " 5   Percentage in Electronics Subjects        20000 non-null  int64 \n",
            " 6   Percentage in Computer Architecture       20000 non-null  int64 \n",
            " 7   Percentage in Mathematics                 20000 non-null  int64 \n",
            " 8   Percentage in Communication skills        20000 non-null  int64 \n",
            " 9   Hours working per day                     20000 non-null  int64 \n",
            " 10  Logical quotient rating                   20000 non-null  int64 \n",
            " 11  hackathons                                20000 non-null  int64 \n",
            " 12  coding skills rating                      20000 non-null  int64 \n",
            " 13  public speaking points                    20000 non-null  int64 \n",
            " 14  can work long time before system?         20000 non-null  object\n",
            " 15  self-learning capability?                 20000 non-null  object\n",
            " 16  Extra-courses did                         20000 non-null  object\n",
            " 17  certifications                            20000 non-null  object\n",
            " 18  workshops                                 20000 non-null  object\n",
            " 19  talenttests taken?                        20000 non-null  object\n",
            " 20  olympiads                                 20000 non-null  object\n",
            " 21  reading and writing skills                20000 non-null  object\n",
            " 22  memory capability score                   20000 non-null  object\n",
            " 23  Interested subjects                       20000 non-null  object\n",
            " 24  interested career area                    20000 non-null  object\n",
            " 25  Job/Higher Studies?                       20000 non-null  object\n",
            " 26  Type of company want to settle in?        20000 non-null  object\n",
            " 27  Taken inputs from seniors or elders       20000 non-null  object\n",
            " 28  interested in games                       20000 non-null  object\n",
            " 29  Interested Type of Books                  20000 non-null  object\n",
            " 30  Salary Range Expected                     20000 non-null  object\n",
            " 31  In a Realtionship?                        20000 non-null  object\n",
            " 32  Gentle or Tuff behaviour?                 20000 non-null  object\n",
            " 33  Management or Technical                   20000 non-null  object\n",
            " 34  Salary/work                               20000 non-null  object\n",
            " 35  hard/smart worker                         20000 non-null  object\n",
            " 36  worked in teams ever?                     20000 non-null  object\n",
            " 37  Introvert                                 20000 non-null  object\n",
            " 38  Suggested Job Role                        20000 non-null  object\n",
            "dtypes: int64(14), object(25)\n",
            "memory usage: 6.0+ MB\n"
          ]
        }
      ]
    },
    {
      "cell_type": "code",
      "source": [
        "df_career.nunique()"
      ],
      "metadata": {
        "id": "ot4IQStybVbd",
        "outputId": "d9e01884-556d-441a-c663-3910103f3c8a",
        "colab": {
          "base_uri": "https://localhost:8080/"
        }
      },
      "execution_count": 64,
      "outputs": [
        {
          "output_type": "execute_result",
          "data": {
            "text/plain": [
              "Acedamic percentage in Operating Systems    35\n",
              "percentage in Algorithms                    35\n",
              "Percentage in Programming Concepts          35\n",
              "Percentage in Software Engineering          35\n",
              "Percentage in Computer Networks             35\n",
              "Percentage in Electronics Subjects          35\n",
              "Percentage in Computer Architecture         35\n",
              "Percentage in Mathematics                   35\n",
              "Percentage in Communication skills          35\n",
              "Hours working per day                        9\n",
              "Logical quotient rating                      9\n",
              "hackathons                                   7\n",
              "coding skills rating                         9\n",
              "public speaking points                       9\n",
              "can work long time before system?            2\n",
              "self-learning capability?                    2\n",
              "Extra-courses did                            2\n",
              "certifications                               9\n",
              "workshops                                    8\n",
              "talenttests taken?                           2\n",
              "olympiads                                    2\n",
              "reading and writing skills                   3\n",
              "memory capability score                      3\n",
              "Interested subjects                         10\n",
              "interested career area                       6\n",
              "Job/Higher Studies?                          2\n",
              "Type of company want to settle in?          10\n",
              "Taken inputs from seniors or elders          2\n",
              "interested in games                          2\n",
              "Interested Type of Books                    31\n",
              "Salary Range Expected                        2\n",
              "In a Realtionship?                           2\n",
              "Gentle or Tuff behaviour?                    2\n",
              "Management or Technical                      1\n",
              "Salary/work                                  2\n",
              "hard/smart worker                            2\n",
              "worked in teams ever?                        2\n",
              "Introvert                                    2\n",
              "Suggested Job Role                          34\n",
              "dtype: int64"
            ]
          },
          "metadata": {},
          "execution_count": 64
        }
      ]
    },
    {
      "cell_type": "code",
      "source": [
        "df_career['Suggested Job Role'].nunique()"
      ],
      "metadata": {
        "colab": {
          "base_uri": "https://localhost:8080/"
        },
        "id": "LkZOQpzeZrd-",
        "outputId": "10277138-7cbf-479e-ba1f-959a6c3eb1fc"
      },
      "execution_count": 65,
      "outputs": [
        {
          "output_type": "execute_result",
          "data": {
            "text/plain": [
              "34"
            ]
          },
          "metadata": {},
          "execution_count": 65
        }
      ]
    },
    {
      "cell_type": "markdown",
      "source": [
        "## Data Preprocessiong"
      ],
      "metadata": {
        "id": "ChjowuadcfqT"
      }
    },
    {
      "cell_type": "code",
      "source": [
        "df_career.describe()"
      ],
      "metadata": {
        "colab": {
          "base_uri": "https://localhost:8080/",
          "height": 396
        },
        "id": "n4Gd3bJ4cjfT",
        "outputId": "49c57957-90c6-41a3-a764-ce750351e582"
      },
      "execution_count": 66,
      "outputs": [
        {
          "output_type": "execute_result",
          "data": {
            "text/plain": [
              "       Acedamic percentage in Operating Systems  percentage in Algorithms  \\\n",
              "count                              20000.000000              20000.000000   \n",
              "mean                                  77.002300                 76.948200   \n",
              "std                                   10.085697                 10.101733   \n",
              "min                                   60.000000                 60.000000   \n",
              "25%                                   68.000000                 68.000000   \n",
              "50%                                   77.000000                 77.000000   \n",
              "75%                                   86.000000                 86.000000   \n",
              "max                                   94.000000                 94.000000   \n",
              "\n",
              "       Percentage in Programming Concepts  Percentage in Software Engineering  \\\n",
              "count                        20000.000000                        20000.000000   \n",
              "mean                            77.017550                           77.094500   \n",
              "std                             10.134815                           10.087837   \n",
              "min                             60.000000                           60.000000   \n",
              "25%                             68.000000                           68.000000   \n",
              "50%                             77.000000                           77.000000   \n",
              "75%                             86.000000                           86.000000   \n",
              "max                             94.000000                           94.000000   \n",
              "\n",
              "       Percentage in Computer Networks  Percentage in Electronics Subjects  \\\n",
              "count                     20000.000000                        20000.000000   \n",
              "mean                         76.958200                           77.015550   \n",
              "std                          10.020088                           10.168888   \n",
              "min                          60.000000                           60.000000   \n",
              "25%                          68.000000                           68.000000   \n",
              "50%                          77.000000                           77.000000   \n",
              "75%                          85.000000                           86.000000   \n",
              "max                          94.000000                           94.000000   \n",
              "\n",
              "       Percentage in Computer Architecture  Percentage in Mathematics  \\\n",
              "count                         20000.000000               20000.000000   \n",
              "mean                             77.069850                  76.913100   \n",
              "std                              10.069059                  10.138555   \n",
              "min                              60.000000                  60.000000   \n",
              "25%                              68.000000                  68.000000   \n",
              "50%                              77.000000                  77.000000   \n",
              "75%                              86.000000                  86.000000   \n",
              "max                              94.000000                  94.000000   \n",
              "\n",
              "       Percentage in Communication skills  Hours working per day  \\\n",
              "count                        20000.000000           20000.000000   \n",
              "mean                            76.921450               7.985950   \n",
              "std                             10.103494               2.593798   \n",
              "min                             60.000000               4.000000   \n",
              "25%                             68.000000               6.000000   \n",
              "50%                             77.000000               8.000000   \n",
              "75%                             86.000000              10.000000   \n",
              "max                             94.000000              12.000000   \n",
              "\n",
              "       Logical quotient rating    hackathons  coding skills rating  \\\n",
              "count             20000.000000  20000.000000          20000.000000   \n",
              "mean                  4.995050      2.992650              5.004750   \n",
              "std                   2.578383      2.005791              2.576831   \n",
              "min                   1.000000      0.000000              1.000000   \n",
              "25%                   3.000000      1.000000              3.000000   \n",
              "50%                   5.000000      3.000000              5.000000   \n",
              "75%                   7.000000      5.000000              7.000000   \n",
              "max                   9.000000      6.000000              9.000000   \n",
              "\n",
              "       public speaking points  \n",
              "count            20000.000000  \n",
              "mean                 5.012800  \n",
              "std                  2.588875  \n",
              "min                  1.000000  \n",
              "25%                  3.000000  \n",
              "50%                  5.000000  \n",
              "75%                  7.000000  \n",
              "max                  9.000000  "
            ],
            "text/html": [
              "\n",
              "  <div id=\"df-4f7926e8-cdb5-44c8-8f2e-c36bc710e266\">\n",
              "    <div class=\"colab-df-container\">\n",
              "      <div>\n",
              "<style scoped>\n",
              "    .dataframe tbody tr th:only-of-type {\n",
              "        vertical-align: middle;\n",
              "    }\n",
              "\n",
              "    .dataframe tbody tr th {\n",
              "        vertical-align: top;\n",
              "    }\n",
              "\n",
              "    .dataframe thead th {\n",
              "        text-align: right;\n",
              "    }\n",
              "</style>\n",
              "<table border=\"1\" class=\"dataframe\">\n",
              "  <thead>\n",
              "    <tr style=\"text-align: right;\">\n",
              "      <th></th>\n",
              "      <th>Acedamic percentage in Operating Systems</th>\n",
              "      <th>percentage in Algorithms</th>\n",
              "      <th>Percentage in Programming Concepts</th>\n",
              "      <th>Percentage in Software Engineering</th>\n",
              "      <th>Percentage in Computer Networks</th>\n",
              "      <th>Percentage in Electronics Subjects</th>\n",
              "      <th>Percentage in Computer Architecture</th>\n",
              "      <th>Percentage in Mathematics</th>\n",
              "      <th>Percentage in Communication skills</th>\n",
              "      <th>Hours working per day</th>\n",
              "      <th>Logical quotient rating</th>\n",
              "      <th>hackathons</th>\n",
              "      <th>coding skills rating</th>\n",
              "      <th>public speaking points</th>\n",
              "    </tr>\n",
              "  </thead>\n",
              "  <tbody>\n",
              "    <tr>\n",
              "      <th>count</th>\n",
              "      <td>20000.000000</td>\n",
              "      <td>20000.000000</td>\n",
              "      <td>20000.000000</td>\n",
              "      <td>20000.000000</td>\n",
              "      <td>20000.000000</td>\n",
              "      <td>20000.000000</td>\n",
              "      <td>20000.000000</td>\n",
              "      <td>20000.000000</td>\n",
              "      <td>20000.000000</td>\n",
              "      <td>20000.000000</td>\n",
              "      <td>20000.000000</td>\n",
              "      <td>20000.000000</td>\n",
              "      <td>20000.000000</td>\n",
              "      <td>20000.000000</td>\n",
              "    </tr>\n",
              "    <tr>\n",
              "      <th>mean</th>\n",
              "      <td>77.002300</td>\n",
              "      <td>76.948200</td>\n",
              "      <td>77.017550</td>\n",
              "      <td>77.094500</td>\n",
              "      <td>76.958200</td>\n",
              "      <td>77.015550</td>\n",
              "      <td>77.069850</td>\n",
              "      <td>76.913100</td>\n",
              "      <td>76.921450</td>\n",
              "      <td>7.985950</td>\n",
              "      <td>4.995050</td>\n",
              "      <td>2.992650</td>\n",
              "      <td>5.004750</td>\n",
              "      <td>5.012800</td>\n",
              "    </tr>\n",
              "    <tr>\n",
              "      <th>std</th>\n",
              "      <td>10.085697</td>\n",
              "      <td>10.101733</td>\n",
              "      <td>10.134815</td>\n",
              "      <td>10.087837</td>\n",
              "      <td>10.020088</td>\n",
              "      <td>10.168888</td>\n",
              "      <td>10.069059</td>\n",
              "      <td>10.138555</td>\n",
              "      <td>10.103494</td>\n",
              "      <td>2.593798</td>\n",
              "      <td>2.578383</td>\n",
              "      <td>2.005791</td>\n",
              "      <td>2.576831</td>\n",
              "      <td>2.588875</td>\n",
              "    </tr>\n",
              "    <tr>\n",
              "      <th>min</th>\n",
              "      <td>60.000000</td>\n",
              "      <td>60.000000</td>\n",
              "      <td>60.000000</td>\n",
              "      <td>60.000000</td>\n",
              "      <td>60.000000</td>\n",
              "      <td>60.000000</td>\n",
              "      <td>60.000000</td>\n",
              "      <td>60.000000</td>\n",
              "      <td>60.000000</td>\n",
              "      <td>4.000000</td>\n",
              "      <td>1.000000</td>\n",
              "      <td>0.000000</td>\n",
              "      <td>1.000000</td>\n",
              "      <td>1.000000</td>\n",
              "    </tr>\n",
              "    <tr>\n",
              "      <th>25%</th>\n",
              "      <td>68.000000</td>\n",
              "      <td>68.000000</td>\n",
              "      <td>68.000000</td>\n",
              "      <td>68.000000</td>\n",
              "      <td>68.000000</td>\n",
              "      <td>68.000000</td>\n",
              "      <td>68.000000</td>\n",
              "      <td>68.000000</td>\n",
              "      <td>68.000000</td>\n",
              "      <td>6.000000</td>\n",
              "      <td>3.000000</td>\n",
              "      <td>1.000000</td>\n",
              "      <td>3.000000</td>\n",
              "      <td>3.000000</td>\n",
              "    </tr>\n",
              "    <tr>\n",
              "      <th>50%</th>\n",
              "      <td>77.000000</td>\n",
              "      <td>77.000000</td>\n",
              "      <td>77.000000</td>\n",
              "      <td>77.000000</td>\n",
              "      <td>77.000000</td>\n",
              "      <td>77.000000</td>\n",
              "      <td>77.000000</td>\n",
              "      <td>77.000000</td>\n",
              "      <td>77.000000</td>\n",
              "      <td>8.000000</td>\n",
              "      <td>5.000000</td>\n",
              "      <td>3.000000</td>\n",
              "      <td>5.000000</td>\n",
              "      <td>5.000000</td>\n",
              "    </tr>\n",
              "    <tr>\n",
              "      <th>75%</th>\n",
              "      <td>86.000000</td>\n",
              "      <td>86.000000</td>\n",
              "      <td>86.000000</td>\n",
              "      <td>86.000000</td>\n",
              "      <td>85.000000</td>\n",
              "      <td>86.000000</td>\n",
              "      <td>86.000000</td>\n",
              "      <td>86.000000</td>\n",
              "      <td>86.000000</td>\n",
              "      <td>10.000000</td>\n",
              "      <td>7.000000</td>\n",
              "      <td>5.000000</td>\n",
              "      <td>7.000000</td>\n",
              "      <td>7.000000</td>\n",
              "    </tr>\n",
              "    <tr>\n",
              "      <th>max</th>\n",
              "      <td>94.000000</td>\n",
              "      <td>94.000000</td>\n",
              "      <td>94.000000</td>\n",
              "      <td>94.000000</td>\n",
              "      <td>94.000000</td>\n",
              "      <td>94.000000</td>\n",
              "      <td>94.000000</td>\n",
              "      <td>94.000000</td>\n",
              "      <td>94.000000</td>\n",
              "      <td>12.000000</td>\n",
              "      <td>9.000000</td>\n",
              "      <td>6.000000</td>\n",
              "      <td>9.000000</td>\n",
              "      <td>9.000000</td>\n",
              "    </tr>\n",
              "  </tbody>\n",
              "</table>\n",
              "</div>\n",
              "      <button class=\"colab-df-convert\" onclick=\"convertToInteractive('df-4f7926e8-cdb5-44c8-8f2e-c36bc710e266')\"\n",
              "              title=\"Convert this dataframe to an interactive table.\"\n",
              "              style=\"display:none;\">\n",
              "        \n",
              "  <svg xmlns=\"http://www.w3.org/2000/svg\" height=\"24px\"viewBox=\"0 0 24 24\"\n",
              "       width=\"24px\">\n",
              "    <path d=\"M0 0h24v24H0V0z\" fill=\"none\"/>\n",
              "    <path d=\"M18.56 5.44l.94 2.06.94-2.06 2.06-.94-2.06-.94-.94-2.06-.94 2.06-2.06.94zm-11 1L8.5 8.5l.94-2.06 2.06-.94-2.06-.94L8.5 2.5l-.94 2.06-2.06.94zm10 10l.94 2.06.94-2.06 2.06-.94-2.06-.94-.94-2.06-.94 2.06-2.06.94z\"/><path d=\"M17.41 7.96l-1.37-1.37c-.4-.4-.92-.59-1.43-.59-.52 0-1.04.2-1.43.59L10.3 9.45l-7.72 7.72c-.78.78-.78 2.05 0 2.83L4 21.41c.39.39.9.59 1.41.59.51 0 1.02-.2 1.41-.59l7.78-7.78 2.81-2.81c.8-.78.8-2.07 0-2.86zM5.41 20L4 18.59l7.72-7.72 1.47 1.35L5.41 20z\"/>\n",
              "  </svg>\n",
              "      </button>\n",
              "      \n",
              "  <style>\n",
              "    .colab-df-container {\n",
              "      display:flex;\n",
              "      flex-wrap:wrap;\n",
              "      gap: 12px;\n",
              "    }\n",
              "\n",
              "    .colab-df-convert {\n",
              "      background-color: #E8F0FE;\n",
              "      border: none;\n",
              "      border-radius: 50%;\n",
              "      cursor: pointer;\n",
              "      display: none;\n",
              "      fill: #1967D2;\n",
              "      height: 32px;\n",
              "      padding: 0 0 0 0;\n",
              "      width: 32px;\n",
              "    }\n",
              "\n",
              "    .colab-df-convert:hover {\n",
              "      background-color: #E2EBFA;\n",
              "      box-shadow: 0px 1px 2px rgba(60, 64, 67, 0.3), 0px 1px 3px 1px rgba(60, 64, 67, 0.15);\n",
              "      fill: #174EA6;\n",
              "    }\n",
              "\n",
              "    [theme=dark] .colab-df-convert {\n",
              "      background-color: #3B4455;\n",
              "      fill: #D2E3FC;\n",
              "    }\n",
              "\n",
              "    [theme=dark] .colab-df-convert:hover {\n",
              "      background-color: #434B5C;\n",
              "      box-shadow: 0px 1px 3px 1px rgba(0, 0, 0, 0.15);\n",
              "      filter: drop-shadow(0px 1px 2px rgba(0, 0, 0, 0.3));\n",
              "      fill: #FFFFFF;\n",
              "    }\n",
              "  </style>\n",
              "\n",
              "      <script>\n",
              "        const buttonEl =\n",
              "          document.querySelector('#df-4f7926e8-cdb5-44c8-8f2e-c36bc710e266 button.colab-df-convert');\n",
              "        buttonEl.style.display =\n",
              "          google.colab.kernel.accessAllowed ? 'block' : 'none';\n",
              "\n",
              "        async function convertToInteractive(key) {\n",
              "          const element = document.querySelector('#df-4f7926e8-cdb5-44c8-8f2e-c36bc710e266');\n",
              "          const dataTable =\n",
              "            await google.colab.kernel.invokeFunction('convertToInteractive',\n",
              "                                                     [key], {});\n",
              "          if (!dataTable) return;\n",
              "\n",
              "          const docLinkHtml = 'Like what you see? Visit the ' +\n",
              "            '<a target=\"_blank\" href=https://colab.research.google.com/notebooks/data_table.ipynb>data table notebook</a>'\n",
              "            + ' to learn more about interactive tables.';\n",
              "          element.innerHTML = '';\n",
              "          dataTable['output_type'] = 'display_data';\n",
              "          await google.colab.output.renderOutput(dataTable, element);\n",
              "          const docLink = document.createElement('div');\n",
              "          docLink.innerHTML = docLinkHtml;\n",
              "          element.appendChild(docLink);\n",
              "        }\n",
              "      </script>\n",
              "    </div>\n",
              "  </div>\n",
              "  "
            ]
          },
          "metadata": {},
          "execution_count": 66
        }
      ]
    },
    {
      "cell_type": "code",
      "source": [
        "df_career.corr()"
      ],
      "metadata": {
        "colab": {
          "base_uri": "https://localhost:8080/",
          "height": 949
        },
        "id": "Qg-pH0nJaOP-",
        "outputId": "002ecc16-aebc-478c-c4dd-134bce58f13f"
      },
      "execution_count": 67,
      "outputs": [
        {
          "output_type": "execute_result",
          "data": {
            "text/plain": [
              "                                          Acedamic percentage in Operating Systems  \\\n",
              "Acedamic percentage in Operating Systems                                  1.000000   \n",
              "percentage in Algorithms                                                  0.001781   \n",
              "Percentage in Programming Concepts                                       -0.004693   \n",
              "Percentage in Software Engineering                                        0.010691   \n",
              "Percentage in Computer Networks                                          -0.001003   \n",
              "Percentage in Electronics Subjects                                       -0.010402   \n",
              "Percentage in Computer Architecture                                       0.011958   \n",
              "Percentage in Mathematics                                                -0.003203   \n",
              "Percentage in Communication skills                                       -0.001770   \n",
              "Hours working per day                                                     0.009925   \n",
              "Logical quotient rating                                                   0.004602   \n",
              "hackathons                                                               -0.006075   \n",
              "coding skills rating                                                     -0.001214   \n",
              "public speaking points                                                    0.003999   \n",
              "\n",
              "                                          percentage in Algorithms  \\\n",
              "Acedamic percentage in Operating Systems                  0.001781   \n",
              "percentage in Algorithms                                  1.000000   \n",
              "Percentage in Programming Concepts                        0.000914   \n",
              "Percentage in Software Engineering                        0.004178   \n",
              "Percentage in Computer Networks                          -0.000961   \n",
              "Percentage in Electronics Subjects                       -0.004914   \n",
              "Percentage in Computer Architecture                      -0.003793   \n",
              "Percentage in Mathematics                                -0.007968   \n",
              "Percentage in Communication skills                       -0.001485   \n",
              "Hours working per day                                     0.011567   \n",
              "Logical quotient rating                                  -0.013894   \n",
              "hackathons                                                0.006679   \n",
              "coding skills rating                                      0.013466   \n",
              "public speaking points                                    0.003912   \n",
              "\n",
              "                                          Percentage in Programming Concepts  \\\n",
              "Acedamic percentage in Operating Systems                           -0.004693   \n",
              "percentage in Algorithms                                            0.000914   \n",
              "Percentage in Programming Concepts                                  1.000000   \n",
              "Percentage in Software Engineering                                  0.006810   \n",
              "Percentage in Computer Networks                                     0.001120   \n",
              "Percentage in Electronics Subjects                                  0.003585   \n",
              "Percentage in Computer Architecture                                -0.001093   \n",
              "Percentage in Mathematics                                          -0.008326   \n",
              "Percentage in Communication skills                                 -0.002105   \n",
              "Hours working per day                                              -0.003532   \n",
              "Logical quotient rating                                            -0.010540   \n",
              "hackathons                                                         -0.008081   \n",
              "coding skills rating                                               -0.009414   \n",
              "public speaking points                                             -0.008243   \n",
              "\n",
              "                                          Percentage in Software Engineering  \\\n",
              "Acedamic percentage in Operating Systems                            0.010691   \n",
              "percentage in Algorithms                                            0.004178   \n",
              "Percentage in Programming Concepts                                  0.006810   \n",
              "Percentage in Software Engineering                                  1.000000   \n",
              "Percentage in Computer Networks                                    -0.009601   \n",
              "Percentage in Electronics Subjects                                  0.005680   \n",
              "Percentage in Computer Architecture                                 0.000722   \n",
              "Percentage in Mathematics                                           0.001932   \n",
              "Percentage in Communication skills                                  0.015085   \n",
              "Hours working per day                                              -0.011287   \n",
              "Logical quotient rating                                             0.007988   \n",
              "hackathons                                                         -0.005637   \n",
              "coding skills rating                                               -0.000148   \n",
              "public speaking points                                             -0.003006   \n",
              "\n",
              "                                          Percentage in Computer Networks  \\\n",
              "Acedamic percentage in Operating Systems                        -0.001003   \n",
              "percentage in Algorithms                                        -0.000961   \n",
              "Percentage in Programming Concepts                               0.001120   \n",
              "Percentage in Software Engineering                              -0.009601   \n",
              "Percentage in Computer Networks                                  1.000000   \n",
              "Percentage in Electronics Subjects                              -0.002255   \n",
              "Percentage in Computer Architecture                              0.008840   \n",
              "Percentage in Mathematics                                        0.003276   \n",
              "Percentage in Communication skills                              -0.008065   \n",
              "Hours working per day                                           -0.001204   \n",
              "Logical quotient rating                                         -0.000585   \n",
              "hackathons                                                       0.003816   \n",
              "coding skills rating                                             0.004241   \n",
              "public speaking points                                           0.009924   \n",
              "\n",
              "                                          Percentage in Electronics Subjects  \\\n",
              "Acedamic percentage in Operating Systems                           -0.010402   \n",
              "percentage in Algorithms                                           -0.004914   \n",
              "Percentage in Programming Concepts                                  0.003585   \n",
              "Percentage in Software Engineering                                  0.005680   \n",
              "Percentage in Computer Networks                                    -0.002255   \n",
              "Percentage in Electronics Subjects                                  1.000000   \n",
              "Percentage in Computer Architecture                                 0.002406   \n",
              "Percentage in Mathematics                                          -0.003306   \n",
              "Percentage in Communication skills                                  0.000635   \n",
              "Hours working per day                                               0.007186   \n",
              "Logical quotient rating                                             0.015727   \n",
              "hackathons                                                          0.002428   \n",
              "coding skills rating                                                0.002663   \n",
              "public speaking points                                             -0.008268   \n",
              "\n",
              "                                          Percentage in Computer Architecture  \\\n",
              "Acedamic percentage in Operating Systems                             0.011958   \n",
              "percentage in Algorithms                                            -0.003793   \n",
              "Percentage in Programming Concepts                                  -0.001093   \n",
              "Percentage in Software Engineering                                   0.000722   \n",
              "Percentage in Computer Networks                                      0.008840   \n",
              "Percentage in Electronics Subjects                                   0.002406   \n",
              "Percentage in Computer Architecture                                  1.000000   \n",
              "Percentage in Mathematics                                           -0.002009   \n",
              "Percentage in Communication skills                                  -0.000076   \n",
              "Hours working per day                                                0.000484   \n",
              "Logical quotient rating                                             -0.000559   \n",
              "hackathons                                                           0.005101   \n",
              "coding skills rating                                                -0.013613   \n",
              "public speaking points                                               0.011289   \n",
              "\n",
              "                                          Percentage in Mathematics  \\\n",
              "Acedamic percentage in Operating Systems                  -0.003203   \n",
              "percentage in Algorithms                                  -0.007968   \n",
              "Percentage in Programming Concepts                        -0.008326   \n",
              "Percentage in Software Engineering                         0.001932   \n",
              "Percentage in Computer Networks                            0.003276   \n",
              "Percentage in Electronics Subjects                        -0.003306   \n",
              "Percentage in Computer Architecture                       -0.002009   \n",
              "Percentage in Mathematics                                  1.000000   \n",
              "Percentage in Communication skills                         0.003569   \n",
              "Hours working per day                                      0.014636   \n",
              "Logical quotient rating                                   -0.005173   \n",
              "hackathons                                                -0.007806   \n",
              "coding skills rating                                       0.001658   \n",
              "public speaking points                                    -0.001312   \n",
              "\n",
              "                                          Percentage in Communication skills  \\\n",
              "Acedamic percentage in Operating Systems                           -0.001770   \n",
              "percentage in Algorithms                                           -0.001485   \n",
              "Percentage in Programming Concepts                                 -0.002105   \n",
              "Percentage in Software Engineering                                  0.015085   \n",
              "Percentage in Computer Networks                                    -0.008065   \n",
              "Percentage in Electronics Subjects                                  0.000635   \n",
              "Percentage in Computer Architecture                                -0.000076   \n",
              "Percentage in Mathematics                                           0.003569   \n",
              "Percentage in Communication skills                                  1.000000   \n",
              "Hours working per day                                              -0.002681   \n",
              "Logical quotient rating                                            -0.003575   \n",
              "hackathons                                                         -0.009893   \n",
              "coding skills rating                                               -0.003744   \n",
              "public speaking points                                             -0.000864   \n",
              "\n",
              "                                          Hours working per day  \\\n",
              "Acedamic percentage in Operating Systems               0.009925   \n",
              "percentage in Algorithms                               0.011567   \n",
              "Percentage in Programming Concepts                    -0.003532   \n",
              "Percentage in Software Engineering                    -0.011287   \n",
              "Percentage in Computer Networks                       -0.001204   \n",
              "Percentage in Electronics Subjects                     0.007186   \n",
              "Percentage in Computer Architecture                    0.000484   \n",
              "Percentage in Mathematics                              0.014636   \n",
              "Percentage in Communication skills                    -0.002681   \n",
              "Hours working per day                                  1.000000   \n",
              "Logical quotient rating                               -0.004810   \n",
              "hackathons                                            -0.001087   \n",
              "coding skills rating                                  -0.006686   \n",
              "public speaking points                                 0.002022   \n",
              "\n",
              "                                          Logical quotient rating  hackathons  \\\n",
              "Acedamic percentage in Operating Systems                 0.004602   -0.006075   \n",
              "percentage in Algorithms                                -0.013894    0.006679   \n",
              "Percentage in Programming Concepts                      -0.010540   -0.008081   \n",
              "Percentage in Software Engineering                       0.007988   -0.005637   \n",
              "Percentage in Computer Networks                         -0.000585    0.003816   \n",
              "Percentage in Electronics Subjects                       0.015727    0.002428   \n",
              "Percentage in Computer Architecture                     -0.000559    0.005101   \n",
              "Percentage in Mathematics                               -0.005173   -0.007806   \n",
              "Percentage in Communication skills                      -0.003575   -0.009893   \n",
              "Hours working per day                                   -0.004810   -0.001087   \n",
              "Logical quotient rating                                  1.000000    0.003870   \n",
              "hackathons                                               0.003870    1.000000   \n",
              "coding skills rating                                     0.002525    0.007814   \n",
              "public speaking points                                   0.008587    0.006547   \n",
              "\n",
              "                                          coding skills rating  \\\n",
              "Acedamic percentage in Operating Systems             -0.001214   \n",
              "percentage in Algorithms                              0.013466   \n",
              "Percentage in Programming Concepts                   -0.009414   \n",
              "Percentage in Software Engineering                   -0.000148   \n",
              "Percentage in Computer Networks                       0.004241   \n",
              "Percentage in Electronics Subjects                    0.002663   \n",
              "Percentage in Computer Architecture                  -0.013613   \n",
              "Percentage in Mathematics                             0.001658   \n",
              "Percentage in Communication skills                   -0.003744   \n",
              "Hours working per day                                -0.006686   \n",
              "Logical quotient rating                               0.002525   \n",
              "hackathons                                            0.007814   \n",
              "coding skills rating                                  1.000000   \n",
              "public speaking points                               -0.003787   \n",
              "\n",
              "                                          public speaking points  \n",
              "Acedamic percentage in Operating Systems                0.003999  \n",
              "percentage in Algorithms                                0.003912  \n",
              "Percentage in Programming Concepts                     -0.008243  \n",
              "Percentage in Software Engineering                     -0.003006  \n",
              "Percentage in Computer Networks                         0.009924  \n",
              "Percentage in Electronics Subjects                     -0.008268  \n",
              "Percentage in Computer Architecture                     0.011289  \n",
              "Percentage in Mathematics                              -0.001312  \n",
              "Percentage in Communication skills                     -0.000864  \n",
              "Hours working per day                                   0.002022  \n",
              "Logical quotient rating                                 0.008587  \n",
              "hackathons                                              0.006547  \n",
              "coding skills rating                                   -0.003787  \n",
              "public speaking points                                  1.000000  "
            ],
            "text/html": [
              "\n",
              "  <div id=\"df-43536dba-cadd-4b55-b770-77f196eb4cda\">\n",
              "    <div class=\"colab-df-container\">\n",
              "      <div>\n",
              "<style scoped>\n",
              "    .dataframe tbody tr th:only-of-type {\n",
              "        vertical-align: middle;\n",
              "    }\n",
              "\n",
              "    .dataframe tbody tr th {\n",
              "        vertical-align: top;\n",
              "    }\n",
              "\n",
              "    .dataframe thead th {\n",
              "        text-align: right;\n",
              "    }\n",
              "</style>\n",
              "<table border=\"1\" class=\"dataframe\">\n",
              "  <thead>\n",
              "    <tr style=\"text-align: right;\">\n",
              "      <th></th>\n",
              "      <th>Acedamic percentage in Operating Systems</th>\n",
              "      <th>percentage in Algorithms</th>\n",
              "      <th>Percentage in Programming Concepts</th>\n",
              "      <th>Percentage in Software Engineering</th>\n",
              "      <th>Percentage in Computer Networks</th>\n",
              "      <th>Percentage in Electronics Subjects</th>\n",
              "      <th>Percentage in Computer Architecture</th>\n",
              "      <th>Percentage in Mathematics</th>\n",
              "      <th>Percentage in Communication skills</th>\n",
              "      <th>Hours working per day</th>\n",
              "      <th>Logical quotient rating</th>\n",
              "      <th>hackathons</th>\n",
              "      <th>coding skills rating</th>\n",
              "      <th>public speaking points</th>\n",
              "    </tr>\n",
              "  </thead>\n",
              "  <tbody>\n",
              "    <tr>\n",
              "      <th>Acedamic percentage in Operating Systems</th>\n",
              "      <td>1.000000</td>\n",
              "      <td>0.001781</td>\n",
              "      <td>-0.004693</td>\n",
              "      <td>0.010691</td>\n",
              "      <td>-0.001003</td>\n",
              "      <td>-0.010402</td>\n",
              "      <td>0.011958</td>\n",
              "      <td>-0.003203</td>\n",
              "      <td>-0.001770</td>\n",
              "      <td>0.009925</td>\n",
              "      <td>0.004602</td>\n",
              "      <td>-0.006075</td>\n",
              "      <td>-0.001214</td>\n",
              "      <td>0.003999</td>\n",
              "    </tr>\n",
              "    <tr>\n",
              "      <th>percentage in Algorithms</th>\n",
              "      <td>0.001781</td>\n",
              "      <td>1.000000</td>\n",
              "      <td>0.000914</td>\n",
              "      <td>0.004178</td>\n",
              "      <td>-0.000961</td>\n",
              "      <td>-0.004914</td>\n",
              "      <td>-0.003793</td>\n",
              "      <td>-0.007968</td>\n",
              "      <td>-0.001485</td>\n",
              "      <td>0.011567</td>\n",
              "      <td>-0.013894</td>\n",
              "      <td>0.006679</td>\n",
              "      <td>0.013466</td>\n",
              "      <td>0.003912</td>\n",
              "    </tr>\n",
              "    <tr>\n",
              "      <th>Percentage in Programming Concepts</th>\n",
              "      <td>-0.004693</td>\n",
              "      <td>0.000914</td>\n",
              "      <td>1.000000</td>\n",
              "      <td>0.006810</td>\n",
              "      <td>0.001120</td>\n",
              "      <td>0.003585</td>\n",
              "      <td>-0.001093</td>\n",
              "      <td>-0.008326</td>\n",
              "      <td>-0.002105</td>\n",
              "      <td>-0.003532</td>\n",
              "      <td>-0.010540</td>\n",
              "      <td>-0.008081</td>\n",
              "      <td>-0.009414</td>\n",
              "      <td>-0.008243</td>\n",
              "    </tr>\n",
              "    <tr>\n",
              "      <th>Percentage in Software Engineering</th>\n",
              "      <td>0.010691</td>\n",
              "      <td>0.004178</td>\n",
              "      <td>0.006810</td>\n",
              "      <td>1.000000</td>\n",
              "      <td>-0.009601</td>\n",
              "      <td>0.005680</td>\n",
              "      <td>0.000722</td>\n",
              "      <td>0.001932</td>\n",
              "      <td>0.015085</td>\n",
              "      <td>-0.011287</td>\n",
              "      <td>0.007988</td>\n",
              "      <td>-0.005637</td>\n",
              "      <td>-0.000148</td>\n",
              "      <td>-0.003006</td>\n",
              "    </tr>\n",
              "    <tr>\n",
              "      <th>Percentage in Computer Networks</th>\n",
              "      <td>-0.001003</td>\n",
              "      <td>-0.000961</td>\n",
              "      <td>0.001120</td>\n",
              "      <td>-0.009601</td>\n",
              "      <td>1.000000</td>\n",
              "      <td>-0.002255</td>\n",
              "      <td>0.008840</td>\n",
              "      <td>0.003276</td>\n",
              "      <td>-0.008065</td>\n",
              "      <td>-0.001204</td>\n",
              "      <td>-0.000585</td>\n",
              "      <td>0.003816</td>\n",
              "      <td>0.004241</td>\n",
              "      <td>0.009924</td>\n",
              "    </tr>\n",
              "    <tr>\n",
              "      <th>Percentage in Electronics Subjects</th>\n",
              "      <td>-0.010402</td>\n",
              "      <td>-0.004914</td>\n",
              "      <td>0.003585</td>\n",
              "      <td>0.005680</td>\n",
              "      <td>-0.002255</td>\n",
              "      <td>1.000000</td>\n",
              "      <td>0.002406</td>\n",
              "      <td>-0.003306</td>\n",
              "      <td>0.000635</td>\n",
              "      <td>0.007186</td>\n",
              "      <td>0.015727</td>\n",
              "      <td>0.002428</td>\n",
              "      <td>0.002663</td>\n",
              "      <td>-0.008268</td>\n",
              "    </tr>\n",
              "    <tr>\n",
              "      <th>Percentage in Computer Architecture</th>\n",
              "      <td>0.011958</td>\n",
              "      <td>-0.003793</td>\n",
              "      <td>-0.001093</td>\n",
              "      <td>0.000722</td>\n",
              "      <td>0.008840</td>\n",
              "      <td>0.002406</td>\n",
              "      <td>1.000000</td>\n",
              "      <td>-0.002009</td>\n",
              "      <td>-0.000076</td>\n",
              "      <td>0.000484</td>\n",
              "      <td>-0.000559</td>\n",
              "      <td>0.005101</td>\n",
              "      <td>-0.013613</td>\n",
              "      <td>0.011289</td>\n",
              "    </tr>\n",
              "    <tr>\n",
              "      <th>Percentage in Mathematics</th>\n",
              "      <td>-0.003203</td>\n",
              "      <td>-0.007968</td>\n",
              "      <td>-0.008326</td>\n",
              "      <td>0.001932</td>\n",
              "      <td>0.003276</td>\n",
              "      <td>-0.003306</td>\n",
              "      <td>-0.002009</td>\n",
              "      <td>1.000000</td>\n",
              "      <td>0.003569</td>\n",
              "      <td>0.014636</td>\n",
              "      <td>-0.005173</td>\n",
              "      <td>-0.007806</td>\n",
              "      <td>0.001658</td>\n",
              "      <td>-0.001312</td>\n",
              "    </tr>\n",
              "    <tr>\n",
              "      <th>Percentage in Communication skills</th>\n",
              "      <td>-0.001770</td>\n",
              "      <td>-0.001485</td>\n",
              "      <td>-0.002105</td>\n",
              "      <td>0.015085</td>\n",
              "      <td>-0.008065</td>\n",
              "      <td>0.000635</td>\n",
              "      <td>-0.000076</td>\n",
              "      <td>0.003569</td>\n",
              "      <td>1.000000</td>\n",
              "      <td>-0.002681</td>\n",
              "      <td>-0.003575</td>\n",
              "      <td>-0.009893</td>\n",
              "      <td>-0.003744</td>\n",
              "      <td>-0.000864</td>\n",
              "    </tr>\n",
              "    <tr>\n",
              "      <th>Hours working per day</th>\n",
              "      <td>0.009925</td>\n",
              "      <td>0.011567</td>\n",
              "      <td>-0.003532</td>\n",
              "      <td>-0.011287</td>\n",
              "      <td>-0.001204</td>\n",
              "      <td>0.007186</td>\n",
              "      <td>0.000484</td>\n",
              "      <td>0.014636</td>\n",
              "      <td>-0.002681</td>\n",
              "      <td>1.000000</td>\n",
              "      <td>-0.004810</td>\n",
              "      <td>-0.001087</td>\n",
              "      <td>-0.006686</td>\n",
              "      <td>0.002022</td>\n",
              "    </tr>\n",
              "    <tr>\n",
              "      <th>Logical quotient rating</th>\n",
              "      <td>0.004602</td>\n",
              "      <td>-0.013894</td>\n",
              "      <td>-0.010540</td>\n",
              "      <td>0.007988</td>\n",
              "      <td>-0.000585</td>\n",
              "      <td>0.015727</td>\n",
              "      <td>-0.000559</td>\n",
              "      <td>-0.005173</td>\n",
              "      <td>-0.003575</td>\n",
              "      <td>-0.004810</td>\n",
              "      <td>1.000000</td>\n",
              "      <td>0.003870</td>\n",
              "      <td>0.002525</td>\n",
              "      <td>0.008587</td>\n",
              "    </tr>\n",
              "    <tr>\n",
              "      <th>hackathons</th>\n",
              "      <td>-0.006075</td>\n",
              "      <td>0.006679</td>\n",
              "      <td>-0.008081</td>\n",
              "      <td>-0.005637</td>\n",
              "      <td>0.003816</td>\n",
              "      <td>0.002428</td>\n",
              "      <td>0.005101</td>\n",
              "      <td>-0.007806</td>\n",
              "      <td>-0.009893</td>\n",
              "      <td>-0.001087</td>\n",
              "      <td>0.003870</td>\n",
              "      <td>1.000000</td>\n",
              "      <td>0.007814</td>\n",
              "      <td>0.006547</td>\n",
              "    </tr>\n",
              "    <tr>\n",
              "      <th>coding skills rating</th>\n",
              "      <td>-0.001214</td>\n",
              "      <td>0.013466</td>\n",
              "      <td>-0.009414</td>\n",
              "      <td>-0.000148</td>\n",
              "      <td>0.004241</td>\n",
              "      <td>0.002663</td>\n",
              "      <td>-0.013613</td>\n",
              "      <td>0.001658</td>\n",
              "      <td>-0.003744</td>\n",
              "      <td>-0.006686</td>\n",
              "      <td>0.002525</td>\n",
              "      <td>0.007814</td>\n",
              "      <td>1.000000</td>\n",
              "      <td>-0.003787</td>\n",
              "    </tr>\n",
              "    <tr>\n",
              "      <th>public speaking points</th>\n",
              "      <td>0.003999</td>\n",
              "      <td>0.003912</td>\n",
              "      <td>-0.008243</td>\n",
              "      <td>-0.003006</td>\n",
              "      <td>0.009924</td>\n",
              "      <td>-0.008268</td>\n",
              "      <td>0.011289</td>\n",
              "      <td>-0.001312</td>\n",
              "      <td>-0.000864</td>\n",
              "      <td>0.002022</td>\n",
              "      <td>0.008587</td>\n",
              "      <td>0.006547</td>\n",
              "      <td>-0.003787</td>\n",
              "      <td>1.000000</td>\n",
              "    </tr>\n",
              "  </tbody>\n",
              "</table>\n",
              "</div>\n",
              "      <button class=\"colab-df-convert\" onclick=\"convertToInteractive('df-43536dba-cadd-4b55-b770-77f196eb4cda')\"\n",
              "              title=\"Convert this dataframe to an interactive table.\"\n",
              "              style=\"display:none;\">\n",
              "        \n",
              "  <svg xmlns=\"http://www.w3.org/2000/svg\" height=\"24px\"viewBox=\"0 0 24 24\"\n",
              "       width=\"24px\">\n",
              "    <path d=\"M0 0h24v24H0V0z\" fill=\"none\"/>\n",
              "    <path d=\"M18.56 5.44l.94 2.06.94-2.06 2.06-.94-2.06-.94-.94-2.06-.94 2.06-2.06.94zm-11 1L8.5 8.5l.94-2.06 2.06-.94-2.06-.94L8.5 2.5l-.94 2.06-2.06.94zm10 10l.94 2.06.94-2.06 2.06-.94-2.06-.94-.94-2.06-.94 2.06-2.06.94z\"/><path d=\"M17.41 7.96l-1.37-1.37c-.4-.4-.92-.59-1.43-.59-.52 0-1.04.2-1.43.59L10.3 9.45l-7.72 7.72c-.78.78-.78 2.05 0 2.83L4 21.41c.39.39.9.59 1.41.59.51 0 1.02-.2 1.41-.59l7.78-7.78 2.81-2.81c.8-.78.8-2.07 0-2.86zM5.41 20L4 18.59l7.72-7.72 1.47 1.35L5.41 20z\"/>\n",
              "  </svg>\n",
              "      </button>\n",
              "      \n",
              "  <style>\n",
              "    .colab-df-container {\n",
              "      display:flex;\n",
              "      flex-wrap:wrap;\n",
              "      gap: 12px;\n",
              "    }\n",
              "\n",
              "    .colab-df-convert {\n",
              "      background-color: #E8F0FE;\n",
              "      border: none;\n",
              "      border-radius: 50%;\n",
              "      cursor: pointer;\n",
              "      display: none;\n",
              "      fill: #1967D2;\n",
              "      height: 32px;\n",
              "      padding: 0 0 0 0;\n",
              "      width: 32px;\n",
              "    }\n",
              "\n",
              "    .colab-df-convert:hover {\n",
              "      background-color: #E2EBFA;\n",
              "      box-shadow: 0px 1px 2px rgba(60, 64, 67, 0.3), 0px 1px 3px 1px rgba(60, 64, 67, 0.15);\n",
              "      fill: #174EA6;\n",
              "    }\n",
              "\n",
              "    [theme=dark] .colab-df-convert {\n",
              "      background-color: #3B4455;\n",
              "      fill: #D2E3FC;\n",
              "    }\n",
              "\n",
              "    [theme=dark] .colab-df-convert:hover {\n",
              "      background-color: #434B5C;\n",
              "      box-shadow: 0px 1px 3px 1px rgba(0, 0, 0, 0.15);\n",
              "      filter: drop-shadow(0px 1px 2px rgba(0, 0, 0, 0.3));\n",
              "      fill: #FFFFFF;\n",
              "    }\n",
              "  </style>\n",
              "\n",
              "      <script>\n",
              "        const buttonEl =\n",
              "          document.querySelector('#df-43536dba-cadd-4b55-b770-77f196eb4cda button.colab-df-convert');\n",
              "        buttonEl.style.display =\n",
              "          google.colab.kernel.accessAllowed ? 'block' : 'none';\n",
              "\n",
              "        async function convertToInteractive(key) {\n",
              "          const element = document.querySelector('#df-43536dba-cadd-4b55-b770-77f196eb4cda');\n",
              "          const dataTable =\n",
              "            await google.colab.kernel.invokeFunction('convertToInteractive',\n",
              "                                                     [key], {});\n",
              "          if (!dataTable) return;\n",
              "\n",
              "          const docLinkHtml = 'Like what you see? Visit the ' +\n",
              "            '<a target=\"_blank\" href=https://colab.research.google.com/notebooks/data_table.ipynb>data table notebook</a>'\n",
              "            + ' to learn more about interactive tables.';\n",
              "          element.innerHTML = '';\n",
              "          dataTable['output_type'] = 'display_data';\n",
              "          await google.colab.output.renderOutput(dataTable, element);\n",
              "          const docLink = document.createElement('div');\n",
              "          docLink.innerHTML = docLinkHtml;\n",
              "          element.appendChild(docLink);\n",
              "        }\n",
              "      </script>\n",
              "    </div>\n",
              "  </div>\n",
              "  "
            ]
          },
          "metadata": {},
          "execution_count": 67
        }
      ]
    },
    {
      "cell_type": "markdown",
      "source": [
        "## Data Transformation"
      ],
      "metadata": {
        "id": "ULLGh1Bg3MZ1"
      }
    },
    {
      "cell_type": "markdown",
      "source": [
        "**Given Data set have only these data in int64**\n",
        "* 0  **Acedamic percentage in Operating Systems**  20000 non-null  int64 \n",
        "* 1  **percentage in Algorithms**                  20000 non-null  int64 \n",
        "* 2  **Percentage in Programming Concepts**        20000 non-null  int64 \n",
        "* 3  **Percentage in Software Engineering**        20000 non-null  int64 \n",
        "* 4   **Percentage in Computer Networks**           20000 non-null  int64 \n",
        "* 5   **Percentage in Electronics Subjects**        20000 non-null  int64 \n",
        "* 6   **Percentage in Computer Architecture**       20000 non-null  int64 \n",
        "* 7   **Percentage in Mathematics**                 20000 non-null  int64 \n",
        "* 8  **Percentage in Communication skills**        20000 non-null  int64 \n",
        "* 9   **Hours working per day**                     20000 non-null  int64 \n",
        "* 10 **Logical quotient rating**                   20000 non-null  int64 \n",
        "* 11  **hackathons**                                20000 non-null  int64 \n",
        "* 12  **coding skills rating**                      20000 non-null  int64 \n",
        "* 13  **public speaking points**                    20000 non-null  int64\n",
        "\n",
        "So we have to convert some of the remaining data in int"
      ],
      "metadata": {
        "id": "F59mfq0FeV8c"
      }
    },
    {
      "cell_type": "markdown",
      "source": [
        "### Suggested Job Role "
      ],
      "metadata": {
        "id": "HrHiD4SggotR"
      }
    },
    {
      "cell_type": "code",
      "source": [
        "# First fit career from 0 to 34 inorder to object to int so that we need to create dictionary\n",
        "sugJob = pd.Series(df_career['Suggested Job Role'].unique())"
      ],
      "metadata": {
        "id": "1OuWRfCeash_"
      },
      "execution_count": 68,
      "outputs": []
    },
    {
      "cell_type": "code",
      "source": [
        "#These are jobs.\n",
        "sugJob"
      ],
      "metadata": {
        "colab": {
          "base_uri": "https://localhost:8080/"
        },
        "id": "kpnO_9OXgOOJ",
        "outputId": "6a5af9e3-aa21-4212-f5bf-7e9bd871c65a"
      },
      "execution_count": 69,
      "outputs": [
        {
          "output_type": "execute_result",
          "data": {
            "text/plain": [
              "0      0\n",
              "1      1\n",
              "2      2\n",
              "3      3\n",
              "4      4\n",
              "5      5\n",
              "6      6\n",
              "7      7\n",
              "8      8\n",
              "9      9\n",
              "10    10\n",
              "11    11\n",
              "12    12\n",
              "13    13\n",
              "14    14\n",
              "15    15\n",
              "16    16\n",
              "17    17\n",
              "18    18\n",
              "19    19\n",
              "20    20\n",
              "21    21\n",
              "22    22\n",
              "23    23\n",
              "24    24\n",
              "25    25\n",
              "26    26\n",
              "27    27\n",
              "28    28\n",
              "29    29\n",
              "30    30\n",
              "31    31\n",
              "32    32\n",
              "33    33\n",
              "dtype: object"
            ]
          },
          "metadata": {},
          "execution_count": 69
        }
      ]
    },
    {
      "cell_type": "markdown",
      "source": [
        "**Fit in 0-33 scale**"
      ],
      "metadata": {
        "id": "y_VCDeCsgy3T"
      }
    },
    {
      "cell_type": "code",
      "source": [
        "df = df_career\n",
        "df.loc[df['Suggested Job Role'] == 'Database Developer', 'Suggested Job Role'] = 0\n",
        "df.loc[df['Suggested Job Role'] == 'Portal Administrator', 'Suggested Job Role'] = 1\n",
        "df.loc[df['Suggested Job Role'] == 'Systems Security Administrator', 'Suggested Job Role'] = 2\n",
        "df.loc[df['Suggested Job Role'] == 'Business Systems Analyst', 'Suggested Job Role'] = 3\n",
        "df.loc[df['Suggested Job Role'] == 'Software Systems Engineer', 'Suggested Job Role'] = 4\n",
        "df.loc[df['Suggested Job Role'] == 'Business Intelligence Analyst', 'Suggested Job Role'] = 5\n",
        "df.loc[df['Suggested Job Role'] == 'CRM Technical Developer', 'Suggested Job Role'] = 6\n",
        "df.loc[df['Suggested Job Role'] == 'Mobile Applications Developer', 'Suggested Job Role'] = 7\n",
        "df.loc[df['Suggested Job Role'] == 'UX Designer', 'Suggested Job Role'] = 8\n",
        "df.loc[df['Suggested Job Role'] == 'Quality Assurance Associate', 'Suggested Job Role'] = 9\n",
        "df.loc[df['Suggested Job Role'] == 'Web Developer', 'Suggested Job Role'] = 10\n",
        "df.loc[df['Suggested Job Role'] == 'Information Security Analyst', 'Suggested Job Role'] = 11\n",
        "df.loc[df['Suggested Job Role'] == 'CRM Business Analyst', 'Suggested Job Role'] = 12\n",
        "df.loc[df['Suggested Job Role'] == 'Technical Support', 'Suggested Job Role'] = 13\n",
        "df.loc[df['Suggested Job Role'] == 'Project Manager', 'Suggested Job Role'] = 14\n",
        "df.loc[df['Suggested Job Role'] == 'Information Technology Manager', 'Suggested Job Role'] = 15\n",
        "df.loc[df['Suggested Job Role'] == 'Programmer Analyst', 'Suggested Job Role'] = 16\n",
        "df.loc[df['Suggested Job Role'] == 'Design & UX', 'Suggested Job Role'] = 17\n",
        "df.loc[df['Suggested Job Role'] == 'Solutions Architect', 'Suggested Job Role'] = 18\n",
        "df.loc[df['Suggested Job Role'] == 'Systems Analyst', 'Suggested Job Role'] = 19\n",
        "df.loc[df['Suggested Job Role'] == 'Network Security Administrator', 'Suggested Job Role'] = 20\n",
        "df.loc[df['Suggested Job Role'] == 'Data Architect', 'Suggested Job Role'] = 21\n",
        "df.loc[df['Suggested Job Role'] == 'Software Developer', 'Suggested Job Role'] = 22\n",
        "df.loc[df['Suggested Job Role'] == 'E-Commerce Analyst', 'Suggested Job Role'] = 23\n",
        "df.loc[df['Suggested Job Role'] == 'Technical Services/Help Desk/Tech Support', 'Suggested Job Role'] = 24\n",
        "df.loc[df['Suggested Job Role'] == 'Information Technology Auditor', 'Suggested Job Role'] = 25\n",
        "df.loc[df['Suggested Job Role'] == 'Database Manager', 'Suggested Job Role'] = 26\n",
        "df.loc[df['Suggested Job Role'] == 'Applications Developer', 'Suggested Job Role'] = 27\n",
        "df.loc[df['Suggested Job Role'] == 'Database Administrator', 'Suggested Job Role'] = 28\n",
        "df.loc[df['Suggested Job Role'] == 'Network Engineer', 'Suggested Job Role'] = 29\n",
        "df.loc[df['Suggested Job Role'] == 'Software Engineer', 'Suggested Job Role'] = 30\n",
        "df.loc[df['Suggested Job Role'] == 'Technical Engineer', 'Suggested Job Role'] = 31\n",
        "df.loc[df['Suggested Job Role'] == 'Network Security Engineer', 'Suggested Job Role'] = 32\n",
        "df.loc[df['Suggested Job Role'] == 'Software Quality Assurance (QA) / Testing', 'Suggested Job Role'] = 33"
      ],
      "metadata": {
        "id": "09oyojhogZmG"
      },
      "execution_count": 70,
      "outputs": []
    },
    {
      "cell_type": "markdown",
      "source": [
        "### Extra-courses did"
      ],
      "metadata": {
        "id": "7rv8BXWeh6ln"
      }
    },
    {
      "cell_type": "code",
      "source": [
        "pd.Series(df_career['Extra-courses did'].unique())"
      ],
      "metadata": {
        "colab": {
          "base_uri": "https://localhost:8080/"
        },
        "id": "EE8EcOo-hfp2",
        "outputId": "110af7f4-44bf-42f2-e754-9087e791042e"
      },
      "execution_count": 71,
      "outputs": [
        {
          "output_type": "execute_result",
          "data": {
            "text/plain": [
              "0    1\n",
              "1    0\n",
              "dtype: object"
            ]
          },
          "metadata": {},
          "execution_count": 71
        }
      ]
    },
    {
      "cell_type": "code",
      "source": [
        "df.loc[df['Extra-courses did'] == 'yes', 'Extra-courses did'] = 1\n",
        "df.loc[df['Extra-courses did'] == 'no', 'Extra-courses did'] = 0"
      ],
      "metadata": {
        "id": "gjW5zpkPiM3I"
      },
      "execution_count": 72,
      "outputs": []
    },
    {
      "cell_type": "markdown",
      "source": [
        "### can work long time before system?"
      ],
      "metadata": {
        "id": "ak-iUnkZiWoG"
      }
    },
    {
      "cell_type": "code",
      "source": [
        "pd.Series(df_career['can work long time before system?'].unique())"
      ],
      "metadata": {
        "colab": {
          "base_uri": "https://localhost:8080/"
        },
        "id": "zFMjmYBOiVeX",
        "outputId": "5caefcd0-5003-4bf2-9d84-abfa7d4ee641"
      },
      "execution_count": 73,
      "outputs": [
        {
          "output_type": "execute_result",
          "data": {
            "text/plain": [
              "0    1\n",
              "1    0\n",
              "dtype: object"
            ]
          },
          "metadata": {},
          "execution_count": 73
        }
      ]
    },
    {
      "cell_type": "code",
      "source": [
        "df.loc[df['can work long time before system?'] == 'yes', 'can work long time before system?'] = 1\n",
        "df.loc[df['can work long time before system?'] == 'no', 'can work long time before system?'] = 0"
      ],
      "metadata": {
        "id": "Eqt57CCXiq4z"
      },
      "execution_count": 74,
      "outputs": []
    },
    {
      "cell_type": "markdown",
      "source": [
        "### self-learning capability?"
      ],
      "metadata": {
        "id": "9Uznr08xiyNX"
      }
    },
    {
      "cell_type": "code",
      "source": [
        "pd.Series(df_career['self-learning capability?'].unique())"
      ],
      "metadata": {
        "colab": {
          "base_uri": "https://localhost:8080/"
        },
        "id": "neefZxqvjCXq",
        "outputId": "9ef4b603-ae17-4f3e-af8a-33771261fe24"
      },
      "execution_count": 75,
      "outputs": [
        {
          "output_type": "execute_result",
          "data": {
            "text/plain": [
              "0    1\n",
              "1    0\n",
              "dtype: object"
            ]
          },
          "metadata": {},
          "execution_count": 75
        }
      ]
    },
    {
      "cell_type": "code",
      "source": [
        "df.loc[df['self-learning capability?'] == 'yes', 'self-learning capability?'] = 1\n",
        "df.loc[df['self-learning capability?'] == 'no', 'self-learning capability?'] = 0"
      ],
      "metadata": {
        "id": "pohTS0nGiwrJ"
      },
      "execution_count": 76,
      "outputs": []
    },
    {
      "cell_type": "markdown",
      "source": [
        "### Management or Technical"
      ],
      "metadata": {
        "id": "Hqa-CKnojjHY"
      }
    },
    {
      "cell_type": "code",
      "source": [
        "pd.Series(df_career['Management or Technical'].unique())"
      ],
      "metadata": {
        "colab": {
          "base_uri": "https://localhost:8080/"
        },
        "id": "gITBNhJfjA4O",
        "outputId": "918dda45-6d93-4d01-edaa-5f1064169309"
      },
      "execution_count": 77,
      "outputs": [
        {
          "output_type": "execute_result",
          "data": {
            "text/plain": [
              "0    1\n",
              "dtype: object"
            ]
          },
          "metadata": {},
          "execution_count": 77
        }
      ]
    },
    {
      "cell_type": "code",
      "source": [
        "df.loc[df['Management or Technical'] == 'Management', 'Management or Technical']=1\n",
        "df.loc[df['Management or Technical'] == 'Technical', 'Management or Technical']=1"
      ],
      "metadata": {
        "id": "ATgh7SPJjpsU"
      },
      "execution_count": 78,
      "outputs": []
    },
    {
      "cell_type": "markdown",
      "source": [
        "### Check dataset"
      ],
      "metadata": {
        "id": "vWylp8DlnxEU"
      }
    },
    {
      "cell_type": "code",
      "source": [
        "df.info()"
      ],
      "metadata": {
        "colab": {
          "base_uri": "https://localhost:8080/"
        },
        "id": "064lNiayn1Rs",
        "outputId": "d6734ada-68e9-4b11-af73-8fcd1c19a09d"
      },
      "execution_count": 80,
      "outputs": [
        {
          "output_type": "stream",
          "name": "stdout",
          "text": [
            "<class 'pandas.core.frame.DataFrame'>\n",
            "RangeIndex: 20000 entries, 0 to 19999\n",
            "Data columns (total 39 columns):\n",
            " #   Column                                    Non-Null Count  Dtype \n",
            "---  ------                                    --------------  ----- \n",
            " 0   Acedamic percentage in Operating Systems  20000 non-null  int64 \n",
            " 1   percentage in Algorithms                  20000 non-null  int64 \n",
            " 2   Percentage in Programming Concepts        20000 non-null  int64 \n",
            " 3   Percentage in Software Engineering        20000 non-null  int64 \n",
            " 4   Percentage in Computer Networks           20000 non-null  int64 \n",
            " 5   Percentage in Electronics Subjects        20000 non-null  int64 \n",
            " 6   Percentage in Computer Architecture       20000 non-null  int64 \n",
            " 7   Percentage in Mathematics                 20000 non-null  int64 \n",
            " 8   Percentage in Communication skills        20000 non-null  int64 \n",
            " 9   Hours working per day                     20000 non-null  int64 \n",
            " 10  Logical quotient rating                   20000 non-null  int64 \n",
            " 11  hackathons                                20000 non-null  int64 \n",
            " 12  coding skills rating                      20000 non-null  int64 \n",
            " 13  public speaking points                    20000 non-null  int64 \n",
            " 14  can work long time before system?         20000 non-null  object\n",
            " 15  self-learning capability?                 20000 non-null  object\n",
            " 16  Extra-courses did                         20000 non-null  object\n",
            " 17  certifications                            20000 non-null  object\n",
            " 18  workshops                                 20000 non-null  object\n",
            " 19  talenttests taken?                        20000 non-null  object\n",
            " 20  olympiads                                 20000 non-null  object\n",
            " 21  reading and writing skills                20000 non-null  object\n",
            " 22  memory capability score                   20000 non-null  object\n",
            " 23  Interested subjects                       20000 non-null  object\n",
            " 24  interested career area                    20000 non-null  object\n",
            " 25  Job/Higher Studies?                       20000 non-null  object\n",
            " 26  Type of company want to settle in?        20000 non-null  object\n",
            " 27  Taken inputs from seniors or elders       20000 non-null  object\n",
            " 28  interested in games                       20000 non-null  object\n",
            " 29  Interested Type of Books                  20000 non-null  object\n",
            " 30  Salary Range Expected                     20000 non-null  object\n",
            " 31  In a Realtionship?                        20000 non-null  object\n",
            " 32  Gentle or Tuff behaviour?                 20000 non-null  object\n",
            " 33  Management or Technical                   20000 non-null  object\n",
            " 34  Salary/work                               20000 non-null  object\n",
            " 35  hard/smart worker                         20000 non-null  object\n",
            " 36  worked in teams ever?                     20000 non-null  object\n",
            " 37  Introvert                                 20000 non-null  object\n",
            " 38  Suggested Job Role                        20000 non-null  object\n",
            "dtypes: int64(14), object(25)\n",
            "memory usage: 6.0+ MB\n"
          ]
        }
      ]
    },
    {
      "cell_type": "code",
      "source": [
        "df.corr()"
      ],
      "metadata": {
        "colab": {
          "base_uri": "https://localhost:8080/",
          "height": 949
        },
        "id": "C5jL9W5VoAzM",
        "outputId": "a287d5d3-61c5-444d-90ba-0d0471832e97"
      },
      "execution_count": 88,
      "outputs": [
        {
          "output_type": "execute_result",
          "data": {
            "text/plain": [
              "                                          Acedamic percentage in Operating Systems  \\\n",
              "Acedamic percentage in Operating Systems                                  1.000000   \n",
              "percentage in Algorithms                                                  0.001781   \n",
              "Percentage in Programming Concepts                                       -0.004693   \n",
              "Percentage in Software Engineering                                        0.010691   \n",
              "Percentage in Computer Networks                                          -0.001003   \n",
              "Percentage in Electronics Subjects                                       -0.010402   \n",
              "Percentage in Computer Architecture                                       0.011958   \n",
              "Percentage in Mathematics                                                -0.003203   \n",
              "Percentage in Communication skills                                       -0.001770   \n",
              "Hours working per day                                                     0.009925   \n",
              "Logical quotient rating                                                   0.004602   \n",
              "hackathons                                                               -0.006075   \n",
              "coding skills rating                                                     -0.001214   \n",
              "public speaking points                                                    0.003999   \n",
              "\n",
              "                                          percentage in Algorithms  \\\n",
              "Acedamic percentage in Operating Systems                  0.001781   \n",
              "percentage in Algorithms                                  1.000000   \n",
              "Percentage in Programming Concepts                        0.000914   \n",
              "Percentage in Software Engineering                        0.004178   \n",
              "Percentage in Computer Networks                          -0.000961   \n",
              "Percentage in Electronics Subjects                       -0.004914   \n",
              "Percentage in Computer Architecture                      -0.003793   \n",
              "Percentage in Mathematics                                -0.007968   \n",
              "Percentage in Communication skills                       -0.001485   \n",
              "Hours working per day                                     0.011567   \n",
              "Logical quotient rating                                  -0.013894   \n",
              "hackathons                                                0.006679   \n",
              "coding skills rating                                      0.013466   \n",
              "public speaking points                                    0.003912   \n",
              "\n",
              "                                          Percentage in Programming Concepts  \\\n",
              "Acedamic percentage in Operating Systems                           -0.004693   \n",
              "percentage in Algorithms                                            0.000914   \n",
              "Percentage in Programming Concepts                                  1.000000   \n",
              "Percentage in Software Engineering                                  0.006810   \n",
              "Percentage in Computer Networks                                     0.001120   \n",
              "Percentage in Electronics Subjects                                  0.003585   \n",
              "Percentage in Computer Architecture                                -0.001093   \n",
              "Percentage in Mathematics                                          -0.008326   \n",
              "Percentage in Communication skills                                 -0.002105   \n",
              "Hours working per day                                              -0.003532   \n",
              "Logical quotient rating                                            -0.010540   \n",
              "hackathons                                                         -0.008081   \n",
              "coding skills rating                                               -0.009414   \n",
              "public speaking points                                             -0.008243   \n",
              "\n",
              "                                          Percentage in Software Engineering  \\\n",
              "Acedamic percentage in Operating Systems                            0.010691   \n",
              "percentage in Algorithms                                            0.004178   \n",
              "Percentage in Programming Concepts                                  0.006810   \n",
              "Percentage in Software Engineering                                  1.000000   \n",
              "Percentage in Computer Networks                                    -0.009601   \n",
              "Percentage in Electronics Subjects                                  0.005680   \n",
              "Percentage in Computer Architecture                                 0.000722   \n",
              "Percentage in Mathematics                                           0.001932   \n",
              "Percentage in Communication skills                                  0.015085   \n",
              "Hours working per day                                              -0.011287   \n",
              "Logical quotient rating                                             0.007988   \n",
              "hackathons                                                         -0.005637   \n",
              "coding skills rating                                               -0.000148   \n",
              "public speaking points                                             -0.003006   \n",
              "\n",
              "                                          Percentage in Computer Networks  \\\n",
              "Acedamic percentage in Operating Systems                        -0.001003   \n",
              "percentage in Algorithms                                        -0.000961   \n",
              "Percentage in Programming Concepts                               0.001120   \n",
              "Percentage in Software Engineering                              -0.009601   \n",
              "Percentage in Computer Networks                                  1.000000   \n",
              "Percentage in Electronics Subjects                              -0.002255   \n",
              "Percentage in Computer Architecture                              0.008840   \n",
              "Percentage in Mathematics                                        0.003276   \n",
              "Percentage in Communication skills                              -0.008065   \n",
              "Hours working per day                                           -0.001204   \n",
              "Logical quotient rating                                         -0.000585   \n",
              "hackathons                                                       0.003816   \n",
              "coding skills rating                                             0.004241   \n",
              "public speaking points                                           0.009924   \n",
              "\n",
              "                                          Percentage in Electronics Subjects  \\\n",
              "Acedamic percentage in Operating Systems                           -0.010402   \n",
              "percentage in Algorithms                                           -0.004914   \n",
              "Percentage in Programming Concepts                                  0.003585   \n",
              "Percentage in Software Engineering                                  0.005680   \n",
              "Percentage in Computer Networks                                    -0.002255   \n",
              "Percentage in Electronics Subjects                                  1.000000   \n",
              "Percentage in Computer Architecture                                 0.002406   \n",
              "Percentage in Mathematics                                          -0.003306   \n",
              "Percentage in Communication skills                                  0.000635   \n",
              "Hours working per day                                               0.007186   \n",
              "Logical quotient rating                                             0.015727   \n",
              "hackathons                                                          0.002428   \n",
              "coding skills rating                                                0.002663   \n",
              "public speaking points                                             -0.008268   \n",
              "\n",
              "                                          Percentage in Computer Architecture  \\\n",
              "Acedamic percentage in Operating Systems                             0.011958   \n",
              "percentage in Algorithms                                            -0.003793   \n",
              "Percentage in Programming Concepts                                  -0.001093   \n",
              "Percentage in Software Engineering                                   0.000722   \n",
              "Percentage in Computer Networks                                      0.008840   \n",
              "Percentage in Electronics Subjects                                   0.002406   \n",
              "Percentage in Computer Architecture                                  1.000000   \n",
              "Percentage in Mathematics                                           -0.002009   \n",
              "Percentage in Communication skills                                  -0.000076   \n",
              "Hours working per day                                                0.000484   \n",
              "Logical quotient rating                                             -0.000559   \n",
              "hackathons                                                           0.005101   \n",
              "coding skills rating                                                -0.013613   \n",
              "public speaking points                                               0.011289   \n",
              "\n",
              "                                          Percentage in Mathematics  \\\n",
              "Acedamic percentage in Operating Systems                  -0.003203   \n",
              "percentage in Algorithms                                  -0.007968   \n",
              "Percentage in Programming Concepts                        -0.008326   \n",
              "Percentage in Software Engineering                         0.001932   \n",
              "Percentage in Computer Networks                            0.003276   \n",
              "Percentage in Electronics Subjects                        -0.003306   \n",
              "Percentage in Computer Architecture                       -0.002009   \n",
              "Percentage in Mathematics                                  1.000000   \n",
              "Percentage in Communication skills                         0.003569   \n",
              "Hours working per day                                      0.014636   \n",
              "Logical quotient rating                                   -0.005173   \n",
              "hackathons                                                -0.007806   \n",
              "coding skills rating                                       0.001658   \n",
              "public speaking points                                    -0.001312   \n",
              "\n",
              "                                          Percentage in Communication skills  \\\n",
              "Acedamic percentage in Operating Systems                           -0.001770   \n",
              "percentage in Algorithms                                           -0.001485   \n",
              "Percentage in Programming Concepts                                 -0.002105   \n",
              "Percentage in Software Engineering                                  0.015085   \n",
              "Percentage in Computer Networks                                    -0.008065   \n",
              "Percentage in Electronics Subjects                                  0.000635   \n",
              "Percentage in Computer Architecture                                -0.000076   \n",
              "Percentage in Mathematics                                           0.003569   \n",
              "Percentage in Communication skills                                  1.000000   \n",
              "Hours working per day                                              -0.002681   \n",
              "Logical quotient rating                                            -0.003575   \n",
              "hackathons                                                         -0.009893   \n",
              "coding skills rating                                               -0.003744   \n",
              "public speaking points                                             -0.000864   \n",
              "\n",
              "                                          Hours working per day  \\\n",
              "Acedamic percentage in Operating Systems               0.009925   \n",
              "percentage in Algorithms                               0.011567   \n",
              "Percentage in Programming Concepts                    -0.003532   \n",
              "Percentage in Software Engineering                    -0.011287   \n",
              "Percentage in Computer Networks                       -0.001204   \n",
              "Percentage in Electronics Subjects                     0.007186   \n",
              "Percentage in Computer Architecture                    0.000484   \n",
              "Percentage in Mathematics                              0.014636   \n",
              "Percentage in Communication skills                    -0.002681   \n",
              "Hours working per day                                  1.000000   \n",
              "Logical quotient rating                               -0.004810   \n",
              "hackathons                                            -0.001087   \n",
              "coding skills rating                                  -0.006686   \n",
              "public speaking points                                 0.002022   \n",
              "\n",
              "                                          Logical quotient rating  hackathons  \\\n",
              "Acedamic percentage in Operating Systems                 0.004602   -0.006075   \n",
              "percentage in Algorithms                                -0.013894    0.006679   \n",
              "Percentage in Programming Concepts                      -0.010540   -0.008081   \n",
              "Percentage in Software Engineering                       0.007988   -0.005637   \n",
              "Percentage in Computer Networks                         -0.000585    0.003816   \n",
              "Percentage in Electronics Subjects                       0.015727    0.002428   \n",
              "Percentage in Computer Architecture                     -0.000559    0.005101   \n",
              "Percentage in Mathematics                               -0.005173   -0.007806   \n",
              "Percentage in Communication skills                      -0.003575   -0.009893   \n",
              "Hours working per day                                   -0.004810   -0.001087   \n",
              "Logical quotient rating                                  1.000000    0.003870   \n",
              "hackathons                                               0.003870    1.000000   \n",
              "coding skills rating                                     0.002525    0.007814   \n",
              "public speaking points                                   0.008587    0.006547   \n",
              "\n",
              "                                          coding skills rating  \\\n",
              "Acedamic percentage in Operating Systems             -0.001214   \n",
              "percentage in Algorithms                              0.013466   \n",
              "Percentage in Programming Concepts                   -0.009414   \n",
              "Percentage in Software Engineering                   -0.000148   \n",
              "Percentage in Computer Networks                       0.004241   \n",
              "Percentage in Electronics Subjects                    0.002663   \n",
              "Percentage in Computer Architecture                  -0.013613   \n",
              "Percentage in Mathematics                             0.001658   \n",
              "Percentage in Communication skills                   -0.003744   \n",
              "Hours working per day                                -0.006686   \n",
              "Logical quotient rating                               0.002525   \n",
              "hackathons                                            0.007814   \n",
              "coding skills rating                                  1.000000   \n",
              "public speaking points                               -0.003787   \n",
              "\n",
              "                                          public speaking points  \n",
              "Acedamic percentage in Operating Systems                0.003999  \n",
              "percentage in Algorithms                                0.003912  \n",
              "Percentage in Programming Concepts                     -0.008243  \n",
              "Percentage in Software Engineering                     -0.003006  \n",
              "Percentage in Computer Networks                         0.009924  \n",
              "Percentage in Electronics Subjects                     -0.008268  \n",
              "Percentage in Computer Architecture                     0.011289  \n",
              "Percentage in Mathematics                              -0.001312  \n",
              "Percentage in Communication skills                     -0.000864  \n",
              "Hours working per day                                   0.002022  \n",
              "Logical quotient rating                                 0.008587  \n",
              "hackathons                                              0.006547  \n",
              "coding skills rating                                   -0.003787  \n",
              "public speaking points                                  1.000000  "
            ],
            "text/html": [
              "\n",
              "  <div id=\"df-1590e973-9f02-4c6b-b47c-9b61db00746e\">\n",
              "    <div class=\"colab-df-container\">\n",
              "      <div>\n",
              "<style scoped>\n",
              "    .dataframe tbody tr th:only-of-type {\n",
              "        vertical-align: middle;\n",
              "    }\n",
              "\n",
              "    .dataframe tbody tr th {\n",
              "        vertical-align: top;\n",
              "    }\n",
              "\n",
              "    .dataframe thead th {\n",
              "        text-align: right;\n",
              "    }\n",
              "</style>\n",
              "<table border=\"1\" class=\"dataframe\">\n",
              "  <thead>\n",
              "    <tr style=\"text-align: right;\">\n",
              "      <th></th>\n",
              "      <th>Acedamic percentage in Operating Systems</th>\n",
              "      <th>percentage in Algorithms</th>\n",
              "      <th>Percentage in Programming Concepts</th>\n",
              "      <th>Percentage in Software Engineering</th>\n",
              "      <th>Percentage in Computer Networks</th>\n",
              "      <th>Percentage in Electronics Subjects</th>\n",
              "      <th>Percentage in Computer Architecture</th>\n",
              "      <th>Percentage in Mathematics</th>\n",
              "      <th>Percentage in Communication skills</th>\n",
              "      <th>Hours working per day</th>\n",
              "      <th>Logical quotient rating</th>\n",
              "      <th>hackathons</th>\n",
              "      <th>coding skills rating</th>\n",
              "      <th>public speaking points</th>\n",
              "    </tr>\n",
              "  </thead>\n",
              "  <tbody>\n",
              "    <tr>\n",
              "      <th>Acedamic percentage in Operating Systems</th>\n",
              "      <td>1.000000</td>\n",
              "      <td>0.001781</td>\n",
              "      <td>-0.004693</td>\n",
              "      <td>0.010691</td>\n",
              "      <td>-0.001003</td>\n",
              "      <td>-0.010402</td>\n",
              "      <td>0.011958</td>\n",
              "      <td>-0.003203</td>\n",
              "      <td>-0.001770</td>\n",
              "      <td>0.009925</td>\n",
              "      <td>0.004602</td>\n",
              "      <td>-0.006075</td>\n",
              "      <td>-0.001214</td>\n",
              "      <td>0.003999</td>\n",
              "    </tr>\n",
              "    <tr>\n",
              "      <th>percentage in Algorithms</th>\n",
              "      <td>0.001781</td>\n",
              "      <td>1.000000</td>\n",
              "      <td>0.000914</td>\n",
              "      <td>0.004178</td>\n",
              "      <td>-0.000961</td>\n",
              "      <td>-0.004914</td>\n",
              "      <td>-0.003793</td>\n",
              "      <td>-0.007968</td>\n",
              "      <td>-0.001485</td>\n",
              "      <td>0.011567</td>\n",
              "      <td>-0.013894</td>\n",
              "      <td>0.006679</td>\n",
              "      <td>0.013466</td>\n",
              "      <td>0.003912</td>\n",
              "    </tr>\n",
              "    <tr>\n",
              "      <th>Percentage in Programming Concepts</th>\n",
              "      <td>-0.004693</td>\n",
              "      <td>0.000914</td>\n",
              "      <td>1.000000</td>\n",
              "      <td>0.006810</td>\n",
              "      <td>0.001120</td>\n",
              "      <td>0.003585</td>\n",
              "      <td>-0.001093</td>\n",
              "      <td>-0.008326</td>\n",
              "      <td>-0.002105</td>\n",
              "      <td>-0.003532</td>\n",
              "      <td>-0.010540</td>\n",
              "      <td>-0.008081</td>\n",
              "      <td>-0.009414</td>\n",
              "      <td>-0.008243</td>\n",
              "    </tr>\n",
              "    <tr>\n",
              "      <th>Percentage in Software Engineering</th>\n",
              "      <td>0.010691</td>\n",
              "      <td>0.004178</td>\n",
              "      <td>0.006810</td>\n",
              "      <td>1.000000</td>\n",
              "      <td>-0.009601</td>\n",
              "      <td>0.005680</td>\n",
              "      <td>0.000722</td>\n",
              "      <td>0.001932</td>\n",
              "      <td>0.015085</td>\n",
              "      <td>-0.011287</td>\n",
              "      <td>0.007988</td>\n",
              "      <td>-0.005637</td>\n",
              "      <td>-0.000148</td>\n",
              "      <td>-0.003006</td>\n",
              "    </tr>\n",
              "    <tr>\n",
              "      <th>Percentage in Computer Networks</th>\n",
              "      <td>-0.001003</td>\n",
              "      <td>-0.000961</td>\n",
              "      <td>0.001120</td>\n",
              "      <td>-0.009601</td>\n",
              "      <td>1.000000</td>\n",
              "      <td>-0.002255</td>\n",
              "      <td>0.008840</td>\n",
              "      <td>0.003276</td>\n",
              "      <td>-0.008065</td>\n",
              "      <td>-0.001204</td>\n",
              "      <td>-0.000585</td>\n",
              "      <td>0.003816</td>\n",
              "      <td>0.004241</td>\n",
              "      <td>0.009924</td>\n",
              "    </tr>\n",
              "    <tr>\n",
              "      <th>Percentage in Electronics Subjects</th>\n",
              "      <td>-0.010402</td>\n",
              "      <td>-0.004914</td>\n",
              "      <td>0.003585</td>\n",
              "      <td>0.005680</td>\n",
              "      <td>-0.002255</td>\n",
              "      <td>1.000000</td>\n",
              "      <td>0.002406</td>\n",
              "      <td>-0.003306</td>\n",
              "      <td>0.000635</td>\n",
              "      <td>0.007186</td>\n",
              "      <td>0.015727</td>\n",
              "      <td>0.002428</td>\n",
              "      <td>0.002663</td>\n",
              "      <td>-0.008268</td>\n",
              "    </tr>\n",
              "    <tr>\n",
              "      <th>Percentage in Computer Architecture</th>\n",
              "      <td>0.011958</td>\n",
              "      <td>-0.003793</td>\n",
              "      <td>-0.001093</td>\n",
              "      <td>0.000722</td>\n",
              "      <td>0.008840</td>\n",
              "      <td>0.002406</td>\n",
              "      <td>1.000000</td>\n",
              "      <td>-0.002009</td>\n",
              "      <td>-0.000076</td>\n",
              "      <td>0.000484</td>\n",
              "      <td>-0.000559</td>\n",
              "      <td>0.005101</td>\n",
              "      <td>-0.013613</td>\n",
              "      <td>0.011289</td>\n",
              "    </tr>\n",
              "    <tr>\n",
              "      <th>Percentage in Mathematics</th>\n",
              "      <td>-0.003203</td>\n",
              "      <td>-0.007968</td>\n",
              "      <td>-0.008326</td>\n",
              "      <td>0.001932</td>\n",
              "      <td>0.003276</td>\n",
              "      <td>-0.003306</td>\n",
              "      <td>-0.002009</td>\n",
              "      <td>1.000000</td>\n",
              "      <td>0.003569</td>\n",
              "      <td>0.014636</td>\n",
              "      <td>-0.005173</td>\n",
              "      <td>-0.007806</td>\n",
              "      <td>0.001658</td>\n",
              "      <td>-0.001312</td>\n",
              "    </tr>\n",
              "    <tr>\n",
              "      <th>Percentage in Communication skills</th>\n",
              "      <td>-0.001770</td>\n",
              "      <td>-0.001485</td>\n",
              "      <td>-0.002105</td>\n",
              "      <td>0.015085</td>\n",
              "      <td>-0.008065</td>\n",
              "      <td>0.000635</td>\n",
              "      <td>-0.000076</td>\n",
              "      <td>0.003569</td>\n",
              "      <td>1.000000</td>\n",
              "      <td>-0.002681</td>\n",
              "      <td>-0.003575</td>\n",
              "      <td>-0.009893</td>\n",
              "      <td>-0.003744</td>\n",
              "      <td>-0.000864</td>\n",
              "    </tr>\n",
              "    <tr>\n",
              "      <th>Hours working per day</th>\n",
              "      <td>0.009925</td>\n",
              "      <td>0.011567</td>\n",
              "      <td>-0.003532</td>\n",
              "      <td>-0.011287</td>\n",
              "      <td>-0.001204</td>\n",
              "      <td>0.007186</td>\n",
              "      <td>0.000484</td>\n",
              "      <td>0.014636</td>\n",
              "      <td>-0.002681</td>\n",
              "      <td>1.000000</td>\n",
              "      <td>-0.004810</td>\n",
              "      <td>-0.001087</td>\n",
              "      <td>-0.006686</td>\n",
              "      <td>0.002022</td>\n",
              "    </tr>\n",
              "    <tr>\n",
              "      <th>Logical quotient rating</th>\n",
              "      <td>0.004602</td>\n",
              "      <td>-0.013894</td>\n",
              "      <td>-0.010540</td>\n",
              "      <td>0.007988</td>\n",
              "      <td>-0.000585</td>\n",
              "      <td>0.015727</td>\n",
              "      <td>-0.000559</td>\n",
              "      <td>-0.005173</td>\n",
              "      <td>-0.003575</td>\n",
              "      <td>-0.004810</td>\n",
              "      <td>1.000000</td>\n",
              "      <td>0.003870</td>\n",
              "      <td>0.002525</td>\n",
              "      <td>0.008587</td>\n",
              "    </tr>\n",
              "    <tr>\n",
              "      <th>hackathons</th>\n",
              "      <td>-0.006075</td>\n",
              "      <td>0.006679</td>\n",
              "      <td>-0.008081</td>\n",
              "      <td>-0.005637</td>\n",
              "      <td>0.003816</td>\n",
              "      <td>0.002428</td>\n",
              "      <td>0.005101</td>\n",
              "      <td>-0.007806</td>\n",
              "      <td>-0.009893</td>\n",
              "      <td>-0.001087</td>\n",
              "      <td>0.003870</td>\n",
              "      <td>1.000000</td>\n",
              "      <td>0.007814</td>\n",
              "      <td>0.006547</td>\n",
              "    </tr>\n",
              "    <tr>\n",
              "      <th>coding skills rating</th>\n",
              "      <td>-0.001214</td>\n",
              "      <td>0.013466</td>\n",
              "      <td>-0.009414</td>\n",
              "      <td>-0.000148</td>\n",
              "      <td>0.004241</td>\n",
              "      <td>0.002663</td>\n",
              "      <td>-0.013613</td>\n",
              "      <td>0.001658</td>\n",
              "      <td>-0.003744</td>\n",
              "      <td>-0.006686</td>\n",
              "      <td>0.002525</td>\n",
              "      <td>0.007814</td>\n",
              "      <td>1.000000</td>\n",
              "      <td>-0.003787</td>\n",
              "    </tr>\n",
              "    <tr>\n",
              "      <th>public speaking points</th>\n",
              "      <td>0.003999</td>\n",
              "      <td>0.003912</td>\n",
              "      <td>-0.008243</td>\n",
              "      <td>-0.003006</td>\n",
              "      <td>0.009924</td>\n",
              "      <td>-0.008268</td>\n",
              "      <td>0.011289</td>\n",
              "      <td>-0.001312</td>\n",
              "      <td>-0.000864</td>\n",
              "      <td>0.002022</td>\n",
              "      <td>0.008587</td>\n",
              "      <td>0.006547</td>\n",
              "      <td>-0.003787</td>\n",
              "      <td>1.000000</td>\n",
              "    </tr>\n",
              "  </tbody>\n",
              "</table>\n",
              "</div>\n",
              "      <button class=\"colab-df-convert\" onclick=\"convertToInteractive('df-1590e973-9f02-4c6b-b47c-9b61db00746e')\"\n",
              "              title=\"Convert this dataframe to an interactive table.\"\n",
              "              style=\"display:none;\">\n",
              "        \n",
              "  <svg xmlns=\"http://www.w3.org/2000/svg\" height=\"24px\"viewBox=\"0 0 24 24\"\n",
              "       width=\"24px\">\n",
              "    <path d=\"M0 0h24v24H0V0z\" fill=\"none\"/>\n",
              "    <path d=\"M18.56 5.44l.94 2.06.94-2.06 2.06-.94-2.06-.94-.94-2.06-.94 2.06-2.06.94zm-11 1L8.5 8.5l.94-2.06 2.06-.94-2.06-.94L8.5 2.5l-.94 2.06-2.06.94zm10 10l.94 2.06.94-2.06 2.06-.94-2.06-.94-.94-2.06-.94 2.06-2.06.94z\"/><path d=\"M17.41 7.96l-1.37-1.37c-.4-.4-.92-.59-1.43-.59-.52 0-1.04.2-1.43.59L10.3 9.45l-7.72 7.72c-.78.78-.78 2.05 0 2.83L4 21.41c.39.39.9.59 1.41.59.51 0 1.02-.2 1.41-.59l7.78-7.78 2.81-2.81c.8-.78.8-2.07 0-2.86zM5.41 20L4 18.59l7.72-7.72 1.47 1.35L5.41 20z\"/>\n",
              "  </svg>\n",
              "      </button>\n",
              "      \n",
              "  <style>\n",
              "    .colab-df-container {\n",
              "      display:flex;\n",
              "      flex-wrap:wrap;\n",
              "      gap: 12px;\n",
              "    }\n",
              "\n",
              "    .colab-df-convert {\n",
              "      background-color: #E8F0FE;\n",
              "      border: none;\n",
              "      border-radius: 50%;\n",
              "      cursor: pointer;\n",
              "      display: none;\n",
              "      fill: #1967D2;\n",
              "      height: 32px;\n",
              "      padding: 0 0 0 0;\n",
              "      width: 32px;\n",
              "    }\n",
              "\n",
              "    .colab-df-convert:hover {\n",
              "      background-color: #E2EBFA;\n",
              "      box-shadow: 0px 1px 2px rgba(60, 64, 67, 0.3), 0px 1px 3px 1px rgba(60, 64, 67, 0.15);\n",
              "      fill: #174EA6;\n",
              "    }\n",
              "\n",
              "    [theme=dark] .colab-df-convert {\n",
              "      background-color: #3B4455;\n",
              "      fill: #D2E3FC;\n",
              "    }\n",
              "\n",
              "    [theme=dark] .colab-df-convert:hover {\n",
              "      background-color: #434B5C;\n",
              "      box-shadow: 0px 1px 3px 1px rgba(0, 0, 0, 0.15);\n",
              "      filter: drop-shadow(0px 1px 2px rgba(0, 0, 0, 0.3));\n",
              "      fill: #FFFFFF;\n",
              "    }\n",
              "  </style>\n",
              "\n",
              "      <script>\n",
              "        const buttonEl =\n",
              "          document.querySelector('#df-1590e973-9f02-4c6b-b47c-9b61db00746e button.colab-df-convert');\n",
              "        buttonEl.style.display =\n",
              "          google.colab.kernel.accessAllowed ? 'block' : 'none';\n",
              "\n",
              "        async function convertToInteractive(key) {\n",
              "          const element = document.querySelector('#df-1590e973-9f02-4c6b-b47c-9b61db00746e');\n",
              "          const dataTable =\n",
              "            await google.colab.kernel.invokeFunction('convertToInteractive',\n",
              "                                                     [key], {});\n",
              "          if (!dataTable) return;\n",
              "\n",
              "          const docLinkHtml = 'Like what you see? Visit the ' +\n",
              "            '<a target=\"_blank\" href=https://colab.research.google.com/notebooks/data_table.ipynb>data table notebook</a>'\n",
              "            + ' to learn more about interactive tables.';\n",
              "          element.innerHTML = '';\n",
              "          dataTable['output_type'] = 'display_data';\n",
              "          await google.colab.output.renderOutput(dataTable, element);\n",
              "          const docLink = document.createElement('div');\n",
              "          docLink.innerHTML = docLinkHtml;\n",
              "          element.appendChild(docLink);\n",
              "        }\n",
              "      </script>\n",
              "    </div>\n",
              "  </div>\n",
              "  "
            ]
          },
          "metadata": {},
          "execution_count": 88
        }
      ]
    },
    {
      "cell_type": "code",
      "source": [
        "df.describe()"
      ],
      "metadata": {
        "colab": {
          "base_uri": "https://localhost:8080/",
          "height": 396
        },
        "id": "IE9Z7FDHpArv",
        "outputId": "2e7d75ed-69e2-406c-80e5-a8117a3d0925"
      },
      "execution_count": 90,
      "outputs": [
        {
          "output_type": "execute_result",
          "data": {
            "text/plain": [
              "       Acedamic percentage in Operating Systems  percentage in Algorithms  \\\n",
              "count                              20000.000000              20000.000000   \n",
              "mean                                  77.002300                 76.948200   \n",
              "std                                   10.085697                 10.101733   \n",
              "min                                   60.000000                 60.000000   \n",
              "25%                                   68.000000                 68.000000   \n",
              "50%                                   77.000000                 77.000000   \n",
              "75%                                   86.000000                 86.000000   \n",
              "max                                   94.000000                 94.000000   \n",
              "\n",
              "       Percentage in Programming Concepts  Percentage in Software Engineering  \\\n",
              "count                        20000.000000                        20000.000000   \n",
              "mean                            77.017550                           77.094500   \n",
              "std                             10.134815                           10.087837   \n",
              "min                             60.000000                           60.000000   \n",
              "25%                             68.000000                           68.000000   \n",
              "50%                             77.000000                           77.000000   \n",
              "75%                             86.000000                           86.000000   \n",
              "max                             94.000000                           94.000000   \n",
              "\n",
              "       Percentage in Computer Networks  Percentage in Electronics Subjects  \\\n",
              "count                     20000.000000                        20000.000000   \n",
              "mean                         76.958200                           77.015550   \n",
              "std                          10.020088                           10.168888   \n",
              "min                          60.000000                           60.000000   \n",
              "25%                          68.000000                           68.000000   \n",
              "50%                          77.000000                           77.000000   \n",
              "75%                          85.000000                           86.000000   \n",
              "max                          94.000000                           94.000000   \n",
              "\n",
              "       Percentage in Computer Architecture  Percentage in Mathematics  \\\n",
              "count                         20000.000000               20000.000000   \n",
              "mean                             77.069850                  76.913100   \n",
              "std                              10.069059                  10.138555   \n",
              "min                              60.000000                  60.000000   \n",
              "25%                              68.000000                  68.000000   \n",
              "50%                              77.000000                  77.000000   \n",
              "75%                              86.000000                  86.000000   \n",
              "max                              94.000000                  94.000000   \n",
              "\n",
              "       Percentage in Communication skills  Hours working per day  \\\n",
              "count                        20000.000000           20000.000000   \n",
              "mean                            76.921450               7.985950   \n",
              "std                             10.103494               2.593798   \n",
              "min                             60.000000               4.000000   \n",
              "25%                             68.000000               6.000000   \n",
              "50%                             77.000000               8.000000   \n",
              "75%                             86.000000              10.000000   \n",
              "max                             94.000000              12.000000   \n",
              "\n",
              "       Logical quotient rating    hackathons  coding skills rating  \\\n",
              "count             20000.000000  20000.000000          20000.000000   \n",
              "mean                  4.995050      2.992650              5.004750   \n",
              "std                   2.578383      2.005791              2.576831   \n",
              "min                   1.000000      0.000000              1.000000   \n",
              "25%                   3.000000      1.000000              3.000000   \n",
              "50%                   5.000000      3.000000              5.000000   \n",
              "75%                   7.000000      5.000000              7.000000   \n",
              "max                   9.000000      6.000000              9.000000   \n",
              "\n",
              "       public speaking points  \n",
              "count            20000.000000  \n",
              "mean                 5.012800  \n",
              "std                  2.588875  \n",
              "min                  1.000000  \n",
              "25%                  3.000000  \n",
              "50%                  5.000000  \n",
              "75%                  7.000000  \n",
              "max                  9.000000  "
            ],
            "text/html": [
              "\n",
              "  <div id=\"df-4bbde0c8-4d7f-45fb-b868-61745dbb1741\">\n",
              "    <div class=\"colab-df-container\">\n",
              "      <div>\n",
              "<style scoped>\n",
              "    .dataframe tbody tr th:only-of-type {\n",
              "        vertical-align: middle;\n",
              "    }\n",
              "\n",
              "    .dataframe tbody tr th {\n",
              "        vertical-align: top;\n",
              "    }\n",
              "\n",
              "    .dataframe thead th {\n",
              "        text-align: right;\n",
              "    }\n",
              "</style>\n",
              "<table border=\"1\" class=\"dataframe\">\n",
              "  <thead>\n",
              "    <tr style=\"text-align: right;\">\n",
              "      <th></th>\n",
              "      <th>Acedamic percentage in Operating Systems</th>\n",
              "      <th>percentage in Algorithms</th>\n",
              "      <th>Percentage in Programming Concepts</th>\n",
              "      <th>Percentage in Software Engineering</th>\n",
              "      <th>Percentage in Computer Networks</th>\n",
              "      <th>Percentage in Electronics Subjects</th>\n",
              "      <th>Percentage in Computer Architecture</th>\n",
              "      <th>Percentage in Mathematics</th>\n",
              "      <th>Percentage in Communication skills</th>\n",
              "      <th>Hours working per day</th>\n",
              "      <th>Logical quotient rating</th>\n",
              "      <th>hackathons</th>\n",
              "      <th>coding skills rating</th>\n",
              "      <th>public speaking points</th>\n",
              "    </tr>\n",
              "  </thead>\n",
              "  <tbody>\n",
              "    <tr>\n",
              "      <th>count</th>\n",
              "      <td>20000.000000</td>\n",
              "      <td>20000.000000</td>\n",
              "      <td>20000.000000</td>\n",
              "      <td>20000.000000</td>\n",
              "      <td>20000.000000</td>\n",
              "      <td>20000.000000</td>\n",
              "      <td>20000.000000</td>\n",
              "      <td>20000.000000</td>\n",
              "      <td>20000.000000</td>\n",
              "      <td>20000.000000</td>\n",
              "      <td>20000.000000</td>\n",
              "      <td>20000.000000</td>\n",
              "      <td>20000.000000</td>\n",
              "      <td>20000.000000</td>\n",
              "    </tr>\n",
              "    <tr>\n",
              "      <th>mean</th>\n",
              "      <td>77.002300</td>\n",
              "      <td>76.948200</td>\n",
              "      <td>77.017550</td>\n",
              "      <td>77.094500</td>\n",
              "      <td>76.958200</td>\n",
              "      <td>77.015550</td>\n",
              "      <td>77.069850</td>\n",
              "      <td>76.913100</td>\n",
              "      <td>76.921450</td>\n",
              "      <td>7.985950</td>\n",
              "      <td>4.995050</td>\n",
              "      <td>2.992650</td>\n",
              "      <td>5.004750</td>\n",
              "      <td>5.012800</td>\n",
              "    </tr>\n",
              "    <tr>\n",
              "      <th>std</th>\n",
              "      <td>10.085697</td>\n",
              "      <td>10.101733</td>\n",
              "      <td>10.134815</td>\n",
              "      <td>10.087837</td>\n",
              "      <td>10.020088</td>\n",
              "      <td>10.168888</td>\n",
              "      <td>10.069059</td>\n",
              "      <td>10.138555</td>\n",
              "      <td>10.103494</td>\n",
              "      <td>2.593798</td>\n",
              "      <td>2.578383</td>\n",
              "      <td>2.005791</td>\n",
              "      <td>2.576831</td>\n",
              "      <td>2.588875</td>\n",
              "    </tr>\n",
              "    <tr>\n",
              "      <th>min</th>\n",
              "      <td>60.000000</td>\n",
              "      <td>60.000000</td>\n",
              "      <td>60.000000</td>\n",
              "      <td>60.000000</td>\n",
              "      <td>60.000000</td>\n",
              "      <td>60.000000</td>\n",
              "      <td>60.000000</td>\n",
              "      <td>60.000000</td>\n",
              "      <td>60.000000</td>\n",
              "      <td>4.000000</td>\n",
              "      <td>1.000000</td>\n",
              "      <td>0.000000</td>\n",
              "      <td>1.000000</td>\n",
              "      <td>1.000000</td>\n",
              "    </tr>\n",
              "    <tr>\n",
              "      <th>25%</th>\n",
              "      <td>68.000000</td>\n",
              "      <td>68.000000</td>\n",
              "      <td>68.000000</td>\n",
              "      <td>68.000000</td>\n",
              "      <td>68.000000</td>\n",
              "      <td>68.000000</td>\n",
              "      <td>68.000000</td>\n",
              "      <td>68.000000</td>\n",
              "      <td>68.000000</td>\n",
              "      <td>6.000000</td>\n",
              "      <td>3.000000</td>\n",
              "      <td>1.000000</td>\n",
              "      <td>3.000000</td>\n",
              "      <td>3.000000</td>\n",
              "    </tr>\n",
              "    <tr>\n",
              "      <th>50%</th>\n",
              "      <td>77.000000</td>\n",
              "      <td>77.000000</td>\n",
              "      <td>77.000000</td>\n",
              "      <td>77.000000</td>\n",
              "      <td>77.000000</td>\n",
              "      <td>77.000000</td>\n",
              "      <td>77.000000</td>\n",
              "      <td>77.000000</td>\n",
              "      <td>77.000000</td>\n",
              "      <td>8.000000</td>\n",
              "      <td>5.000000</td>\n",
              "      <td>3.000000</td>\n",
              "      <td>5.000000</td>\n",
              "      <td>5.000000</td>\n",
              "    </tr>\n",
              "    <tr>\n",
              "      <th>75%</th>\n",
              "      <td>86.000000</td>\n",
              "      <td>86.000000</td>\n",
              "      <td>86.000000</td>\n",
              "      <td>86.000000</td>\n",
              "      <td>85.000000</td>\n",
              "      <td>86.000000</td>\n",
              "      <td>86.000000</td>\n",
              "      <td>86.000000</td>\n",
              "      <td>86.000000</td>\n",
              "      <td>10.000000</td>\n",
              "      <td>7.000000</td>\n",
              "      <td>5.000000</td>\n",
              "      <td>7.000000</td>\n",
              "      <td>7.000000</td>\n",
              "    </tr>\n",
              "    <tr>\n",
              "      <th>max</th>\n",
              "      <td>94.000000</td>\n",
              "      <td>94.000000</td>\n",
              "      <td>94.000000</td>\n",
              "      <td>94.000000</td>\n",
              "      <td>94.000000</td>\n",
              "      <td>94.000000</td>\n",
              "      <td>94.000000</td>\n",
              "      <td>94.000000</td>\n",
              "      <td>94.000000</td>\n",
              "      <td>12.000000</td>\n",
              "      <td>9.000000</td>\n",
              "      <td>6.000000</td>\n",
              "      <td>9.000000</td>\n",
              "      <td>9.000000</td>\n",
              "    </tr>\n",
              "  </tbody>\n",
              "</table>\n",
              "</div>\n",
              "      <button class=\"colab-df-convert\" onclick=\"convertToInteractive('df-4bbde0c8-4d7f-45fb-b868-61745dbb1741')\"\n",
              "              title=\"Convert this dataframe to an interactive table.\"\n",
              "              style=\"display:none;\">\n",
              "        \n",
              "  <svg xmlns=\"http://www.w3.org/2000/svg\" height=\"24px\"viewBox=\"0 0 24 24\"\n",
              "       width=\"24px\">\n",
              "    <path d=\"M0 0h24v24H0V0z\" fill=\"none\"/>\n",
              "    <path d=\"M18.56 5.44l.94 2.06.94-2.06 2.06-.94-2.06-.94-.94-2.06-.94 2.06-2.06.94zm-11 1L8.5 8.5l.94-2.06 2.06-.94-2.06-.94L8.5 2.5l-.94 2.06-2.06.94zm10 10l.94 2.06.94-2.06 2.06-.94-2.06-.94-.94-2.06-.94 2.06-2.06.94z\"/><path d=\"M17.41 7.96l-1.37-1.37c-.4-.4-.92-.59-1.43-.59-.52 0-1.04.2-1.43.59L10.3 9.45l-7.72 7.72c-.78.78-.78 2.05 0 2.83L4 21.41c.39.39.9.59 1.41.59.51 0 1.02-.2 1.41-.59l7.78-7.78 2.81-2.81c.8-.78.8-2.07 0-2.86zM5.41 20L4 18.59l7.72-7.72 1.47 1.35L5.41 20z\"/>\n",
              "  </svg>\n",
              "      </button>\n",
              "      \n",
              "  <style>\n",
              "    .colab-df-container {\n",
              "      display:flex;\n",
              "      flex-wrap:wrap;\n",
              "      gap: 12px;\n",
              "    }\n",
              "\n",
              "    .colab-df-convert {\n",
              "      background-color: #E8F0FE;\n",
              "      border: none;\n",
              "      border-radius: 50%;\n",
              "      cursor: pointer;\n",
              "      display: none;\n",
              "      fill: #1967D2;\n",
              "      height: 32px;\n",
              "      padding: 0 0 0 0;\n",
              "      width: 32px;\n",
              "    }\n",
              "\n",
              "    .colab-df-convert:hover {\n",
              "      background-color: #E2EBFA;\n",
              "      box-shadow: 0px 1px 2px rgba(60, 64, 67, 0.3), 0px 1px 3px 1px rgba(60, 64, 67, 0.15);\n",
              "      fill: #174EA6;\n",
              "    }\n",
              "\n",
              "    [theme=dark] .colab-df-convert {\n",
              "      background-color: #3B4455;\n",
              "      fill: #D2E3FC;\n",
              "    }\n",
              "\n",
              "    [theme=dark] .colab-df-convert:hover {\n",
              "      background-color: #434B5C;\n",
              "      box-shadow: 0px 1px 3px 1px rgba(0, 0, 0, 0.15);\n",
              "      filter: drop-shadow(0px 1px 2px rgba(0, 0, 0, 0.3));\n",
              "      fill: #FFFFFF;\n",
              "    }\n",
              "  </style>\n",
              "\n",
              "      <script>\n",
              "        const buttonEl =\n",
              "          document.querySelector('#df-4bbde0c8-4d7f-45fb-b868-61745dbb1741 button.colab-df-convert');\n",
              "        buttonEl.style.display =\n",
              "          google.colab.kernel.accessAllowed ? 'block' : 'none';\n",
              "\n",
              "        async function convertToInteractive(key) {\n",
              "          const element = document.querySelector('#df-4bbde0c8-4d7f-45fb-b868-61745dbb1741');\n",
              "          const dataTable =\n",
              "            await google.colab.kernel.invokeFunction('convertToInteractive',\n",
              "                                                     [key], {});\n",
              "          if (!dataTable) return;\n",
              "\n",
              "          const docLinkHtml = 'Like what you see? Visit the ' +\n",
              "            '<a target=\"_blank\" href=https://colab.research.google.com/notebooks/data_table.ipynb>data table notebook</a>'\n",
              "            + ' to learn more about interactive tables.';\n",
              "          element.innerHTML = '';\n",
              "          dataTable['output_type'] = 'display_data';\n",
              "          await google.colab.output.renderOutput(dataTable, element);\n",
              "          const docLink = document.createElement('div');\n",
              "          docLink.innerHTML = docLinkHtml;\n",
              "          element.appendChild(docLink);\n",
              "        }\n",
              "      </script>\n",
              "    </div>\n",
              "  </div>\n",
              "  "
            ]
          },
          "metadata": {},
          "execution_count": 90
        }
      ]
    },
    {
      "cell_type": "code",
      "source": [
        ""
      ],
      "metadata": {
        "id": "iw-bQjaTpAcH"
      },
      "execution_count": null,
      "outputs": []
    },
    {
      "cell_type": "markdown",
      "source": [
        "## selecting X and Y \n",
        "**Y** contains ['Suggested Job Role']\n",
        "\n",
        "**X** Contains \n",
        "['Acedamic percentage in Operating Systems',\n",
        "         'percentage in Algorithms',\n",
        "        'Percentage in Programming Concepts',\n",
        "        'Percentage in Software Engineering',\n",
        "        'Percentage in Computer Networks',\n",
        "        'Percentage in Electronics Subjects',\n",
        "        'Percentage in Computer Architecture',\n",
        "        'Percentage in Mathematics',\n",
        "        'Percentage in Communication skills',\n",
        "        'Hours working per day',\n",
        "        'Logical quotient rating', \n",
        "        'hackathons', \n",
        "        'coding skills rating',\n",
        "        'public speaking points',\n",
        "        'Extra-courses did',\n",
        "        'can work long time before system?',\n",
        "        'self-learning capability?',\n",
        "        'Management or Technical'\n",
        "]"
      ],
      "metadata": {
        "id": "2_Z5qqTSlqxI"
      }
    },
    {
      "cell_type": "code",
      "source": [
        "# Define Y\n",
        "Y = df['Suggested Job Role']"
      ],
      "metadata": {
        "id": "P5OH_WNBlpT3"
      },
      "execution_count": 91,
      "outputs": []
    },
    {
      "cell_type": "code",
      "source": [
        "Y.shape"
      ],
      "metadata": {
        "colab": {
          "base_uri": "https://localhost:8080/"
        },
        "id": "Mvrx8DfQnYMe",
        "outputId": "12742bb9-c5dc-4a39-9ca1-b864a463e5d3"
      },
      "execution_count": 92,
      "outputs": [
        {
          "output_type": "execute_result",
          "data": {
            "text/plain": [
              "(20000,)"
            ]
          },
          "metadata": {},
          "execution_count": 92
        }
      ]
    },
    {
      "cell_type": "code",
      "source": [
        "Y"
      ],
      "metadata": {
        "colab": {
          "base_uri": "https://localhost:8080/"
        },
        "id": "qIfYvmeSotQ4",
        "outputId": "e25a1f33-40d3-41fb-bdff-1fc1c5569b9a"
      },
      "execution_count": 93,
      "outputs": [
        {
          "output_type": "execute_result",
          "data": {
            "text/plain": [
              "0         0\n",
              "1         1\n",
              "2         1\n",
              "3         2\n",
              "4         3\n",
              "         ..\n",
              "19995    31\n",
              "19996    23\n",
              "19997     5\n",
              "19998    33\n",
              "19999    27\n",
              "Name: Suggested Job Role, Length: 20000, dtype: object"
            ]
          },
          "metadata": {},
          "execution_count": 93
        }
      ]
    },
    {
      "cell_type": "code",
      "source": [
        "X = df[['Acedamic percentage in Operating Systems', 'percentage in Algorithms', 'Percentage in Programming Concepts', 'Percentage in Software Engineering', 'Percentage in Computer Networks', 'Percentage in Electronics Subjects', 'Percentage in Computer Architecture', 'Percentage in Mathematics', 'Percentage in Communication skills', 'Hours working per day', 'Logical quotient rating', 'hackathons', 'coding skills rating', 'public speaking points', 'Extra-courses did', 'can work long time before system?', 'self-learning capability?', 'Management or Technical']]"
      ],
      "metadata": {
        "id": "mFkRv7lPnZmD"
      },
      "execution_count": 94,
      "outputs": []
    },
    {
      "cell_type": "code",
      "source": [
        "X.shape"
      ],
      "metadata": {
        "colab": {
          "base_uri": "https://localhost:8080/"
        },
        "id": "Nwh_0du3nltO",
        "outputId": "86af2860-34a8-41fb-a830-df9e8b08f609"
      },
      "execution_count": 95,
      "outputs": [
        {
          "output_type": "execute_result",
          "data": {
            "text/plain": [
              "(20000, 18)"
            ]
          },
          "metadata": {},
          "execution_count": 95
        }
      ]
    },
    {
      "cell_type": "code",
      "source": [
        "X.head()"
      ],
      "metadata": {
        "colab": {
          "base_uri": "https://localhost:8080/",
          "height": 357
        },
        "id": "cvPGXU6zno7u",
        "outputId": "e5444157-fa39-4afc-b8ad-87c51828c613"
      },
      "execution_count": 96,
      "outputs": [
        {
          "output_type": "execute_result",
          "data": {
            "text/plain": [
              "   Acedamic percentage in Operating Systems  percentage in Algorithms  \\\n",
              "0                                        69                        63   \n",
              "1                                        78                        62   \n",
              "2                                        71                        86   \n",
              "3                                        76                        87   \n",
              "4                                        92                        62   \n",
              "\n",
              "   Percentage in Programming Concepts  Percentage in Software Engineering  \\\n",
              "0                                  78                                  87   \n",
              "1                                  73                                  60   \n",
              "2                                  91                                  87   \n",
              "3                                  60                                  84   \n",
              "4                                  90                                  67   \n",
              "\n",
              "   Percentage in Computer Networks  Percentage in Electronics Subjects  \\\n",
              "0                               94                                  94   \n",
              "1                               71                                  70   \n",
              "2                               61                                  81   \n",
              "3                               89                                  73   \n",
              "4                               71                                  89   \n",
              "\n",
              "   Percentage in Computer Architecture  Percentage in Mathematics  \\\n",
              "0                                   87                         84   \n",
              "1                                   73                         84   \n",
              "2                                   72                         72   \n",
              "3                                   62                         88   \n",
              "4                                   73                         71   \n",
              "\n",
              "   Percentage in Communication skills  Hours working per day  \\\n",
              "0                                  61                      9   \n",
              "1                                  91                     12   \n",
              "2                                  94                     11   \n",
              "3                                  69                      7   \n",
              "4                                  73                      4   \n",
              "\n",
              "   Logical quotient rating  hackathons  coding skills rating  \\\n",
              "0                        4           0                     4   \n",
              "1                        7           1                     2   \n",
              "2                        1           4                     1   \n",
              "3                        1           1                     2   \n",
              "4                        5           4                     6   \n",
              "\n",
              "   public speaking points Extra-courses did can work long time before system?  \\\n",
              "0                       8                 1                                 1   \n",
              "1                       3                 1                                 1   \n",
              "2                       3                 1                                 1   \n",
              "3                       5                 0                                 0   \n",
              "4                       3                 0                                 0   \n",
              "\n",
              "  self-learning capability? Management or Technical  \n",
              "0                         1                       1  \n",
              "1                         0                       1  \n",
              "2                         0                       1  \n",
              "3                         1                       1  \n",
              "4                         0                       1  "
            ],
            "text/html": [
              "\n",
              "  <div id=\"df-3dc85f91-9833-4a19-8386-11be872e941b\">\n",
              "    <div class=\"colab-df-container\">\n",
              "      <div>\n",
              "<style scoped>\n",
              "    .dataframe tbody tr th:only-of-type {\n",
              "        vertical-align: middle;\n",
              "    }\n",
              "\n",
              "    .dataframe tbody tr th {\n",
              "        vertical-align: top;\n",
              "    }\n",
              "\n",
              "    .dataframe thead th {\n",
              "        text-align: right;\n",
              "    }\n",
              "</style>\n",
              "<table border=\"1\" class=\"dataframe\">\n",
              "  <thead>\n",
              "    <tr style=\"text-align: right;\">\n",
              "      <th></th>\n",
              "      <th>Acedamic percentage in Operating Systems</th>\n",
              "      <th>percentage in Algorithms</th>\n",
              "      <th>Percentage in Programming Concepts</th>\n",
              "      <th>Percentage in Software Engineering</th>\n",
              "      <th>Percentage in Computer Networks</th>\n",
              "      <th>Percentage in Electronics Subjects</th>\n",
              "      <th>Percentage in Computer Architecture</th>\n",
              "      <th>Percentage in Mathematics</th>\n",
              "      <th>Percentage in Communication skills</th>\n",
              "      <th>Hours working per day</th>\n",
              "      <th>Logical quotient rating</th>\n",
              "      <th>hackathons</th>\n",
              "      <th>coding skills rating</th>\n",
              "      <th>public speaking points</th>\n",
              "      <th>Extra-courses did</th>\n",
              "      <th>can work long time before system?</th>\n",
              "      <th>self-learning capability?</th>\n",
              "      <th>Management or Technical</th>\n",
              "    </tr>\n",
              "  </thead>\n",
              "  <tbody>\n",
              "    <tr>\n",
              "      <th>0</th>\n",
              "      <td>69</td>\n",
              "      <td>63</td>\n",
              "      <td>78</td>\n",
              "      <td>87</td>\n",
              "      <td>94</td>\n",
              "      <td>94</td>\n",
              "      <td>87</td>\n",
              "      <td>84</td>\n",
              "      <td>61</td>\n",
              "      <td>9</td>\n",
              "      <td>4</td>\n",
              "      <td>0</td>\n",
              "      <td>4</td>\n",
              "      <td>8</td>\n",
              "      <td>1</td>\n",
              "      <td>1</td>\n",
              "      <td>1</td>\n",
              "      <td>1</td>\n",
              "    </tr>\n",
              "    <tr>\n",
              "      <th>1</th>\n",
              "      <td>78</td>\n",
              "      <td>62</td>\n",
              "      <td>73</td>\n",
              "      <td>60</td>\n",
              "      <td>71</td>\n",
              "      <td>70</td>\n",
              "      <td>73</td>\n",
              "      <td>84</td>\n",
              "      <td>91</td>\n",
              "      <td>12</td>\n",
              "      <td>7</td>\n",
              "      <td>1</td>\n",
              "      <td>2</td>\n",
              "      <td>3</td>\n",
              "      <td>1</td>\n",
              "      <td>1</td>\n",
              "      <td>0</td>\n",
              "      <td>1</td>\n",
              "    </tr>\n",
              "    <tr>\n",
              "      <th>2</th>\n",
              "      <td>71</td>\n",
              "      <td>86</td>\n",
              "      <td>91</td>\n",
              "      <td>87</td>\n",
              "      <td>61</td>\n",
              "      <td>81</td>\n",
              "      <td>72</td>\n",
              "      <td>72</td>\n",
              "      <td>94</td>\n",
              "      <td>11</td>\n",
              "      <td>1</td>\n",
              "      <td>4</td>\n",
              "      <td>1</td>\n",
              "      <td>3</td>\n",
              "      <td>1</td>\n",
              "      <td>1</td>\n",
              "      <td>0</td>\n",
              "      <td>1</td>\n",
              "    </tr>\n",
              "    <tr>\n",
              "      <th>3</th>\n",
              "      <td>76</td>\n",
              "      <td>87</td>\n",
              "      <td>60</td>\n",
              "      <td>84</td>\n",
              "      <td>89</td>\n",
              "      <td>73</td>\n",
              "      <td>62</td>\n",
              "      <td>88</td>\n",
              "      <td>69</td>\n",
              "      <td>7</td>\n",
              "      <td>1</td>\n",
              "      <td>1</td>\n",
              "      <td>2</td>\n",
              "      <td>5</td>\n",
              "      <td>0</td>\n",
              "      <td>0</td>\n",
              "      <td>1</td>\n",
              "      <td>1</td>\n",
              "    </tr>\n",
              "    <tr>\n",
              "      <th>4</th>\n",
              "      <td>92</td>\n",
              "      <td>62</td>\n",
              "      <td>90</td>\n",
              "      <td>67</td>\n",
              "      <td>71</td>\n",
              "      <td>89</td>\n",
              "      <td>73</td>\n",
              "      <td>71</td>\n",
              "      <td>73</td>\n",
              "      <td>4</td>\n",
              "      <td>5</td>\n",
              "      <td>4</td>\n",
              "      <td>6</td>\n",
              "      <td>3</td>\n",
              "      <td>0</td>\n",
              "      <td>0</td>\n",
              "      <td>0</td>\n",
              "      <td>1</td>\n",
              "    </tr>\n",
              "  </tbody>\n",
              "</table>\n",
              "</div>\n",
              "      <button class=\"colab-df-convert\" onclick=\"convertToInteractive('df-3dc85f91-9833-4a19-8386-11be872e941b')\"\n",
              "              title=\"Convert this dataframe to an interactive table.\"\n",
              "              style=\"display:none;\">\n",
              "        \n",
              "  <svg xmlns=\"http://www.w3.org/2000/svg\" height=\"24px\"viewBox=\"0 0 24 24\"\n",
              "       width=\"24px\">\n",
              "    <path d=\"M0 0h24v24H0V0z\" fill=\"none\"/>\n",
              "    <path d=\"M18.56 5.44l.94 2.06.94-2.06 2.06-.94-2.06-.94-.94-2.06-.94 2.06-2.06.94zm-11 1L8.5 8.5l.94-2.06 2.06-.94-2.06-.94L8.5 2.5l-.94 2.06-2.06.94zm10 10l.94 2.06.94-2.06 2.06-.94-2.06-.94-.94-2.06-.94 2.06-2.06.94z\"/><path d=\"M17.41 7.96l-1.37-1.37c-.4-.4-.92-.59-1.43-.59-.52 0-1.04.2-1.43.59L10.3 9.45l-7.72 7.72c-.78.78-.78 2.05 0 2.83L4 21.41c.39.39.9.59 1.41.59.51 0 1.02-.2 1.41-.59l7.78-7.78 2.81-2.81c.8-.78.8-2.07 0-2.86zM5.41 20L4 18.59l7.72-7.72 1.47 1.35L5.41 20z\"/>\n",
              "  </svg>\n",
              "      </button>\n",
              "      \n",
              "  <style>\n",
              "    .colab-df-container {\n",
              "      display:flex;\n",
              "      flex-wrap:wrap;\n",
              "      gap: 12px;\n",
              "    }\n",
              "\n",
              "    .colab-df-convert {\n",
              "      background-color: #E8F0FE;\n",
              "      border: none;\n",
              "      border-radius: 50%;\n",
              "      cursor: pointer;\n",
              "      display: none;\n",
              "      fill: #1967D2;\n",
              "      height: 32px;\n",
              "      padding: 0 0 0 0;\n",
              "      width: 32px;\n",
              "    }\n",
              "\n",
              "    .colab-df-convert:hover {\n",
              "      background-color: #E2EBFA;\n",
              "      box-shadow: 0px 1px 2px rgba(60, 64, 67, 0.3), 0px 1px 3px 1px rgba(60, 64, 67, 0.15);\n",
              "      fill: #174EA6;\n",
              "    }\n",
              "\n",
              "    [theme=dark] .colab-df-convert {\n",
              "      background-color: #3B4455;\n",
              "      fill: #D2E3FC;\n",
              "    }\n",
              "\n",
              "    [theme=dark] .colab-df-convert:hover {\n",
              "      background-color: #434B5C;\n",
              "      box-shadow: 0px 1px 3px 1px rgba(0, 0, 0, 0.15);\n",
              "      filter: drop-shadow(0px 1px 2px rgba(0, 0, 0, 0.3));\n",
              "      fill: #FFFFFF;\n",
              "    }\n",
              "  </style>\n",
              "\n",
              "      <script>\n",
              "        const buttonEl =\n",
              "          document.querySelector('#df-3dc85f91-9833-4a19-8386-11be872e941b button.colab-df-convert');\n",
              "        buttonEl.style.display =\n",
              "          google.colab.kernel.accessAllowed ? 'block' : 'none';\n",
              "\n",
              "        async function convertToInteractive(key) {\n",
              "          const element = document.querySelector('#df-3dc85f91-9833-4a19-8386-11be872e941b');\n",
              "          const dataTable =\n",
              "            await google.colab.kernel.invokeFunction('convertToInteractive',\n",
              "                                                     [key], {});\n",
              "          if (!dataTable) return;\n",
              "\n",
              "          const docLinkHtml = 'Like what you see? Visit the ' +\n",
              "            '<a target=\"_blank\" href=https://colab.research.google.com/notebooks/data_table.ipynb>data table notebook</a>'\n",
              "            + ' to learn more about interactive tables.';\n",
              "          element.innerHTML = '';\n",
              "          dataTable['output_type'] = 'display_data';\n",
              "          await google.colab.output.renderOutput(dataTable, element);\n",
              "          const docLink = document.createElement('div');\n",
              "          docLink.innerHTML = docLinkHtml;\n",
              "          element.appendChild(docLink);\n",
              "        }\n",
              "      </script>\n",
              "    </div>\n",
              "  </div>\n",
              "  "
            ]
          },
          "metadata": {},
          "execution_count": 96
        }
      ]
    },
    {
      "cell_type": "markdown",
      "source": [
        "### Data visualization"
      ],
      "metadata": {
        "id": "y8xSHf7xp7hf"
      }
    },
    {
      "cell_type": "code",
      "source": [
        "#import libarary \n",
        "import matplotlib.pyplot as plt\n",
        "import seaborn as sns "
      ],
      "metadata": {
        "id": "VmTTjx4dp6xl"
      },
      "execution_count": 99,
      "outputs": []
    },
    {
      "cell_type": "code",
      "source": [
        "sns.pairplot(df, x_vars=['Acedamic percentage in Operating Systems', 'percentage in Algorithms', 'Percentage in Programming Concepts'],y_vars=['Suggested Job Role'])"
      ],
      "metadata": {
        "colab": {
          "base_uri": "https://localhost:8080/",
          "height": 214
        },
        "id": "sa6ECvxkqM5A",
        "outputId": "9ebb4160-82c4-4d57-cd93-52dbb4f6a72e"
      },
      "execution_count": 101,
      "outputs": [
        {
          "output_type": "execute_result",
          "data": {
            "text/plain": [
              "<seaborn.axisgrid.PairGrid at 0x7f04265b98d0>"
            ]
          },
          "metadata": {},
          "execution_count": 101
        },
        {
          "output_type": "display_data",
          "data": {
            "text/plain": [
              "<Figure size 540x180 with 3 Axes>"
            ],
            "image/png": "[encoded data removed]"
          },
          "metadata": {
            "needs_background": "light"
          }
        }
      ]
    },
    {
      "cell_type": "code",
      "source": [
        "pd.DataFrame(X).describe()"
      ],
      "metadata": {
        "colab": {
          "base_uri": "https://localhost:8080/",
          "height": 396
        },
        "id": "HgVRE0hXsiou",
        "outputId": "00f00db9-ec02-4e8c-8950-e10fd5fa66ce"
      },
      "execution_count": 106,
      "outputs": [
        {
          "output_type": "execute_result",
          "data": {
            "text/plain": [
              "       Acedamic percentage in Operating Systems  percentage in Algorithms  \\\n",
              "count                              20000.000000              20000.000000   \n",
              "mean                                  77.002300                 76.948200   \n",
              "std                                   10.085697                 10.101733   \n",
              "min                                   60.000000                 60.000000   \n",
              "25%                                   68.000000                 68.000000   \n",
              "50%                                   77.000000                 77.000000   \n",
              "75%                                   86.000000                 86.000000   \n",
              "max                                   94.000000                 94.000000   \n",
              "\n",
              "       Percentage in Programming Concepts  Percentage in Software Engineering  \\\n",
              "count                        20000.000000                        20000.000000   \n",
              "mean                            77.017550                           77.094500   \n",
              "std                             10.134815                           10.087837   \n",
              "min                             60.000000                           60.000000   \n",
              "25%                             68.000000                           68.000000   \n",
              "50%                             77.000000                           77.000000   \n",
              "75%                             86.000000                           86.000000   \n",
              "max                             94.000000                           94.000000   \n",
              "\n",
              "       Percentage in Computer Networks  Percentage in Electronics Subjects  \\\n",
              "count                     20000.000000                        20000.000000   \n",
              "mean                         76.958200                           77.015550   \n",
              "std                          10.020088                           10.168888   \n",
              "min                          60.000000                           60.000000   \n",
              "25%                          68.000000                           68.000000   \n",
              "50%                          77.000000                           77.000000   \n",
              "75%                          85.000000                           86.000000   \n",
              "max                          94.000000                           94.000000   \n",
              "\n",
              "       Percentage in Computer Architecture  Percentage in Mathematics  \\\n",
              "count                         20000.000000               20000.000000   \n",
              "mean                             77.069850                  76.913100   \n",
              "std                              10.069059                  10.138555   \n",
              "min                              60.000000                  60.000000   \n",
              "25%                              68.000000                  68.000000   \n",
              "50%                              77.000000                  77.000000   \n",
              "75%                              86.000000                  86.000000   \n",
              "max                              94.000000                  94.000000   \n",
              "\n",
              "       Percentage in Communication skills  Hours working per day  \\\n",
              "count                        20000.000000           20000.000000   \n",
              "mean                            76.921450               7.985950   \n",
              "std                             10.103494               2.593798   \n",
              "min                             60.000000               4.000000   \n",
              "25%                             68.000000               6.000000   \n",
              "50%                             77.000000               8.000000   \n",
              "75%                             86.000000              10.000000   \n",
              "max                             94.000000              12.000000   \n",
              "\n",
              "       Logical quotient rating    hackathons  coding skills rating  \\\n",
              "count             20000.000000  20000.000000          20000.000000   \n",
              "mean                  4.995050      2.992650              5.004750   \n",
              "std                   2.578383      2.005791              2.576831   \n",
              "min                   1.000000      0.000000              1.000000   \n",
              "25%                   3.000000      1.000000              3.000000   \n",
              "50%                   5.000000      3.000000              5.000000   \n",
              "75%                   7.000000      5.000000              7.000000   \n",
              "max                   9.000000      6.000000              9.000000   \n",
              "\n",
              "       public speaking points  \n",
              "count            20000.000000  \n",
              "mean                 5.012800  \n",
              "std                  2.588875  \n",
              "min                  1.000000  \n",
              "25%                  3.000000  \n",
              "50%                  5.000000  \n",
              "75%                  7.000000  \n",
              "max                  9.000000  "
            ],
            "text/html": [
              "\n",
              "  <div id=\"df-01234757-49e2-4522-b20d-40d4f445ac98\">\n",
              "    <div class=\"colab-df-container\">\n",
              "      <div>\n",
              "<style scoped>\n",
              "    .dataframe tbody tr th:only-of-type {\n",
              "        vertical-align: middle;\n",
              "    }\n",
              "\n",
              "    .dataframe tbody tr th {\n",
              "        vertical-align: top;\n",
              "    }\n",
              "\n",
              "    .dataframe thead th {\n",
              "        text-align: right;\n",
              "    }\n",
              "</style>\n",
              "<table border=\"1\" class=\"dataframe\">\n",
              "  <thead>\n",
              "    <tr style=\"text-align: right;\">\n",
              "      <th></th>\n",
              "      <th>Acedamic percentage in Operating Systems</th>\n",
              "      <th>percentage in Algorithms</th>\n",
              "      <th>Percentage in Programming Concepts</th>\n",
              "      <th>Percentage in Software Engineering</th>\n",
              "      <th>Percentage in Computer Networks</th>\n",
              "      <th>Percentage in Electronics Subjects</th>\n",
              "      <th>Percentage in Computer Architecture</th>\n",
              "      <th>Percentage in Mathematics</th>\n",
              "      <th>Percentage in Communication skills</th>\n",
              "      <th>Hours working per day</th>\n",
              "      <th>Logical quotient rating</th>\n",
              "      <th>hackathons</th>\n",
              "      <th>coding skills rating</th>\n",
              "      <th>public speaking points</th>\n",
              "    </tr>\n",
              "  </thead>\n",
              "  <tbody>\n",
              "    <tr>\n",
              "      <th>count</th>\n",
              "      <td>20000.000000</td>\n",
              "      <td>20000.000000</td>\n",
              "      <td>20000.000000</td>\n",
              "      <td>20000.000000</td>\n",
              "      <td>20000.000000</td>\n",
              "      <td>20000.000000</td>\n",
              "      <td>20000.000000</td>\n",
              "      <td>20000.000000</td>\n",
              "      <td>20000.000000</td>\n",
              "      <td>20000.000000</td>\n",
              "      <td>20000.000000</td>\n",
              "      <td>20000.000000</td>\n",
              "      <td>20000.000000</td>\n",
              "      <td>20000.000000</td>\n",
              "    </tr>\n",
              "    <tr>\n",
              "      <th>mean</th>\n",
              "      <td>77.002300</td>\n",
              "      <td>76.948200</td>\n",
              "      <td>77.017550</td>\n",
              "      <td>77.094500</td>\n",
              "      <td>76.958200</td>\n",
              "      <td>77.015550</td>\n",
              "      <td>77.069850</td>\n",
              "      <td>76.913100</td>\n",
              "      <td>76.921450</td>\n",
              "      <td>7.985950</td>\n",
              "      <td>4.995050</td>\n",
              "      <td>2.992650</td>\n",
              "      <td>5.004750</td>\n",
              "      <td>5.012800</td>\n",
              "    </tr>\n",
              "    <tr>\n",
              "      <th>std</th>\n",
              "      <td>10.085697</td>\n",
              "      <td>10.101733</td>\n",
              "      <td>10.134815</td>\n",
              "      <td>10.087837</td>\n",
              "      <td>10.020088</td>\n",
              "      <td>10.168888</td>\n",
              "      <td>10.069059</td>\n",
              "      <td>10.138555</td>\n",
              "      <td>10.103494</td>\n",
              "      <td>2.593798</td>\n",
              "      <td>2.578383</td>\n",
              "      <td>2.005791</td>\n",
              "      <td>2.576831</td>\n",
              "      <td>2.588875</td>\n",
              "    </tr>\n",
              "    <tr>\n",
              "      <th>min</th>\n",
              "      <td>60.000000</td>\n",
              "      <td>60.000000</td>\n",
              "      <td>60.000000</td>\n",
              "      <td>60.000000</td>\n",
              "      <td>60.000000</td>\n",
              "      <td>60.000000</td>\n",
              "      <td>60.000000</td>\n",
              "      <td>60.000000</td>\n",
              "      <td>60.000000</td>\n",
              "      <td>4.000000</td>\n",
              "      <td>1.000000</td>\n",
              "      <td>0.000000</td>\n",
              "      <td>1.000000</td>\n",
              "      <td>1.000000</td>\n",
              "    </tr>\n",
              "    <tr>\n",
              "      <th>25%</th>\n",
              "      <td>68.000000</td>\n",
              "      <td>68.000000</td>\n",
              "      <td>68.000000</td>\n",
              "      <td>68.000000</td>\n",
              "      <td>68.000000</td>\n",
              "      <td>68.000000</td>\n",
              "      <td>68.000000</td>\n",
              "      <td>68.000000</td>\n",
              "      <td>68.000000</td>\n",
              "      <td>6.000000</td>\n",
              "      <td>3.000000</td>\n",
              "      <td>1.000000</td>\n",
              "      <td>3.000000</td>\n",
              "      <td>3.000000</td>\n",
              "    </tr>\n",
              "    <tr>\n",
              "      <th>50%</th>\n",
              "      <td>77.000000</td>\n",
              "      <td>77.000000</td>\n",
              "      <td>77.000000</td>\n",
              "      <td>77.000000</td>\n",
              "      <td>77.000000</td>\n",
              "      <td>77.000000</td>\n",
              "      <td>77.000000</td>\n",
              "      <td>77.000000</td>\n",
              "      <td>77.000000</td>\n",
              "      <td>8.000000</td>\n",
              "      <td>5.000000</td>\n",
              "      <td>3.000000</td>\n",
              "      <td>5.000000</td>\n",
              "      <td>5.000000</td>\n",
              "    </tr>\n",
              "    <tr>\n",
              "      <th>75%</th>\n",
              "      <td>86.000000</td>\n",
              "      <td>86.000000</td>\n",
              "      <td>86.000000</td>\n",
              "      <td>86.000000</td>\n",
              "      <td>85.000000</td>\n",
              "      <td>86.000000</td>\n",
              "      <td>86.000000</td>\n",
              "      <td>86.000000</td>\n",
              "      <td>86.000000</td>\n",
              "      <td>10.000000</td>\n",
              "      <td>7.000000</td>\n",
              "      <td>5.000000</td>\n",
              "      <td>7.000000</td>\n",
              "      <td>7.000000</td>\n",
              "    </tr>\n",
              "    <tr>\n",
              "      <th>max</th>\n",
              "      <td>94.000000</td>\n",
              "      <td>94.000000</td>\n",
              "      <td>94.000000</td>\n",
              "      <td>94.000000</td>\n",
              "      <td>94.000000</td>\n",
              "      <td>94.000000</td>\n",
              "      <td>94.000000</td>\n",
              "      <td>94.000000</td>\n",
              "      <td>94.000000</td>\n",
              "      <td>12.000000</td>\n",
              "      <td>9.000000</td>\n",
              "      <td>6.000000</td>\n",
              "      <td>9.000000</td>\n",
              "      <td>9.000000</td>\n",
              "    </tr>\n",
              "  </tbody>\n",
              "</table>\n",
              "</div>\n",
              "      <button class=\"colab-df-convert\" onclick=\"convertToInteractive('df-01234757-49e2-4522-b20d-40d4f445ac98')\"\n",
              "              title=\"Convert this dataframe to an interactive table.\"\n",
              "              style=\"display:none;\">\n",
              "        \n",
              "  <svg xmlns=\"http://www.w3.org/2000/svg\" height=\"24px\"viewBox=\"0 0 24 24\"\n",
              "       width=\"24px\">\n",
              "    <path d=\"M0 0h24v24H0V0z\" fill=\"none\"/>\n",
              "    <path d=\"M18.56 5.44l.94 2.06.94-2.06 2.06-.94-2.06-.94-.94-2.06-.94 2.06-2.06.94zm-11 1L8.5 8.5l.94-2.06 2.06-.94-2.06-.94L8.5 2.5l-.94 2.06-2.06.94zm10 10l.94 2.06.94-2.06 2.06-.94-2.06-.94-.94-2.06-.94 2.06-2.06.94z\"/><path d=\"M17.41 7.96l-1.37-1.37c-.4-.4-.92-.59-1.43-.59-.52 0-1.04.2-1.43.59L10.3 9.45l-7.72 7.72c-.78.78-.78 2.05 0 2.83L4 21.41c.39.39.9.59 1.41.59.51 0 1.02-.2 1.41-.59l7.78-7.78 2.81-2.81c.8-.78.8-2.07 0-2.86zM5.41 20L4 18.59l7.72-7.72 1.47 1.35L5.41 20z\"/>\n",
              "  </svg>\n",
              "      </button>\n",
              "      \n",
              "  <style>\n",
              "    .colab-df-container {\n",
              "      display:flex;\n",
              "      flex-wrap:wrap;\n",
              "      gap: 12px;\n",
              "    }\n",
              "\n",
              "    .colab-df-convert {\n",
              "      background-color: #E8F0FE;\n",
              "      border: none;\n",
              "      border-radius: 50%;\n",
              "      cursor: pointer;\n",
              "      display: none;\n",
              "      fill: #1967D2;\n",
              "      height: 32px;\n",
              "      padding: 0 0 0 0;\n",
              "      width: 32px;\n",
              "    }\n",
              "\n",
              "    .colab-df-convert:hover {\n",
              "      background-color: #E2EBFA;\n",
              "      box-shadow: 0px 1px 2px rgba(60, 64, 67, 0.3), 0px 1px 3px 1px rgba(60, 64, 67, 0.15);\n",
              "      fill: #174EA6;\n",
              "    }\n",
              "\n",
              "    [theme=dark] .colab-df-convert {\n",
              "      background-color: #3B4455;\n",
              "      fill: #D2E3FC;\n",
              "    }\n",
              "\n",
              "    [theme=dark] .colab-df-convert:hover {\n",
              "      background-color: #434B5C;\n",
              "      box-shadow: 0px 1px 3px 1px rgba(0, 0, 0, 0.15);\n",
              "      filter: drop-shadow(0px 1px 2px rgba(0, 0, 0, 0.3));\n",
              "      fill: #FFFFFF;\n",
              "    }\n",
              "  </style>\n",
              "\n",
              "      <script>\n",
              "        const buttonEl =\n",
              "          document.querySelector('#df-01234757-49e2-4522-b20d-40d4f445ac98 button.colab-df-convert');\n",
              "        buttonEl.style.display =\n",
              "          google.colab.kernel.accessAllowed ? 'block' : 'none';\n",
              "\n",
              "        async function convertToInteractive(key) {\n",
              "          const element = document.querySelector('#df-01234757-49e2-4522-b20d-40d4f445ac98');\n",
              "          const dataTable =\n",
              "            await google.colab.kernel.invokeFunction('convertToInteractive',\n",
              "                                                     [key], {});\n",
              "          if (!dataTable) return;\n",
              "\n",
              "          const docLinkHtml = 'Like what you see? Visit the ' +\n",
              "            '<a target=\"_blank\" href=https://colab.research.google.com/notebooks/data_table.ipynb>data table notebook</a>'\n",
              "            + ' to learn more about interactive tables.';\n",
              "          element.innerHTML = '';\n",
              "          dataTable['output_type'] = 'display_data';\n",
              "          await google.colab.output.renderOutput(dataTable, element);\n",
              "          const docLink = document.createElement('div');\n",
              "          docLink.innerHTML = docLinkHtml;\n",
              "          element.appendChild(docLink);\n",
              "        }\n",
              "      </script>\n",
              "    </div>\n",
              "  </div>\n",
              "  "
            ]
          },
          "metadata": {},
          "execution_count": 106
        }
      ]
    },
    {
      "cell_type": "markdown",
      "source": [
        "#### Without scaling of data model is"
      ],
      "metadata": {
        "id": "kRykzZ5ex9tF"
      }
    },
    {
      "cell_type": "code",
      "source": [
        "#import library \n",
        "from sklearn.linear_model import LinearRegression\n",
        "LR = LinearRegression()\n",
        "\n",
        "LR.fit(X,Y)\n"
      ],
      "metadata": {
        "colab": {
          "base_uri": "https://localhost:8080/"
        },
        "id": "7qn1-ImFx89-",
        "outputId": "00b33ed3-3296-4b86-a074-96fa85362173"
      },
      "execution_count": 130,
      "outputs": [
        {
          "output_type": "execute_result",
          "data": {
            "text/plain": [
              "LinearRegression()"
            ]
          },
          "metadata": {},
          "execution_count": 130
        }
      ]
    },
    {
      "cell_type": "code",
      "source": [
        "LR.intercept_"
      ],
      "metadata": {
        "colab": {
          "base_uri": "https://localhost:8080/"
        },
        "id": "fXCQ_TVzzXII",
        "outputId": "3d6ff2c9-bef6-4dd2-9b03-48b0ddd0221b"
      },
      "execution_count": 131,
      "outputs": [
        {
          "output_type": "execute_result",
          "data": {
            "text/plain": [
              "16.66195"
            ]
          },
          "metadata": {},
          "execution_count": 131
        }
      ]
    },
    {
      "cell_type": "code",
      "source": [
        "LR.coef_"
      ],
      "metadata": {
        "colab": {
          "base_uri": "https://localhost:8080/"
        },
        "id": "-MfbNPnjzbbP",
        "outputId": "707b6729-aba6-4c53-c302-80a6d4e2b7e9"
      },
      "execution_count": 132,
      "outputs": [
        {
          "output_type": "execute_result",
          "data": {
            "text/plain": [
              "array([-0.01430588, -0.02392578,  0.0451962 , -0.01533998, -0.0529415 ,\n",
              "        0.08764196, -0.08272549, -0.11113489, -0.01095119, -0.11207846,\n",
              "       -0.11614962,  0.0366433 ,  0.05243443,  0.00380969, -0.05439329,\n",
              "        0.08726582, -0.03714546,  0.        ])"
            ]
          },
          "metadata": {},
          "execution_count": 132
        }
      ]
    },
    {
      "cell_type": "code",
      "source": [
        "ypred = LR.predict(X)"
      ],
      "metadata": {
        "id": "Ejha2p1Ozec7"
      },
      "execution_count": 133,
      "outputs": []
    },
    {
      "cell_type": "code",
      "source": [
        "from sklearn.metrics import mean_absolute_percentage_error, mean_absolute_error"
      ],
      "metadata": {
        "id": "QyQ1e_sHznDH"
      },
      "execution_count": 134,
      "outputs": []
    },
    {
      "cell_type": "code",
      "source": [
        "mean_absolute_error(Y, ypred)"
      ],
      "metadata": {
        "colab": {
          "base_uri": "https://localhost:8080/"
        },
        "id": "gsGNDVdkz2aU",
        "outputId": "b8f312b3-8150-4707-a4f2-930aa100783d"
      },
      "execution_count": 135,
      "outputs": [
        {
          "output_type": "execute_result",
          "data": {
            "text/plain": [
              "8.395315821444486"
            ]
          },
          "metadata": {},
          "execution_count": 135
        }
      ]
    },
    {
      "cell_type": "code",
      "source": [
        "mean_absolute_percentage_error(Y, ypred)"
      ],
      "metadata": {
        "colab": {
          "base_uri": "https://localhost:8080/"
        },
        "id": "4SCw2ko0z9A_",
        "outputId": "c3b39888-15ab-4575-c2ba-475cbd466fb9"
      },
      "execution_count": 136,
      "outputs": [
        {
          "output_type": "execute_result",
          "data": {
            "text/plain": [
              "2178437729598402.2"
            ]
          },
          "metadata": {},
          "execution_count": 136
        }
      ]
    },
    {
      "cell_type": "markdown",
      "source": [
        "## Scaling of data"
      ],
      "metadata": {
        "id": "8TnQpol1s2Zt"
      }
    },
    {
      "cell_type": "code",
      "source": [
        "#import library\n",
        "from sklearn.preprocessing import StandardScaler\n",
        "scaler = StandardScaler()\n",
        "X = scaler.fit_transform(X)"
      ],
      "metadata": {
        "id": "DFfX0oKJsxRz"
      },
      "execution_count": 108,
      "outputs": []
    },
    {
      "cell_type": "code",
      "source": [
        "X.shape"
      ],
      "metadata": {
        "colab": {
          "base_uri": "https://localhost:8080/"
        },
        "id": "c8yZp1fttVij",
        "outputId": "e149a5f3-d1b4-4a66-9050-a6603d46f038"
      },
      "execution_count": 109,
      "outputs": [
        {
          "output_type": "execute_result",
          "data": {
            "text/plain": [
              "(20000, 18)"
            ]
          },
          "metadata": {},
          "execution_count": 109
        }
      ]
    },
    {
      "cell_type": "code",
      "source": [
        "pd.DataFrame(X).describe()"
      ],
      "metadata": {
        "colab": {
          "base_uri": "https://localhost:8080/",
          "height": 416
        },
        "id": "YUdq6LTstYK9",
        "outputId": "7e8b9145-ca16-4df2-b193-08a782cb3749"
      },
      "execution_count": 110,
      "outputs": [
        {
          "output_type": "execute_result",
          "data": {
            "text/plain": [
              "                 0             1             2             3             4   \\\n",
              "count  2.000000e+04  2.000000e+04  2.000000e+04  2.000000e+04  2.000000e+04   \n",
              "mean  -5.247358e-16  8.526513e-18  1.421085e-17  3.460343e-16 -5.043077e-16   \n",
              "std    1.000025e+00  1.000025e+00  1.000025e+00  1.000025e+00  1.000025e+00   \n",
              "min   -1.685826e+00 -1.677794e+00 -1.679160e+00 -1.694608e+00 -1.692462e+00   \n",
              "25%   -8.926032e-01 -8.858305e-01 -8.897819e-01 -9.015537e-01 -8.940464e-01   \n",
              "50%   -2.280514e-04  5.127961e-03 -1.731698e-03 -9.367951e-03  4.171724e-03   \n",
              "75%    8.921471e-01  8.960864e-01  8.863185e-01  8.828178e-01  8.025878e-01   \n",
              "max    1.685369e+00  1.688050e+00  1.675697e+00  1.675872e+00  1.700806e+00   \n",
              "\n",
              "                 5             6             7             8             9   \\\n",
              "count  2.000000e+04  2.000000e+04  2.000000e+04  2.000000e+04  2.000000e+04   \n",
              "mean  -4.501288e-16 -2.324363e-16 -1.421085e-18  7.029044e-16  2.309264e-17   \n",
              "std    1.000025e+00  1.000025e+00  1.000025e+00  1.000025e+00  1.000025e+00   \n",
              "min   -1.673337e+00 -1.695320e+00 -1.668238e+00 -1.674854e+00 -1.536762e+00   \n",
              "25%   -8.866039e-01 -9.007870e-01 -8.791512e-01 -8.830285e-01 -7.656724e-01   \n",
              "50%   -1.529212e-03 -6.937267e-03  8.571456e-03  7.774733e-03  5.416902e-03   \n",
              "75%    8.835455e-01  8.869124e-01  8.962942e-01  8.985780e-01  7.765062e-01   \n",
              "max    1.670279e+00  1.681446e+00  1.685381e+00  1.690403e+00  1.547595e+00   \n",
              "\n",
              "                 10            11            12            13            14  \\\n",
              "count  2.000000e+04  2.000000e+04  2.000000e+04  2.000000e+04  2.000000e+04   \n",
              "mean   1.207923e-17  8.810730e-17  1.790568e-16 -1.350031e-16  3.508305e-17   \n",
              "std    1.000025e+00  1.000025e+00  1.000025e+00  1.000025e+00  1.000025e+00   \n",
              "min   -1.549479e+00 -1.492042e+00 -1.554176e+00 -1.550056e+00 -9.951119e-01   \n",
              "25%   -7.737795e-01 -9.934734e-01 -7.780099e-01 -7.775001e-01 -9.951119e-01   \n",
              "50%    1.919856e-03  3.664482e-03 -1.843395e-03 -4.944357e-03 -9.951119e-01   \n",
              "75%    7.776193e-01  1.000802e+00  7.743231e-01  7.676114e-01  1.004912e+00   \n",
              "max    1.553319e+00  1.499371e+00  1.550490e+00  1.540167e+00  1.004912e+00   \n",
              "\n",
              "                 15            16       17  \n",
              "count  2.000000e+04  2.000000e+04  20000.0  \n",
              "mean   8.526513e-18  5.213607e-17      0.0  \n",
              "std    1.000025e+00  1.000025e+00      0.0  \n",
              "min   -1.002002e+00 -1.010253e+00      0.0  \n",
              "25%   -1.002002e+00 -1.010253e+00      0.0  \n",
              "50%    9.980020e-01  9.898515e-01      0.0  \n",
              "75%    9.980020e-01  9.898515e-01      0.0  \n",
              "max    9.980020e-01  9.898515e-01      0.0  "
            ],
            "text/html": [
              "\n",
              "  <div id=\"df-29ec5f3d-0462-4659-ad21-ca63f7e88551\">\n",
              "    <div class=\"colab-df-container\">\n",
              "      <div>\n",
              "<style scoped>\n",
              "    .dataframe tbody tr th:only-of-type {\n",
              "        vertical-align: middle;\n",
              "    }\n",
              "\n",
              "    .dataframe tbody tr th {\n",
              "        vertical-align: top;\n",
              "    }\n",
              "\n",
              "    .dataframe thead th {\n",
              "        text-align: right;\n",
              "    }\n",
              "</style>\n",
              "<table border=\"1\" class=\"dataframe\">\n",
              "  <thead>\n",
              "    <tr style=\"text-align: right;\">\n",
              "      <th></th>\n",
              "      <th>0</th>\n",
              "      <th>1</th>\n",
              "      <th>2</th>\n",
              "      <th>3</th>\n",
              "      <th>4</th>\n",
              "      <th>5</th>\n",
              "      <th>6</th>\n",
              "      <th>7</th>\n",
              "      <th>8</th>\n",
              "      <th>9</th>\n",
              "      <th>10</th>\n",
              "      <th>11</th>\n",
              "      <th>12</th>\n",
              "      <th>13</th>\n",
              "      <th>14</th>\n",
              "      <th>15</th>\n",
              "      <th>16</th>\n",
              "      <th>17</th>\n",
              "    </tr>\n",
              "  </thead>\n",
              "  <tbody>\n",
              "    <tr>\n",
              "      <th>count</th>\n",
              "      <td>2.000000e+04</td>\n",
              "      <td>2.000000e+04</td>\n",
              "      <td>2.000000e+04</td>\n",
              "      <td>2.000000e+04</td>\n",
              "      <td>2.000000e+04</td>\n",
              "      <td>2.000000e+04</td>\n",
              "      <td>2.000000e+04</td>\n",
              "      <td>2.000000e+04</td>\n",
              "      <td>2.000000e+04</td>\n",
              "      <td>2.000000e+04</td>\n",
              "      <td>2.000000e+04</td>\n",
              "      <td>2.000000e+04</td>\n",
              "      <td>2.000000e+04</td>\n",
              "      <td>2.000000e+04</td>\n",
              "      <td>2.000000e+04</td>\n",
              "      <td>2.000000e+04</td>\n",
              "      <td>2.000000e+04</td>\n",
              "      <td>20000.0</td>\n",
              "    </tr>\n",
              "    <tr>\n",
              "      <th>mean</th>\n",
              "      <td>-5.247358e-16</td>\n",
              "      <td>8.526513e-18</td>\n",
              "      <td>1.421085e-17</td>\n",
              "      <td>3.460343e-16</td>\n",
              "      <td>-5.043077e-16</td>\n",
              "      <td>-4.501288e-16</td>\n",
              "      <td>-2.324363e-16</td>\n",
              "      <td>-1.421085e-18</td>\n",
              "      <td>7.029044e-16</td>\n",
              "      <td>2.309264e-17</td>\n",
              "      <td>1.207923e-17</td>\n",
              "      <td>8.810730e-17</td>\n",
              "      <td>1.790568e-16</td>\n",
              "      <td>-1.350031e-16</td>\n",
              "      <td>3.508305e-17</td>\n",
              "      <td>8.526513e-18</td>\n",
              "      <td>5.213607e-17</td>\n",
              "      <td>0.0</td>\n",
              "    </tr>\n",
              "    <tr>\n",
              "      <th>std</th>\n",
              "      <td>1.000025e+00</td>\n",
              "      <td>1.000025e+00</td>\n",
              "      <td>1.000025e+00</td>\n",
              "      <td>1.000025e+00</td>\n",
              "      <td>1.000025e+00</td>\n",
              "      <td>1.000025e+00</td>\n",
              "      <td>1.000025e+00</td>\n",
              "      <td>1.000025e+00</td>\n",
              "      <td>1.000025e+00</td>\n",
              "      <td>1.000025e+00</td>\n",
              "      <td>1.000025e+00</td>\n",
              "      <td>1.000025e+00</td>\n",
              "      <td>1.000025e+00</td>\n",
              "      <td>1.000025e+00</td>\n",
              "      <td>1.000025e+00</td>\n",
              "      <td>1.000025e+00</td>\n",
              "      <td>1.000025e+00</td>\n",
              "      <td>0.0</td>\n",
              "    </tr>\n",
              "    <tr>\n",
              "      <th>min</th>\n",
              "      <td>-1.685826e+00</td>\n",
              "      <td>-1.677794e+00</td>\n",
              "      <td>-1.679160e+00</td>\n",
              "      <td>-1.694608e+00</td>\n",
              "      <td>-1.692462e+00</td>\n",
              "      <td>-1.673337e+00</td>\n",
              "      <td>-1.695320e+00</td>\n",
              "      <td>-1.668238e+00</td>\n",
              "      <td>-1.674854e+00</td>\n",
              "      <td>-1.536762e+00</td>\n",
              "      <td>-1.549479e+00</td>\n",
              "      <td>-1.492042e+00</td>\n",
              "      <td>-1.554176e+00</td>\n",
              "      <td>-1.550056e+00</td>\n",
              "      <td>-9.951119e-01</td>\n",
              "      <td>-1.002002e+00</td>\n",
              "      <td>-1.010253e+00</td>\n",
              "      <td>0.0</td>\n",
              "    </tr>\n",
              "    <tr>\n",
              "      <th>25%</th>\n",
              "      <td>-8.926032e-01</td>\n",
              "      <td>-8.858305e-01</td>\n",
              "      <td>-8.897819e-01</td>\n",
              "      <td>-9.015537e-01</td>\n",
              "      <td>-8.940464e-01</td>\n",
              "      <td>-8.866039e-01</td>\n",
              "      <td>-9.007870e-01</td>\n",
              "      <td>-8.791512e-01</td>\n",
              "      <td>-8.830285e-01</td>\n",
              "      <td>-7.656724e-01</td>\n",
              "      <td>-7.737795e-01</td>\n",
              "      <td>-9.934734e-01</td>\n",
              "      <td>-7.780099e-01</td>\n",
              "      <td>-7.775001e-01</td>\n",
              "      <td>-9.951119e-01</td>\n",
              "      <td>-1.002002e+00</td>\n",
              "      <td>-1.010253e+00</td>\n",
              "      <td>0.0</td>\n",
              "    </tr>\n",
              "    <tr>\n",
              "      <th>50%</th>\n",
              "      <td>-2.280514e-04</td>\n",
              "      <td>5.127961e-03</td>\n",
              "      <td>-1.731698e-03</td>\n",
              "      <td>-9.367951e-03</td>\n",
              "      <td>4.171724e-03</td>\n",
              "      <td>-1.529212e-03</td>\n",
              "      <td>-6.937267e-03</td>\n",
              "      <td>8.571456e-03</td>\n",
              "      <td>7.774733e-03</td>\n",
              "      <td>5.416902e-03</td>\n",
              "      <td>1.919856e-03</td>\n",
              "      <td>3.664482e-03</td>\n",
              "      <td>-1.843395e-03</td>\n",
              "      <td>-4.944357e-03</td>\n",
              "      <td>-9.951119e-01</td>\n",
              "      <td>9.980020e-01</td>\n",
              "      <td>9.898515e-01</td>\n",
              "      <td>0.0</td>\n",
              "    </tr>\n",
              "    <tr>\n",
              "      <th>75%</th>\n",
              "      <td>8.921471e-01</td>\n",
              "      <td>8.960864e-01</td>\n",
              "      <td>8.863185e-01</td>\n",
              "      <td>8.828178e-01</td>\n",
              "      <td>8.025878e-01</td>\n",
              "      <td>8.835455e-01</td>\n",
              "      <td>8.869124e-01</td>\n",
              "      <td>8.962942e-01</td>\n",
              "      <td>8.985780e-01</td>\n",
              "      <td>7.765062e-01</td>\n",
              "      <td>7.776193e-01</td>\n",
              "      <td>1.000802e+00</td>\n",
              "      <td>7.743231e-01</td>\n",
              "      <td>7.676114e-01</td>\n",
              "      <td>1.004912e+00</td>\n",
              "      <td>9.980020e-01</td>\n",
              "      <td>9.898515e-01</td>\n",
              "      <td>0.0</td>\n",
              "    </tr>\n",
              "    <tr>\n",
              "      <th>max</th>\n",
              "      <td>1.685369e+00</td>\n",
              "      <td>1.688050e+00</td>\n",
              "      <td>1.675697e+00</td>\n",
              "      <td>1.675872e+00</td>\n",
              "      <td>1.700806e+00</td>\n",
              "      <td>1.670279e+00</td>\n",
              "      <td>1.681446e+00</td>\n",
              "      <td>1.685381e+00</td>\n",
              "      <td>1.690403e+00</td>\n",
              "      <td>1.547595e+00</td>\n",
              "      <td>1.553319e+00</td>\n",
              "      <td>1.499371e+00</td>\n",
              "      <td>1.550490e+00</td>\n",
              "      <td>1.540167e+00</td>\n",
              "      <td>1.004912e+00</td>\n",
              "      <td>9.980020e-01</td>\n",
              "      <td>9.898515e-01</td>\n",
              "      <td>0.0</td>\n",
              "    </tr>\n",
              "  </tbody>\n",
              "</table>\n",
              "</div>\n",
              "      <button class=\"colab-df-convert\" onclick=\"convertToInteractive('df-29ec5f3d-0462-4659-ad21-ca63f7e88551')\"\n",
              "              title=\"Convert this dataframe to an interactive table.\"\n",
              "              style=\"display:none;\">\n",
              "        \n",
              "  <svg xmlns=\"http://www.w3.org/2000/svg\" height=\"24px\"viewBox=\"0 0 24 24\"\n",
              "       width=\"24px\">\n",
              "    <path d=\"M0 0h24v24H0V0z\" fill=\"none\"/>\n",
              "    <path d=\"M18.56 5.44l.94 2.06.94-2.06 2.06-.94-2.06-.94-.94-2.06-.94 2.06-2.06.94zm-11 1L8.5 8.5l.94-2.06 2.06-.94-2.06-.94L8.5 2.5l-.94 2.06-2.06.94zm10 10l.94 2.06.94-2.06 2.06-.94-2.06-.94-.94-2.06-.94 2.06-2.06.94z\"/><path d=\"M17.41 7.96l-1.37-1.37c-.4-.4-.92-.59-1.43-.59-.52 0-1.04.2-1.43.59L10.3 9.45l-7.72 7.72c-.78.78-.78 2.05 0 2.83L4 21.41c.39.39.9.59 1.41.59.51 0 1.02-.2 1.41-.59l7.78-7.78 2.81-2.81c.8-.78.8-2.07 0-2.86zM5.41 20L4 18.59l7.72-7.72 1.47 1.35L5.41 20z\"/>\n",
              "  </svg>\n",
              "      </button>\n",
              "      \n",
              "  <style>\n",
              "    .colab-df-container {\n",
              "      display:flex;\n",
              "      flex-wrap:wrap;\n",
              "      gap: 12px;\n",
              "    }\n",
              "\n",
              "    .colab-df-convert {\n",
              "      background-color: #E8F0FE;\n",
              "      border: none;\n",
              "      border-radius: 50%;\n",
              "      cursor: pointer;\n",
              "      display: none;\n",
              "      fill: #1967D2;\n",
              "      height: 32px;\n",
              "      padding: 0 0 0 0;\n",
              "      width: 32px;\n",
              "    }\n",
              "\n",
              "    .colab-df-convert:hover {\n",
              "      background-color: #E2EBFA;\n",
              "      box-shadow: 0px 1px 2px rgba(60, 64, 67, 0.3), 0px 1px 3px 1px rgba(60, 64, 67, 0.15);\n",
              "      fill: #174EA6;\n",
              "    }\n",
              "\n",
              "    [theme=dark] .colab-df-convert {\n",
              "      background-color: #3B4455;\n",
              "      fill: #D2E3FC;\n",
              "    }\n",
              "\n",
              "    [theme=dark] .colab-df-convert:hover {\n",
              "      background-color: #434B5C;\n",
              "      box-shadow: 0px 1px 3px 1px rgba(0, 0, 0, 0.15);\n",
              "      filter: drop-shadow(0px 1px 2px rgba(0, 0, 0, 0.3));\n",
              "      fill: #FFFFFF;\n",
              "    }\n",
              "  </style>\n",
              "\n",
              "      <script>\n",
              "        const buttonEl =\n",
              "          document.querySelector('#df-29ec5f3d-0462-4659-ad21-ca63f7e88551 button.colab-df-convert');\n",
              "        buttonEl.style.display =\n",
              "          google.colab.kernel.accessAllowed ? 'block' : 'none';\n",
              "\n",
              "        async function convertToInteractive(key) {\n",
              "          const element = document.querySelector('#df-29ec5f3d-0462-4659-ad21-ca63f7e88551');\n",
              "          const dataTable =\n",
              "            await google.colab.kernel.invokeFunction('convertToInteractive',\n",
              "                                                     [key], {});\n",
              "          if (!dataTable) return;\n",
              "\n",
              "          const docLinkHtml = 'Like what you see? Visit the ' +\n",
              "            '<a target=\"_blank\" href=https://colab.research.google.com/notebooks/data_table.ipynb>data table notebook</a>'\n",
              "            + ' to learn more about interactive tables.';\n",
              "          element.innerHTML = '';\n",
              "          dataTable['output_type'] = 'display_data';\n",
              "          await google.colab.output.renderOutput(dataTable, element);\n",
              "          const docLink = document.createElement('div');\n",
              "          docLink.innerHTML = docLinkHtml;\n",
              "          element.appendChild(docLink);\n",
              "        }\n",
              "      </script>\n",
              "    </div>\n",
              "  </div>\n",
              "  "
            ]
          },
          "metadata": {},
          "execution_count": 110
        }
      ]
    },
    {
      "cell_type": "markdown",
      "source": [
        "## Data split Train and Test"
      ],
      "metadata": {
        "id": "0DmjJnDWpTvi"
      }
    },
    {
      "cell_type": "code",
      "source": [
        "#Library import\n",
        "from sklearn.model_selection import train_test_split"
      ],
      "metadata": {
        "id": "VTyTQHFxoyxk"
      },
      "execution_count": 97,
      "outputs": []
    },
    {
      "cell_type": "code",
      "source": [
        "Xtrain, Xtest, Ytrain, Ytest = train_test_split(X, Y, train_size=0.3, random_state=2925)"
      ],
      "metadata": {
        "id": "HsmqtAdopgk_"
      },
      "execution_count": 111,
      "outputs": []
    },
    {
      "cell_type": "code",
      "source": [
        "Xtrain.shape, Xtest.shape, Ytrain.shape, Ytest.shape"
      ],
      "metadata": {
        "colab": {
          "base_uri": "https://localhost:8080/"
        },
        "id": "wShRqdFMvReq",
        "outputId": "fd2ccad1-be2e-430a-926c-6f7a8c40c0fa"
      },
      "execution_count": 112,
      "outputs": [
        {
          "output_type": "execute_result",
          "data": {
            "text/plain": [
              "((6000, 18), (14000, 18), (6000,), (14000,))"
            ]
          },
          "metadata": {},
          "execution_count": 112
        }
      ]
    },
    {
      "cell_type": "markdown",
      "source": [
        "## Linear Regression Model"
      ],
      "metadata": {
        "id": "Eoo9DFHwvbf4"
      }
    },
    {
      "cell_type": "code",
      "source": [
        "#import library\n",
        "from sklearn.linear_model import LinearRegression"
      ],
      "metadata": {
        "id": "FFtsDM2svYhx"
      },
      "execution_count": 114,
      "outputs": []
    },
    {
      "cell_type": "code",
      "source": [
        "model = LinearRegression()"
      ],
      "metadata": {
        "id": "90g6y9YTviBE"
      },
      "execution_count": 115,
      "outputs": []
    },
    {
      "cell_type": "code",
      "source": [
        "model.fit(Xtrain,Ytrain)"
      ],
      "metadata": {
        "colab": {
          "base_uri": "https://localhost:8080/"
        },
        "id": "Gw5IZMTyv12Q",
        "outputId": "645cdc6c-531a-4298-dfa6-31c5802e898a"
      },
      "execution_count": 116,
      "outputs": [
        {
          "output_type": "execute_result",
          "data": {
            "text/plain": [
              "LinearRegression()"
            ]
          },
          "metadata": {},
          "execution_count": 116
        }
      ]
    },
    {
      "cell_type": "code",
      "source": [
        "model.intercept_"
      ],
      "metadata": {
        "colab": {
          "base_uri": "https://localhost:8080/"
        },
        "id": "6u7nrmRhwWQF",
        "outputId": "84f6a892-687d-4b34-e677-e781fb3382e7"
      },
      "execution_count": 120,
      "outputs": [
        {
          "output_type": "execute_result",
          "data": {
            "text/plain": [
              "16.661153640972763"
            ]
          },
          "metadata": {},
          "execution_count": 120
        }
      ]
    },
    {
      "cell_type": "code",
      "source": [
        "model.coef_"
      ],
      "metadata": {
        "colab": {
          "base_uri": "https://localhost:8080/"
        },
        "id": "EcZ9m8DPwehq",
        "outputId": "b0786f9f-70bc-4799-960e-0728cbc2d822"
      },
      "execution_count": 121,
      "outputs": [
        {
          "output_type": "execute_result",
          "data": {
            "text/plain": [
              "array([-0.19045681,  0.12750838,  0.20915941, -0.05898459,  0.06929734,\n",
              "        0.06099723,  0.01141825, -0.15508462, -0.14889856, -0.0166107 ,\n",
              "       -0.16447798, -0.02388913,  0.05736566,  0.06616493,  0.01661006,\n",
              "       -0.07375077, -0.03838284,  0.        ])"
            ]
          },
          "metadata": {},
          "execution_count": 121
        }
      ]
    },
    {
      "cell_type": "code",
      "source": [
        "yPridict = model.predict(Xtest)"
      ],
      "metadata": {
        "id": "s-XyLMMXv8xN"
      },
      "execution_count": 122,
      "outputs": []
    },
    {
      "cell_type": "code",
      "source": [
        "# check Accuracy with yPridict\n",
        "from sklearn.metrics import mean_absolute_percentage_error, mean_absolute_error, r2_score"
      ],
      "metadata": {
        "id": "CNMu8qCPwKIF"
      },
      "execution_count": 123,
      "outputs": []
    },
    {
      "cell_type": "code",
      "source": [
        "meanerror = mean_absolute_error(Ytest, yPridict)\n",
        "meanprcerror = mean_absolute_percentage_error(Ytest, yPridict)\n",
        "rsc = r2_score(Ytest, yPridict)"
      ],
      "metadata": {
        "id": "oCk7Ty_vwMc4"
      },
      "execution_count": 125,
      "outputs": []
    },
    {
      "cell_type": "code",
      "source": [
        "meanerror, meanprcerror, rsc"
      ],
      "metadata": {
        "colab": {
          "base_uri": "https://localhost:8080/"
        },
        "id": "fisAHdG6xM8a",
        "outputId": "c6bebf39-5c9c-4f9d-b30a-b4682a87c56e"
      },
      "execution_count": 126,
      "outputs": [
        {
          "output_type": "execute_result",
          "data": {
            "text/plain": [
              "(8.43839449030206, 2297121405049376.0, -0.0024362630075929204)"
            ]
          },
          "metadata": {},
          "execution_count": 126
        }
      ]
    },
    {
      "cell_type": "code",
      "source": [
        "yPridict.astype(int)"
      ],
      "metadata": {
        "colab": {
          "base_uri": "https://localhost:8080/"
        },
        "id": "ogksmmN1xXHk",
        "outputId": "96daaf95-1a67-48ca-af7c-8a506a341740"
      },
      "execution_count": 141,
      "outputs": [
        {
          "output_type": "execute_result",
          "data": {
            "text/plain": [
              "array([17, 16, 16, ..., 16, 16, 15])"
            ]
          },
          "metadata": {},
          "execution_count": 141
        }
      ]
    },
    {
      "cell_type": "code",
      "source": [
        "Ytest"
      ],
      "metadata": {
        "colab": {
          "base_uri": "https://localhost:8080/"
        },
        "id": "K83nEkxexvDo",
        "outputId": "0525ae2d-be9f-4e26-8b4e-743f42644eb7"
      },
      "execution_count": 142,
      "outputs": [
        {
          "output_type": "execute_result",
          "data": {
            "text/plain": [
              "14129    12\n",
              "4677      9\n",
              "1162     13\n",
              "13300    26\n",
              "2710      1\n",
              "         ..\n",
              "7129     10\n",
              "495      25\n",
              "3581     32\n",
              "2148     30\n",
              "19755    31\n",
              "Name: Suggested Job Role, Length: 14000, dtype: object"
            ]
          },
          "metadata": {},
          "execution_count": 142
        }
      ]
    },
    {
      "cell_type": "code",
      "source": [
        "mean_absolute_error(Ytest,yPridict.astype(int))"
      ],
      "metadata": {
        "colab": {
          "base_uri": "https://localhost:8080/"
        },
        "id": "upMuDyfV1NHY",
        "outputId": "4607777e-e5fa-4d4c-9b24-12c5e501cd6c"
      },
      "execution_count": 145,
      "outputs": [
        {
          "output_type": "execute_result",
          "data": {
            "text/plain": [
              "8.449142857142856"
            ]
          },
          "metadata": {},
          "execution_count": 145
        }
      ]
    },
    {
      "cell_type": "markdown",
      "source": [
        ""
      ],
      "metadata": {
        "id": "DiP17-sy1nwD"
      }
    },
    {
      "cell_type": "code",
      "source": [
        ""
      ],
      "metadata": {
        "id": "585Gym6f1ZqO"
      },
      "execution_count": null,
      "outputs": []
    }
  ]
}