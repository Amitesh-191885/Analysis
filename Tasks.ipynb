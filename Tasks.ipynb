{
  "nbformat": 4,
  "nbformat_minor": 0,
  "metadata": {
    "colab": {
      "name": "Tasks.ipynb",
      "provenance": [],
      "collapsed_sections": [
        "1Nze397YbWbw",
        "mkKkFU6eCexP",
        "RvKpOGPDcxNJ",
        "R27fACexdTEE",
        "8m05D-pH65LB",
        "OKljKakd-V_f",
        "dY5C8m-MAA_o",
        "mhzTWB22Byn7",
        "MXyqMKQU54mF",
        "hcnd6OpY56Fy",
        "k-I1WL2759K3",
        "9tJj1bxf6A9r",
        "gM81SIyT6EYW",
        "-J0MAYq36ZWy",
        "K0ZpxUJF6b-j",
        "f2w4bBkX6dzc",
        "72dvv1jD6frj",
        "lWMQDY_P6hb5",
        "IFpl-2_L6jsQ",
        "MGdiLhOk6lnX",
        "YRDcfvOg6pJI"
      ],
      "authorship_tag": "ABX9TyM8wHtOwBoupSey3LH7sG+Q",
      "include_colab_link": true
    },
    "kernelspec": {
      "name": "python3",
      "display_name": "Python 3"
    },
    "language_info": {
      "name": "python"
    }
  },
  "cells": [
    {
      "cell_type": "markdown",
      "metadata": {
        "id": "view-in-github",
        "colab_type": "text"
      },
      "source": [
        "<a href=\"https://colab.research.google.com/github/Amitesh-191885/Analysis/blob/main/Tasks.ipynb\" target=\"_parent\"><img src=\"https://colab.research.google.com/assets/colab-badge.svg\" alt=\"Open In Colab\"/></a>"
      ]
    },
    {
      "cell_type": "markdown",
      "source": [
        "Given data\n",
        "\n",
        "![image.png](data:image/png;base64,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)"
      ],
      "metadata": {
        "id": "-zLrP3ehcLyu"
      }
    },
    {
      "cell_type": "markdown",
      "source": [
        "# Question \n",
        "Hotel per day, \n",
        "weekly car rental,\n",
        "Flight two way\n",
        "\n",
        "1. If you'r planning a 1-week long trip which city should you visit to spend least amount of money?\n",
        "2.  How does the answer to the previous question change if you change the duration of trip to 4 days, 10days, 2weeks?\n",
        "3.  If your total budget for the trip is 1000 which city should you visit to maximize the duration of trip? Which city should you visit if minimize the duration?\n",
        "4. How does the answer to the previous question change if your budget is $600, $2000, or $1500"
      ],
      "metadata": {
        "id": "1Nze397YbWbw"
      }
    },
    {
      "cell_type": "code",
      "source": [
        "city = {\"Paris\" : [200,20,200],\n",
        "\"London\":[ 250, 30, 120],\n",
        "\"Dubai\" : [370, 15, 80],\n",
        "\"Mumbai\" : [450,10, 70]\n",
        "}"
      ],
      "metadata": {
        "id": "4VyzpLgdb2pT"
      },
      "execution_count": null,
      "outputs": []
    },
    {
      "cell_type": "code",
      "source": [
        "def Total_cost(City, day):\n",
        "  cost =int(0) \n",
        "  week=0\n",
        "  #Calculation of week: \n",
        "  if(day%7 != 0): \n",
        "    week = day//7+1   \n",
        "  else:\n",
        "    week = day//7\n",
        "  \n",
        "  cost = City[0] + City[1]*day + City[2]*week\n",
        "  return (cost)"
      ],
      "metadata": {
        "id": "q0rixnGAczap"
      },
      "execution_count": null,
      "outputs": []
    },
    {
      "cell_type": "code",
      "source": [
        "Total_cost(city[\"Paris\"],1)"
      ],
      "metadata": {
        "colab": {
          "base_uri": "https://localhost:8080/"
        },
        "id": "8r5nc2Wnd3An",
        "outputId": "3c92ca53-45b3-4f89-b7f9-f826f49a03b7"
      },
      "execution_count": null,
      "outputs": [
        {
          "output_type": "execute_result",
          "data": {
            "text/plain": [
              "420"
            ]
          },
          "metadata": {},
          "execution_count": 3
        }
      ]
    },
    {
      "cell_type": "markdown",
      "source": [
        "1. If you'r planning a 1-week long trip which city should you visit to spend least amount of money?"
      ],
      "metadata": {
        "id": "etdqbLZDf2Jv"
      }
    },
    {
      "cell_type": "code",
      "source": [
        "citys = [\"Paris\", \"London\", \"Dubai\", \"Mumbai\"]"
      ],
      "metadata": {
        "id": "iaC2KCGrgnNe"
      },
      "execution_count": null,
      "outputs": []
    },
    {
      "cell_type": "code",
      "source": [
        "#Cecking working function\n",
        "Total_cost(city[citys[1]],7)"
      ],
      "metadata": {
        "colab": {
          "base_uri": "https://localhost:8080/"
        },
        "id": "5Q1BRz0XhIS7",
        "outputId": "7422106c-9688-49ca-8dae-4222ac470083"
      },
      "execution_count": null,
      "outputs": [
        {
          "output_type": "execute_result",
          "data": {
            "text/plain": [
              "580"
            ]
          },
          "metadata": {},
          "execution_count": 5
        }
      ]
    },
    {
      "cell_type": "code",
      "source": [
        "def Check_cost_day(day):\n",
        "  Price_List_city = {}\n",
        "  #day = 7\n",
        "  for ct in citys:\n",
        "    cost = Total_cost(city[ct],day)\n",
        "    Price_List_city.update({ct:cost})\n",
        "  \n",
        "  #print(Price_List_city)\n",
        "  return Price_List_city\n",
        "\n",
        "Check_cost_day(7)"
      ],
      "metadata": {
        "colab": {
          "base_uri": "https://localhost:8080/"
        },
        "id": "LjKy1BQdieQ0",
        "outputId": "f47772b2-2a89-420b-8b5d-00a97c54bd8d"
      },
      "execution_count": null,
      "outputs": [
        {
          "output_type": "execute_result",
          "data": {
            "text/plain": [
              "{'Dubai': 555, 'London': 580, 'Mumbai': 590, 'Paris': 540}"
            ]
          },
          "metadata": {},
          "execution_count": 6
        }
      ]
    },
    {
      "cell_type": "code",
      "source": [
        "print(min(Check_cost_day(7), key = Check_cost_day(7).get))\n"
      ],
      "metadata": {
        "colab": {
          "base_uri": "https://localhost:8080/"
        },
        "id": "nwRV0QxHp1SA",
        "outputId": "f123a88c-6e50-4f49-958d-ca309bc55b16"
      },
      "execution_count": null,
      "outputs": [
        {
          "output_type": "stream",
          "name": "stdout",
          "text": [
            "Paris\n"
          ]
        }
      ]
    },
    {
      "cell_type": "markdown",
      "source": [
        "2. How does the answer to the previous question change if you change the duration of trip to 4 days, 10days, 2weeks?"
      ],
      "metadata": {
        "id": "dL6p83iguzKK"
      }
    },
    {
      "cell_type": "code",
      "source": [
        "# 4day\n",
        "D = Check_cost_day(4)\n",
        "print(D)\n",
        "print(min(D, key = D.get))"
      ],
      "metadata": {
        "colab": {
          "base_uri": "https://localhost:8080/"
        },
        "id": "t7LnVMcUsQ4Y",
        "outputId": "8616658d-8ab3-4eb1-aed0-bc316631b3a8"
      },
      "execution_count": null,
      "outputs": [
        {
          "output_type": "stream",
          "name": "stdout",
          "text": [
            "{'Paris': 480, 'London': 490, 'Dubai': 510, 'Mumbai': 560}\n",
            "Paris\n"
          ]
        }
      ]
    },
    {
      "cell_type": "code",
      "source": [
        "# 10days\n",
        "D = Check_cost_day(10)\n",
        "print(D)\n",
        "print(min(D, key = D.get))"
      ],
      "metadata": {
        "colab": {
          "base_uri": "https://localhost:8080/"
        },
        "id": "14yuXzLiuqYD",
        "outputId": "23a97ef6-5d3e-43b4-9156-95b6e4fbe9c5"
      },
      "execution_count": null,
      "outputs": [
        {
          "output_type": "stream",
          "name": "stdout",
          "text": [
            "{'Paris': 800, 'London': 790, 'Dubai': 680, 'Mumbai': 690}\n",
            "Dubai\n"
          ]
        }
      ]
    },
    {
      "cell_type": "code",
      "source": [
        "%%time\n",
        "#2 weeks or 14 days\n",
        "D = Check_cost_day(14)\n",
        "print(D)\n",
        "print(min(D, key = D.get))"
      ],
      "metadata": {
        "colab": {
          "base_uri": "https://localhost:8080/"
        },
        "id": "f_tEfOsBu1x6",
        "outputId": "b61777cc-ca36-42c6-d77c-5b3ca9ca3d63"
      },
      "execution_count": null,
      "outputs": [
        {
          "output_type": "stream",
          "name": "stdout",
          "text": [
            "{'Paris': 880, 'London': 910, 'Dubai': 740, 'Mumbai': 730}\n",
            "Mumbai\n",
            "CPU times: user 3.4 ms, sys: 0 ns, total: 3.4 ms\n",
            "Wall time: 3.24 ms\n"
          ]
        }
      ]
    },
    {
      "cell_type": "markdown",
      "source": [
        "Part -2"
      ],
      "metadata": {
        "id": "upuoMxZlVx8a"
      }
    },
    {
      "cell_type": "code",
      "source": [
        "\n",
        "\n",
        "import math\n",
        "def cost_of_trip(cities,budget=0,duration=0):\n",
        "  total_cost = [0]* len(cities) # list that will hold trip cost for each city\n",
        "  i = 0\n",
        "  days = [1]* len(cities) # He will at least spend 1 day.\n",
        "  for city in cities:\n",
        "    while True: \n",
        "      total_cost[i] = (city['return_flight'] + city['hotel_per_day']*days[i] + city['car_rental']*math.ceil(days[i]/7))\n",
        "      if total_cost[i] > budget:\n",
        "        days[i] -= 1\n",
        "        total_cost[i] = (city['return_flight'] + city['hotel_per_day']*(days[i]) + city['car_rental']*math.ceil(days[i]/7))\n",
        "        break\n",
        "      else:\n",
        "        days[i] += 1\n",
        "    i += 1\n",
        "  # For longer outing in budget\n",
        "  max_days = max(days)\n",
        "  index_max = days.index(max_days)\n",
        "  print(\"\\nFor budget ${} \".format(budget))\n",
        "  print(\"You should visit {} , for {} days, costing ${} (Max Days)\".format(cities[index_max][\"city_name\"],max_days,total_cost[index_max]))\n",
        "      \n",
        "  # For shorter outing in budget\n",
        "  min_days = min(days)\n",
        "  index_min = days.index(min_days)\n",
        "  print(\"You should visit {} , for {} days, costing ${} (Min Days)\".format(cities[index_min][\"city_name\"],min_days,total_cost[index_min]))  \n",
        "     \n",
        "places = [\n",
        "    {\n",
        "        'city_name' : \"Paris\",\n",
        "        'return_flight' : 200,\n",
        "        'hotel_per_day' : 20,\n",
        "        'car_rental' : 200\n",
        "    },\n",
        "     {\n",
        "        'city_name' : \"London\",\n",
        "        'return_flight' : 250,\n",
        "        'hotel_per_day' : 30,\n",
        "        'car_rental' : 120\n",
        "    },\n",
        "     {\n",
        "        'city_name' : \"Dubai\",\n",
        "        'return_flight' : 370,\n",
        "        'hotel_per_day' : 15,\n",
        "        'car_rental' : 80\n",
        "    },\n",
        "      {\n",
        "        'city_name' : \"Mumbai\",\n",
        "        'return_flight' : 450,\n",
        "        'hotel_per_day' : 10,\n",
        "        'car_rental' : 70\n",
        "    },    \n",
        "]"
      ],
      "metadata": {
        "id": "vjTAnJWMvY2f"
      },
      "execution_count": null,
      "outputs": []
    },
    {
      "cell_type": "code",
      "source": [
        "# budget = 1000\n",
        "cost_of_trip(cities=places,budget=1000)"
      ],
      "metadata": {
        "colab": {
          "base_uri": "https://localhost:8080/"
        },
        "id": "FBNFaqvuVXrm",
        "outputId": "5dc05190-3b77-40c5-cc5d-e6e19bcfc5b9"
      },
      "execution_count": null,
      "outputs": [
        {
          "output_type": "stream",
          "name": "stdout",
          "text": [
            "\n",
            "For budget $1000 \n",
            "You should visit Mumbai , for 27 days, costing $1000 (Max Days)\n",
            "You should visit Paris , for 14 days, costing $880 (Min Days)\n"
          ]
        }
      ]
    },
    {
      "cell_type": "markdown",
      "source": [
        "4. How does the answer to the previous question change if your budget is  600, 2000, or $1500"
      ],
      "metadata": {
        "id": "eC_OHIVlWAqL"
      }
    },
    {
      "cell_type": "code",
      "source": [
        "#budge = 600\n",
        "cost_of_trip(cities=places,budget=600)"
      ],
      "metadata": {
        "colab": {
          "base_uri": "https://localhost:8080/"
        },
        "id": "dRiaBysTWCqI",
        "outputId": "dbc66d71-ff7c-4409-b01f-a26d01aa8a9f"
      },
      "execution_count": null,
      "outputs": [
        {
          "output_type": "stream",
          "name": "stdout",
          "text": [
            "\n",
            "For budget $600 \n",
            "You should visit Paris , for 7 days, costing $540 (Max Days)\n",
            "You should visit Paris , for 7 days, costing $540 (Min Days)\n"
          ]
        }
      ]
    },
    {
      "cell_type": "code",
      "source": [
        "#budge = 2000\n",
        "cost_of_trip(cities=places,budget=2000)"
      ],
      "metadata": {
        "colab": {
          "base_uri": "https://localhost:8080/"
        },
        "id": "X1l3yOM2WS7X",
        "outputId": "93f1b55c-8fb1-4c5e-e996-c146c258350e"
      },
      "execution_count": null,
      "outputs": [
        {
          "output_type": "stream",
          "name": "stdout",
          "text": [
            "\n",
            "For budget $2000 \n",
            "You should visit Mumbai , for 77 days, costing $1990 (Max Days)\n",
            "You should visit Paris , for 35 days, costing $1900 (Min Days)\n"
          ]
        }
      ]
    },
    {
      "cell_type": "code",
      "source": [
        "#budge = 1500\n",
        "cost_of_trip(cities=places,budget=1500)"
      ],
      "metadata": {
        "colab": {
          "base_uri": "https://localhost:8080/"
        },
        "id": "oH08teQiWb50",
        "outputId": "887ed73f-7b45-4a0c-c45f-c93f3fb6943d"
      },
      "execution_count": null,
      "outputs": [
        {
          "output_type": "stream",
          "name": "stdout",
          "text": [
            "\n",
            "For budget $1500 \n",
            "You should visit Mumbai , for 49 days, costing $1430 (Max Days)\n",
            "You should visit Paris , for 25 days, costing $1500 (Min Days)\n"
          ]
        }
      ]
    },
    {
      "cell_type": "markdown",
      "source": [
        "## Practice Analysis"
      ],
      "metadata": {
        "id": "mkKkFU6eCexP"
      }
    },
    {
      "cell_type": "code",
      "source": [
        "import urllib.request as urr"
      ],
      "metadata": {
        "id": "GQXuSkyGChuc"
      },
      "execution_count": null,
      "outputs": []
    },
    {
      "cell_type": "code",
      "source": [
        "#urr.urlretrieve(\n",
        "  #  'https://hub.jovian.ml/wp-content/uploads/2020/08/climate.csv',\n",
        "   # 'climate.txt'\n",
        "#)"
      ],
      "metadata": {
        "id": "gpAVRhFWCsRc"
      },
      "execution_count": null,
      "outputs": []
    },
    {
      "cell_type": "code",
      "source": [
        "import numpy as np"
      ],
      "metadata": {
        "id": "zL1n_9NcDa8D"
      },
      "execution_count": null,
      "outputs": []
    },
    {
      "cell_type": "code",
      "source": [
        "np.zeros((3,2))\n"
      ],
      "metadata": {
        "colab": {
          "base_uri": "https://localhost:8080/"
        },
        "id": "DyCITuwEICkG",
        "outputId": "23fc24e2-e382-4c14-9f4b-99115bc714a3"
      },
      "execution_count": null,
      "outputs": [
        {
          "output_type": "execute_result",
          "data": {
            "text/plain": [
              "array([[0., 0.],\n",
              "       [0., 0.],\n",
              "       [0., 0.]])"
            ]
          },
          "metadata": {},
          "execution_count": 19
        }
      ]
    },
    {
      "cell_type": "code",
      "source": [
        "np.ones(4)"
      ],
      "metadata": {
        "colab": {
          "base_uri": "https://localhost:8080/"
        },
        "id": "NSDj42wsIKv9",
        "outputId": "6d3bef17-ede6-4e92-8d3d-be0d9011fdad"
      },
      "execution_count": null,
      "outputs": [
        {
          "output_type": "execute_result",
          "data": {
            "text/plain": [
              "array([1., 1., 1., 1.])"
            ]
          },
          "metadata": {},
          "execution_count": 20
        }
      ]
    },
    {
      "cell_type": "code",
      "source": [
        "np.eye(4,4)"
      ],
      "metadata": {
        "colab": {
          "base_uri": "https://localhost:8080/"
        },
        "id": "iQT0sykMIM-1",
        "outputId": "76522f31-7579-4a0e-b168-ab8cd100de28"
      },
      "execution_count": null,
      "outputs": [
        {
          "output_type": "execute_result",
          "data": {
            "text/plain": [
              "array([[1., 0., 0., 0.],\n",
              "       [0., 1., 0., 0.],\n",
              "       [0., 0., 1., 0.],\n",
              "       [0., 0., 0., 1.]])"
            ]
          },
          "metadata": {},
          "execution_count": 21
        }
      ]
    },
    {
      "cell_type": "code",
      "source": [
        "data = np.arange(10,90,2)"
      ],
      "metadata": {
        "id": "SJeaYd5vIQLo"
      },
      "execution_count": null,
      "outputs": []
    },
    {
      "cell_type": "code",
      "source": [
        "data.shape"
      ],
      "metadata": {
        "colab": {
          "base_uri": "https://localhost:8080/"
        },
        "id": "0LKY3l85Ivtq",
        "outputId": "20147aed-f1d3-443d-dd9b-fcf78f6fca75"
      },
      "execution_count": null,
      "outputs": [
        {
          "output_type": "execute_result",
          "data": {
            "text/plain": [
              "(40,)"
            ]
          },
          "metadata": {},
          "execution_count": 23
        }
      ]
    },
    {
      "cell_type": "code",
      "source": [
        "data"
      ],
      "metadata": {
        "colab": {
          "base_uri": "https://localhost:8080/"
        },
        "id": "Irinv1L5I3PI",
        "outputId": "bdf7b1b8-fa29-47e9-fc30-43af749b9e35"
      },
      "execution_count": null,
      "outputs": [
        {
          "output_type": "execute_result",
          "data": {
            "text/plain": [
              "array([10, 12, 14, 16, 18, 20, 22, 24, 26, 28, 30, 32, 34, 36, 38, 40, 42,\n",
              "       44, 46, 48, 50, 52, 54, 56, 58, 60, 62, 64, 66, 68, 70, 72, 74, 76,\n",
              "       78, 80, 82, 84, 86, 88])"
            ]
          },
          "metadata": {},
          "execution_count": 24
        }
      ]
    },
    {
      "cell_type": "code",
      "source": [
        "data =data.reshape(40,1)\n",
        "data.shape"
      ],
      "metadata": {
        "colab": {
          "base_uri": "https://localhost:8080/"
        },
        "id": "bdYzGT8tI5No",
        "outputId": "4a963a4f-4a41-4606-ef75-594b764c5bf9"
      },
      "execution_count": null,
      "outputs": [
        {
          "output_type": "execute_result",
          "data": {
            "text/plain": [
              "(40, 1)"
            ]
          },
          "metadata": {},
          "execution_count": 25
        }
      ]
    },
    {
      "cell_type": "code",
      "source": [
        "data2 = np.arange(1,80,2)"
      ],
      "metadata": {
        "id": "sNRpnZtWI-HP"
      },
      "execution_count": null,
      "outputs": []
    },
    {
      "cell_type": "code",
      "source": [
        "data2"
      ],
      "metadata": {
        "colab": {
          "base_uri": "https://localhost:8080/"
        },
        "id": "Fm3Lpt97JS60",
        "outputId": "6f515309-f68e-4c32-db20-27d7ae2f627e"
      },
      "execution_count": null,
      "outputs": [
        {
          "output_type": "execute_result",
          "data": {
            "text/plain": [
              "array([ 1,  3,  5,  7,  9, 11, 13, 15, 17, 19, 21, 23, 25, 27, 29, 31, 33,\n",
              "       35, 37, 39, 41, 43, 45, 47, 49, 51, 53, 55, 57, 59, 61, 63, 65, 67,\n",
              "       69, 71, 73, 75, 77, 79])"
            ]
          },
          "metadata": {},
          "execution_count": 27
        }
      ]
    },
    {
      "cell_type": "code",
      "source": [
        "data2=data2.reshape(40,1)\n",
        "data2.shape"
      ],
      "metadata": {
        "colab": {
          "base_uri": "https://localhost:8080/"
        },
        "id": "hqmx1t-IJUcP",
        "outputId": "d4881521-da34-4e8d-ede0-84a03038bc5e"
      },
      "execution_count": null,
      "outputs": [
        {
          "output_type": "execute_result",
          "data": {
            "text/plain": [
              "(40, 1)"
            ]
          },
          "metadata": {},
          "execution_count": 28
        }
      ]
    },
    {
      "cell_type": "code",
      "source": [
        "help(np.concatenate)"
      ],
      "metadata": {
        "colab": {
          "base_uri": "https://localhost:8080/"
        },
        "id": "FqtY6sf8Jo6f",
        "outputId": "99ca40f6-38b5-46f0-a4cb-26dc3c393929"
      },
      "execution_count": null,
      "outputs": [
        {
          "output_type": "stream",
          "name": "stdout",
          "text": [
            "Help on function concatenate in module numpy:\n",
            "\n",
            "concatenate(...)\n",
            "    concatenate((a1, a2, ...), axis=0, out=None, dtype=None, casting=\"same_kind\")\n",
            "    \n",
            "    Join a sequence of arrays along an existing axis.\n",
            "    \n",
            "    Parameters\n",
            "    ----------\n",
            "    a1, a2, ... : sequence of array_like\n",
            "        The arrays must have the same shape, except in the dimension\n",
            "        corresponding to `axis` (the first, by default).\n",
            "    axis : int, optional\n",
            "        The axis along which the arrays will be joined.  If axis is None,\n",
            "        arrays are flattened before use.  Default is 0.\n",
            "    out : ndarray, optional\n",
            "        If provided, the destination to place the result. The shape must be\n",
            "        correct, matching that of what concatenate would have returned if no\n",
            "        out argument were specified.\n",
            "    dtype : str or dtype\n",
            "        If provided, the destination array will have this dtype. Cannot be\n",
            "        provided together with `out`.\n",
            "    \n",
            "        .. versionadded:: 1.20.0\n",
            "    \n",
            "    casting : {'no', 'equiv', 'safe', 'same_kind', 'unsafe'}, optional\n",
            "        Controls what kind of data casting may occur. Defaults to 'same_kind'.\n",
            "    \n",
            "        .. versionadded:: 1.20.0\n",
            "    \n",
            "    Returns\n",
            "    -------\n",
            "    res : ndarray\n",
            "        The concatenated array.\n",
            "    \n",
            "    See Also\n",
            "    --------\n",
            "    ma.concatenate : Concatenate function that preserves input masks.\n",
            "    array_split : Split an array into multiple sub-arrays of equal or\n",
            "                  near-equal size.\n",
            "    split : Split array into a list of multiple sub-arrays of equal size.\n",
            "    hsplit : Split array into multiple sub-arrays horizontally (column wise).\n",
            "    vsplit : Split array into multiple sub-arrays vertically (row wise).\n",
            "    dsplit : Split array into multiple sub-arrays along the 3rd axis (depth).\n",
            "    stack : Stack a sequence of arrays along a new axis.\n",
            "    block : Assemble arrays from blocks.\n",
            "    hstack : Stack arrays in sequence horizontally (column wise).\n",
            "    vstack : Stack arrays in sequence vertically (row wise).\n",
            "    dstack : Stack arrays in sequence depth wise (along third dimension).\n",
            "    column_stack : Stack 1-D arrays as columns into a 2-D array.\n",
            "    \n",
            "    Notes\n",
            "    -----\n",
            "    When one or more of the arrays to be concatenated is a MaskedArray,\n",
            "    this function will return a MaskedArray object instead of an ndarray,\n",
            "    but the input masks are *not* preserved. In cases where a MaskedArray\n",
            "    is expected as input, use the ma.concatenate function from the masked\n",
            "    array module instead.\n",
            "    \n",
            "    Examples\n",
            "    --------\n",
            "    >>> a = np.array([[1, 2], [3, 4]])\n",
            "    >>> b = np.array([[5, 6]])\n",
            "    >>> np.concatenate((a, b), axis=0)\n",
            "    array([[1, 2],\n",
            "           [3, 4],\n",
            "           [5, 6]])\n",
            "    >>> np.concatenate((a, b.T), axis=1)\n",
            "    array([[1, 2, 5],\n",
            "           [3, 4, 6]])\n",
            "    >>> np.concatenate((a, b), axis=None)\n",
            "    array([1, 2, 3, 4, 5, 6])\n",
            "    \n",
            "    This function will not preserve masking of MaskedArray inputs.\n",
            "    \n",
            "    >>> a = np.ma.arange(3)\n",
            "    >>> a[1] = np.ma.masked\n",
            "    >>> b = np.arange(2, 5)\n",
            "    >>> a\n",
            "    masked_array(data=[0, --, 2],\n",
            "                 mask=[False,  True, False],\n",
            "           fill_value=999999)\n",
            "    >>> b\n",
            "    array([2, 3, 4])\n",
            "    >>> np.concatenate([a, b])\n",
            "    masked_array(data=[0, 1, 2, 2, 3, 4],\n",
            "                 mask=False,\n",
            "           fill_value=999999)\n",
            "    >>> np.ma.concatenate([a, b])\n",
            "    masked_array(data=[0, --, 2, 2, 3, 4],\n",
            "                 mask=[False,  True, False, False, False, False],\n",
            "           fill_value=999999)\n",
            "\n"
          ]
        }
      ]
    },
    {
      "cell_type": "code",
      "source": [
        "data3 = np.concatenate((data,data2),axis=1)\n",
        "data3.shape"
      ],
      "metadata": {
        "colab": {
          "base_uri": "https://localhost:8080/"
        },
        "id": "gsJcSqF_J6XF",
        "outputId": "39760412-d521-4bda-8023-6025e5b6ab74"
      },
      "execution_count": null,
      "outputs": [
        {
          "output_type": "execute_result",
          "data": {
            "text/plain": [
              "(40, 2)"
            ]
          },
          "metadata": {},
          "execution_count": 30
        }
      ]
    },
    {
      "cell_type": "code",
      "source": [
        "data3[1]"
      ],
      "metadata": {
        "colab": {
          "base_uri": "https://localhost:8080/"
        },
        "id": "46hcejgyK8JA",
        "outputId": "c959c476-1304-42eb-9d7d-a0ecfc8365ea"
      },
      "execution_count": null,
      "outputs": [
        {
          "output_type": "execute_result",
          "data": {
            "text/plain": [
              "array([12,  3])"
            ]
          },
          "metadata": {},
          "execution_count": 31
        }
      ]
    },
    {
      "cell_type": "code",
      "source": [
        "data4 = np.concatenate((data,data2),axis=0)"
      ],
      "metadata": {
        "id": "K0L9DD96KdBo"
      },
      "execution_count": null,
      "outputs": []
    },
    {
      "cell_type": "code",
      "source": [
        "data4.shape"
      ],
      "metadata": {
        "colab": {
          "base_uri": "https://localhost:8080/"
        },
        "id": "BMnSz2vnKe8S",
        "outputId": "5d4542e0-25c8-49bd-dc64-b9c905936616"
      },
      "execution_count": null,
      "outputs": [
        {
          "output_type": "execute_result",
          "data": {
            "text/plain": [
              "(80, 1)"
            ]
          },
          "metadata": {},
          "execution_count": 33
        }
      ]
    },
    {
      "cell_type": "code",
      "source": [
        "data4[1]\n"
      ],
      "metadata": {
        "colab": {
          "base_uri": "https://localhost:8080/"
        },
        "id": "p7uWyw0oKuYF",
        "outputId": "8480b21f-5957-43f5-f34c-a19a93207d90"
      },
      "execution_count": null,
      "outputs": [
        {
          "output_type": "execute_result",
          "data": {
            "text/plain": [
              "array([12])"
            ]
          },
          "metadata": {},
          "execution_count": 34
        }
      ]
    },
    {
      "cell_type": "code",
      "source": [
        ""
      ],
      "metadata": {
        "id": "A4TFj8UMKxZr"
      },
      "execution_count": null,
      "outputs": []
    },
    {
      "cell_type": "markdown",
      "source": [
        "# Asshignment 1 - Python Basics Practice"
      ],
      "metadata": {
        "id": "RvKpOGPDcxNJ"
      }
    },
    {
      "cell_type": "markdown",
      "source": [
        "## Problem 1 - Variables and Data Types\n",
        "\n",
        "**Q1: Assign your name to the variable `name`.**"
      ],
      "metadata": {
        "id": "R27fACexdTEE"
      }
    },
    {
      "cell_type": "code",
      "source": [
        "name = \"Amitesh Ranjan\"\n",
        "name"
      ],
      "metadata": {
        "colab": {
          "base_uri": "https://localhost:8080/",
          "height": 36
        },
        "id": "MQKWyvcjc2vk",
        "outputId": "351cc444-ea51-4280-9b2c-7637c564cae4"
      },
      "execution_count": null,
      "outputs": [
        {
          "output_type": "execute_result",
          "data": {
            "text/plain": [
              "'Amitesh Ranjan'"
            ],
            "application/vnd.google.colaboratory.intrinsic+json": {
              "type": "string"
            }
          },
          "metadata": {},
          "execution_count": 1
        }
      ]
    },
    {
      "cell_type": "markdown",
      "source": [
        "**Q2: Assign your age (real or fake) to the variable `age`.**"
      ],
      "metadata": {
        "id": "s5DLl_9mdgDV"
      }
    },
    {
      "cell_type": "code",
      "source": [
        "age = 19\n",
        "age"
      ],
      "metadata": {
        "colab": {
          "base_uri": "https://localhost:8080/"
        },
        "id": "W6_vwIeWdYkd",
        "outputId": "27317dcf-6498-43fc-eae7-ead6bcc36c52"
      },
      "execution_count": null,
      "outputs": [
        {
          "output_type": "execute_result",
          "data": {
            "text/plain": [
              "19"
            ]
          },
          "metadata": {},
          "execution_count": 2
        }
      ]
    },
    {
      "cell_type": "markdown",
      "source": [
        "**Q3: Assign a boolean value to the variable `has_android_phone`.**"
      ],
      "metadata": {
        "id": "m_fMC_d7dpIa"
      }
    },
    {
      "cell_type": "code",
      "source": [
        "has_android_phone = True\n",
        "type(has_android_phone)"
      ],
      "metadata": {
        "colab": {
          "base_uri": "https://localhost:8080/"
        },
        "id": "b07EBpLedj8Q",
        "outputId": "d0d8611e-aebb-4521-f5c7-fc5e68358b86"
      },
      "execution_count": null,
      "outputs": [
        {
          "output_type": "execute_result",
          "data": {
            "text/plain": [
              "bool"
            ]
          },
          "metadata": {},
          "execution_count": 3
        }
      ]
    },
    {
      "cell_type": "markdown",
      "source": [
        "You can check the values of these variables by running the next cell."
      ],
      "metadata": {
        "id": "PACmR5-kd5Hk"
      }
    },
    {
      "cell_type": "code",
      "source": [
        "name, age, has_android_phone"
      ],
      "metadata": {
        "colab": {
          "base_uri": "https://localhost:8080/"
        },
        "id": "oxPl4XNCd2vS",
        "outputId": "2263a27f-7be0-41ad-9ed1-3eee0141b532"
      },
      "execution_count": null,
      "outputs": [
        {
          "output_type": "execute_result",
          "data": {
            "text/plain": [
              "('Amitesh Ranjan', 19, True)"
            ]
          },
          "metadata": {},
          "execution_count": 4
        }
      ]
    },
    {
      "cell_type": "markdown",
      "source": [
        "**Q4: Create a dictionary `person` with keys `\"Name\"`, `\"Age\"`, `\"HasAndroidPhone\"` and values using the variables defined above.**"
      ],
      "metadata": {
        "id": "7XosqY2ReOAi"
      }
    },
    {
      "cell_type": "code",
      "source": [
        "person = {\n",
        "    'Name' : \"Amitesh Ranjan\",\n",
        "    'Age' : 19,\n",
        "    'HasAndroidPhone' : True,\n",
        "}\n",
        "type(person)"
      ],
      "metadata": {
        "colab": {
          "base_uri": "https://localhost:8080/"
        },
        "id": "uZgunq6beIGU",
        "outputId": "8b90e5de-f5b9-4f85-859d-e771af55a336"
      },
      "execution_count": null,
      "outputs": [
        {
          "output_type": "execute_result",
          "data": {
            "text/plain": [
              "dict"
            ]
          },
          "metadata": {},
          "execution_count": 5
        }
      ]
    },
    {
      "cell_type": "markdown",
      "source": [
        "Let's use the `person` dictionary to print a nice message."
      ],
      "metadata": {
        "id": "Xue-bZwgesjA"
      }
    },
    {
      "cell_type": "code",
      "source": [
        "print(\"{} is aged {}, and owns an {}.\".format(\n",
        "    person[\"Name\"], \n",
        "    person[\"Age\"], \n",
        "    \"Android phone\" if person[\"HasAndroidPhone\"] else \"iPhone\"\n",
        "))"
      ],
      "metadata": {
        "colab": {
          "base_uri": "https://localhost:8080/"
        },
        "id": "9-qoBJjveqi8",
        "outputId": "f7865eb7-82e4-4511-ff47-46d4b783e00a"
      },
      "execution_count": null,
      "outputs": [
        {
          "output_type": "stream",
          "name": "stdout",
          "text": [
            "Amitesh Ranjan is aged 19, and owns an Android phone.\n"
          ]
        }
      ]
    },
    {
      "cell_type": "markdown",
      "source": [
        "**Q4b (Optional): Use a `for` loop to display the `type` of each value stored against each key in `person`.**\n",
        "\n",
        "Here's the expected output for the key `\"Name\"`: \n",
        "\n",
        "```\n",
        "The key \"Name\" has the value \"Derek\" of the type \"<class 'str'>\"\n",
        "```"
      ],
      "metadata": {
        "id": "wKQ_A5vXe9ep"
      }
    },
    {
      "cell_type": "code",
      "source": [
        "for key in person:\n",
        "  print(\"The key \\\"{}\\\" has the value \\\"{}\\\" of the type \\\"{}\\\"\".format(key, person[key] ,type(person[key])))"
      ],
      "metadata": {
        "colab": {
          "base_uri": "https://localhost:8080/"
        },
        "id": "NvWj-0nhe6Uq",
        "outputId": "13160f33-46f0-4e4d-db7e-43392395d663"
      },
      "execution_count": null,
      "outputs": [
        {
          "output_type": "stream",
          "name": "stdout",
          "text": [
            "The key \"Name\" has the value \"Amitesh Ranjan\" of the type \"<class 'str'>\"\n",
            "The key \"Age\" has the value \"19\" of the type \"<class 'int'>\"\n",
            "The key \"HasAndroidPhone\" has the value \"True\" of the type \"<class 'bool'>\"\n"
          ]
        }
      ]
    },
    {
      "cell_type": "markdown",
      "source": [
        "## Problem 2 - Working with Lists\n",
        "\n",
        "**Q5: Create a list containing the following 3 elements:**\n",
        "\n",
        "* your favorite color\n",
        "* the number of pets you have\n",
        "* a boolean value describing whether you have previous programming experience"
      ],
      "metadata": {
        "id": "8m05D-pH65LB"
      }
    },
    {
      "cell_type": "code",
      "source": [
        "my_list = ['Blue', 'Yellow', 'Red', 1, True]\n"
      ],
      "metadata": {
        "id": "TLIgp7z8fSgo"
      },
      "execution_count": null,
      "outputs": []
    },
    {
      "cell_type": "markdown",
      "source": [
        "Let's see what the list looks like:"
      ],
      "metadata": {
        "id": "Rl_9wsnf7eVK"
      }
    },
    {
      "cell_type": "code",
      "source": [
        "my_list"
      ],
      "metadata": {
        "colab": {
          "base_uri": "https://localhost:8080/"
        },
        "id": "MYPICMYm7YLO",
        "outputId": "8194a34e-9d7a-4a00-826c-254bf5afa3dc"
      },
      "execution_count": null,
      "outputs": [
        {
          "output_type": "execute_result",
          "data": {
            "text/plain": [
              "['Blue', 'Yellow', 'Red', 1, True]"
            ]
          },
          "metadata": {},
          "execution_count": 28
        }
      ]
    },
    {
      "cell_type": "markdown",
      "source": [
        "**Q6: Complete the following `print` and `if` statements by accessing the appropriate elements from `my_list`.**\n",
        "\n",
        "*Hint*: Use the list indexing notation `[]`."
      ],
      "metadata": {
        "id": "DRWddzDz7j9m"
      }
    },
    {
      "cell_type": "code",
      "source": [
        "print('My favorite color is', my_list[:3])"
      ],
      "metadata": {
        "colab": {
          "base_uri": "https://localhost:8080/"
        },
        "id": "t8uP0kM67gMC",
        "outputId": "9132a9ee-4056-464b-bcc3-8d910db5bf89"
      },
      "execution_count": null,
      "outputs": [
        {
          "output_type": "stream",
          "name": "stdout",
          "text": [
            "My favorite color is ['Blue', 'Yellow', 'Red']\n"
          ]
        }
      ]
    },
    {
      "cell_type": "code",
      "source": [
        "print('I have {} pet(s).'.format(my_list[3]))"
      ],
      "metadata": {
        "colab": {
          "base_uri": "https://localhost:8080/"
        },
        "id": "xga1XwgY7wSA",
        "outputId": "92bd78dc-7526-4785-c526-d2c4a3ab18cb"
      },
      "execution_count": null,
      "outputs": [
        {
          "output_type": "stream",
          "name": "stdout",
          "text": [
            "I have 1 pet(s).\n"
          ]
        }
      ]
    },
    {
      "cell_type": "code",
      "source": [
        "if  my_list[4]:\n",
        "    print(\"I have previous programming experience\")\n",
        "else:\n",
        "    print(\"I do not have previous programming experience\")"
      ],
      "metadata": {
        "colab": {
          "base_uri": "https://localhost:8080/"
        },
        "id": "FKM3_Pq_73E3",
        "outputId": "99b5e0f4-1f3b-4b27-8ce3-6a4357881c63"
      },
      "execution_count": null,
      "outputs": [
        {
          "output_type": "stream",
          "name": "stdout",
          "text": [
            "I have previous programming experience\n"
          ]
        }
      ]
    },
    {
      "cell_type": "markdown",
      "source": [
        "**Q7: Add your favorite single digit number to the end of the list using the appropriate list method.**"
      ],
      "metadata": {
        "id": "ueiLBfjY8EPs"
      }
    },
    {
      "cell_type": "code",
      "source": [
        "my_list.append(35)"
      ],
      "metadata": {
        "id": "F8_Jfitz7_3g"
      },
      "execution_count": null,
      "outputs": []
    },
    {
      "cell_type": "markdown",
      "source": [
        "Let's see if the number shows up in the list."
      ],
      "metadata": {
        "id": "HplJa7Wh8Wcw"
      }
    },
    {
      "cell_type": "code",
      "source": [
        "my_list"
      ],
      "metadata": {
        "colab": {
          "base_uri": "https://localhost:8080/"
        },
        "id": "LtncO9e-8TQe",
        "outputId": "a4e3c120-bf5a-4b34-c9bf-0b7edec6ede6"
      },
      "execution_count": null,
      "outputs": [
        {
          "output_type": "execute_result",
          "data": {
            "text/plain": [
              "['Blue', 'Yellow', 'Red', 1, True, 35]"
            ]
          },
          "metadata": {},
          "execution_count": 33
        }
      ]
    },
    {
      "cell_type": "markdown",
      "source": [
        "**Q8: Remove the first element of the list, using the appropriate list method.**"
      ],
      "metadata": {
        "id": "Y8DHSd2B8oU-"
      }
    },
    {
      "cell_type": "code",
      "source": [
        "#Both do the same tasks..\n",
        "#my_list.remove('Blue')\n",
        "my_list.pop(0)"
      ],
      "metadata": {
        "colab": {
          "base_uri": "https://localhost:8080/",
          "height": 36
        },
        "id": "cRsPGo3x8bjv",
        "outputId": "b1c6646b-7c3e-4c8d-ae45-f72980bc5486"
      },
      "execution_count": null,
      "outputs": [
        {
          "output_type": "execute_result",
          "data": {
            "text/plain": [
              "'Blue'"
            ],
            "application/vnd.google.colaboratory.intrinsic+json": {
              "type": "string"
            }
          },
          "metadata": {},
          "execution_count": 35
        }
      ]
    },
    {
      "cell_type": "code",
      "source": [
        "my_list"
      ],
      "metadata": {
        "colab": {
          "base_uri": "https://localhost:8080/"
        },
        "id": "zdaNWipA81jj",
        "outputId": "758051f7-83ee-4d52-cbf3-8fae5b9d0661"
      },
      "execution_count": null,
      "outputs": [
        {
          "output_type": "execute_result",
          "data": {
            "text/plain": [
              "['Yellow', 'Red', 1, True, 35]"
            ]
          },
          "metadata": {},
          "execution_count": 36
        }
      ]
    },
    {
      "cell_type": "markdown",
      "source": [
        "**Q9: Complete the `print` statement below to display the number of elements in `my_list`.**"
      ],
      "metadata": {
        "id": "YI4UwTFA9rEe"
      }
    },
    {
      "cell_type": "code",
      "source": [
        "print(\"The list has {} elements.\".format(len(my_list)))"
      ],
      "metadata": {
        "colab": {
          "base_uri": "https://localhost:8080/"
        },
        "id": "Fldi4cGa89Xq",
        "outputId": "790401b2-eeb8-47dc-9040-96a58698a259"
      },
      "execution_count": null,
      "outputs": [
        {
          "output_type": "stream",
          "name": "stdout",
          "text": [
            "The list has 6 elements.\n"
          ]
        }
      ]
    },
    {
      "cell_type": "markdown",
      "source": [
        "## Problem 3 - Conditions and loops\n",
        "\n",
        "**Q10: Calculate and display the sum of all the numbers divisible by 7 between 18 and 534 i.e. `21+28+35+...+525+532`**.\n",
        "\n",
        "*Hint*: One way to do this is to loop over a `range` using `for` and use an `if` statement inside it."
      ],
      "metadata": {
        "id": "OKljKakd-V_f"
      }
    },
    {
      "cell_type": "code",
      "source": [
        "sum=0\n",
        "for i in range(21,70,7):\n",
        "  sum+=i\n",
        "\n",
        "print(sum)"
      ],
      "metadata": {
        "colab": {
          "base_uri": "https://localhost:8080/"
        },
        "id": "yyA5p2nn94y8",
        "outputId": "dc4c6ea9-38bc-4784-8317-229c0f60be20"
      },
      "execution_count": null,
      "outputs": [
        {
          "output_type": "stream",
          "name": "stdout",
          "text": [
            "294\n"
          ]
        }
      ]
    },
    {
      "cell_type": "code",
      "source": [
        "print('The sum of all the numbers divisible by 7 between 18 and 534 is', sum)"
      ],
      "metadata": {
        "colab": {
          "base_uri": "https://localhost:8080/"
        },
        "id": "He95tzRS_bWP",
        "outputId": "e3cf6794-c2dd-415f-dd78-ad6a1c0a0b16"
      },
      "execution_count": null,
      "outputs": [
        {
          "output_type": "stream",
          "name": "stdout",
          "text": [
            "The sum of all the numbers divisible by 7 between 18 and 534 is 294\n"
          ]
        }
      ]
    },
    {
      "cell_type": "markdown",
      "source": [
        "## Problem 4 - Flying to the Bahamas\n",
        "\n",
        "**Q11: A travel company wants to fly a plane to the Bahamas. Flying the plane costs 5000 dollars. So far, 29 people have signed up for the trip. If the company charges 200 dollars per ticket, what is the profit made by the company?**\n",
        "\n",
        "Fill in values or arithmetic expressions for the variables below."
      ],
      "metadata": {
        "id": "dY5C8m-MAA_o"
      }
    },
    {
      "cell_type": "code",
      "source": [
        "cost_of_flying_plane = 5000"
      ],
      "metadata": {
        "id": "WFNPfB7m_5Rd"
      },
      "execution_count": null,
      "outputs": []
    },
    {
      "cell_type": "code",
      "source": [
        "number_of_passengers = 29\n",
        "price_of_ticket = 200"
      ],
      "metadata": {
        "id": "5bFCGWTnAV5w"
      },
      "execution_count": null,
      "outputs": []
    },
    {
      "cell_type": "code",
      "source": [
        "profit = (29*200)-5000 "
      ],
      "metadata": {
        "id": "ymHQJvghAeBQ"
      },
      "execution_count": null,
      "outputs": []
    },
    {
      "cell_type": "code",
      "source": [
        "print('The company makes of a profit of {} dollars'.format(profit))"
      ],
      "metadata": {
        "colab": {
          "base_uri": "https://localhost:8080/"
        },
        "id": "ZHEzM7QSAk4N",
        "outputId": "2dbe70ad-11f0-464c-e3ef-b5dead4b598e"
      },
      "execution_count": null,
      "outputs": [
        {
          "output_type": "stream",
          "name": "stdout",
          "text": [
            "The company makes of a profit of 800 dollars\n"
          ]
        }
      ]
    },
    {
      "cell_type": "markdown",
      "source": [
        "**Q11b (Optional): Out of the 29 people who took the flight, only 12 buy tickets to return from the Bahamas on the same plane. If the flying the plane back also costs 5000 dollars, and does the company make an overall profit or loss? The company charges the same fee of 200 dollars per ticket for the return flight.**\n",
        "\n",
        "Use an `if` statement to display the result."
      ],
      "metadata": {
        "id": "b7hOUu60AyRJ"
      }
    },
    {
      "cell_type": "code",
      "source": [
        "total_flying_cost = 5000*2\n",
        "ticket_cost = (200*29) + (200*12)\n",
        "amount = ticket_cost - total_flying_cost \n",
        "amount"
      ],
      "metadata": {
        "colab": {
          "base_uri": "https://localhost:8080/"
        },
        "id": "r0poNlNbAsgK",
        "outputId": "7962b953-7884-42b1-d9de-78655921e467"
      },
      "execution_count": null,
      "outputs": [
        {
          "output_type": "execute_result",
          "data": {
            "text/plain": [
              "-1800"
            ]
          },
          "metadata": {},
          "execution_count": 54
        }
      ]
    },
    {
      "cell_type": "code",
      "source": [
        "# this is optional\n",
        "if amount > 0:\n",
        "    print(\"The company makes an overall profit of {} dollars\".format(amount))\n",
        "else:\n",
        "    print(\"The company makes an overall loss of {} dollars\".format(amount))"
      ],
      "metadata": {
        "colab": {
          "base_uri": "https://localhost:8080/"
        },
        "id": "RqicUoraBA-4",
        "outputId": "fa9ad499-1432-481e-eeaa-e5f2e3781d7f"
      },
      "execution_count": null,
      "outputs": [
        {
          "output_type": "stream",
          "name": "stdout",
          "text": [
            "The company makes an overall loss of -1800 dollars\n"
          ]
        }
      ]
    },
    {
      "cell_type": "markdown",
      "source": [
        "## Problem 5 - Twitter Sentiment Analysis\n",
        "\n",
        "Are your ready to perform some *Data Analysis with Python*? In this problem, we'll analyze some fictional tweets and find out whether the overall sentiment of Twitter users is happy or sad. This is a simplified version of an important real world problem called *sentiment analysis*.\n",
        "\n",
        "Before we begin, we need a list of tweets to analyze. We're picking a small number of tweets here, but the exact same analysis can also be done for thousands, or even millions of tweets. The collection of data that we perform analysis on is often called a *dataset*.\n"
      ],
      "metadata": {
        "id": "mhzTWB22Byn7"
      }
    },
    {
      "cell_type": "code",
      "source": [
        "tweets = [\n",
        "    \"Wow, what a great day today!! #sunshine\",\n",
        "    \"I feel sad about the things going on around us. #covid19\",\n",
        "    \"I'm really excited to learn Python with @JovianML #zerotopandas\",\n",
        "    \"This is a really nice song. #linkinpark\",\n",
        "    \"The python programming language is useful for data science\",\n",
        "    \"Why do bad things happen to me?\",\n",
        "    \"Apple announces the release of the new iPhone 12. Fans are excited.\",\n",
        "    \"Spent my day with family!! #happy\",\n",
        "    \"Check out my blog post on common string operations in Python. #zerotopandas\",\n",
        "    \"Freecodecamp has great coding tutorials. #skillup\"\n",
        "]"
      ],
      "metadata": {
        "id": "QwpC8s_6BquN"
      },
      "execution_count": null,
      "outputs": []
    },
    {
      "cell_type": "markdown",
      "source": [
        "Let's begin by answering a very simple but important question about our dataset.\n",
        "\n",
        "**Q12: How many tweets does the dataset contain?**"
      ],
      "metadata": {
        "id": "aqkCo5NKDrh7"
      }
    },
    {
      "cell_type": "code",
      "source": [
        "number_of_tweets = len(tweets)"
      ],
      "metadata": {
        "id": "YVKdn2QaDoko"
      },
      "execution_count": null,
      "outputs": []
    },
    {
      "cell_type": "markdown",
      "source": [
        "Let's create two lists of words: `happy_words` and `sad_words`. We will use these to check if a tweet is happy or sad."
      ],
      "metadata": {
        "id": "na3VyUtdD-Ng"
      }
    },
    {
      "cell_type": "code",
      "source": [
        "happy_words = ['great', 'excited', 'happy', 'nice', 'wonderful', 'amazing', 'good', 'best', 'wow']\n",
        "sad_words = ['sad', 'bad', 'tragic', 'unhappy', 'worst']"
      ],
      "metadata": {
        "id": "LnC1iSEeD0Ne"
      },
      "execution_count": null,
      "outputs": []
    },
    {
      "cell_type": "markdown",
      "source": [
        "To identify whether a tweet is happy, we can simply check if contains any of the words from `happy_words`. Here's an example:"
      ],
      "metadata": {
        "id": "53tAi0BsEHjO"
      }
    },
    {
      "cell_type": "code",
      "source": [
        "sample_tweet = tweets[0]"
      ],
      "metadata": {
        "id": "utzvfxQaEHAo"
      },
      "execution_count": null,
      "outputs": []
    },
    {
      "cell_type": "code",
      "source": [
        "is_tweet_happy = False\n",
        "\n",
        "# Get a word from happy_words\n",
        "for word in happy_words:\n",
        "    # Check if the tweet contains the word\n",
        "    if word in sample_tweet:\n",
        "        # Word found! Mark the tweet as happy\n",
        "        is_tweet_happy = True"
      ],
      "metadata": {
        "id": "eoLGFs8YEMzH"
      },
      "execution_count": null,
      "outputs": []
    },
    {
      "cell_type": "code",
      "source": [
        "is_tweet_happy"
      ],
      "metadata": {
        "colab": {
          "base_uri": "https://localhost:8080/"
        },
        "id": "12fkR9ICEVF8",
        "outputId": "e655c3ce-89f6-460d-cf70-a5447d6de43e"
      },
      "execution_count": null,
      "outputs": [
        {
          "output_type": "execute_result",
          "data": {
            "text/plain": [
              "True"
            ]
          },
          "metadata": {},
          "execution_count": 66
        }
      ]
    },
    {
      "cell_type": "markdown",
      "source": [
        "**Q13: Determine the number of tweets in the dataset that can be classified as happy.**\n",
        "\n",
        "*Hint*: You'll need to use a loop inside another loop to do this. Use the code from the example shown above."
      ],
      "metadata": {
        "id": "kTkRRvCdEnH4"
      }
    },
    {
      "cell_type": "code",
      "source": [
        "# store the final answer in this variable\n",
        "number_of_happy_tweets = 0\n",
        "\n",
        "# perform the calculations here\n",
        "def is_tweet_happy_function(sample_tweet_text):\n",
        "  for word in happy_words:\n",
        "    if word in sample_tweet_text:\n",
        "      return True\n",
        "  return False\n",
        "    \n",
        "\n",
        "for sample in tweets:\n",
        "  if is_tweet_happy_function(sample):\n",
        "    number_of_happy_tweets+=1\n",
        "    \n"
      ],
      "metadata": {
        "id": "_77oAtZrEzbg"
      },
      "execution_count": null,
      "outputs": []
    },
    {
      "cell_type": "code",
      "source": [
        "print(\"Number of happy tweets:\", number_of_happy_tweets)"
      ],
      "metadata": {
        "colab": {
          "base_uri": "https://localhost:8080/"
        },
        "id": "hskGPwSpEZju",
        "outputId": "a8cd3427-0ece-49ba-81b1-dd1436dc57ce"
      },
      "execution_count": null,
      "outputs": [
        {
          "output_type": "stream",
          "name": "stdout",
          "text": [
            "Number of happy tweets: 6\n"
          ]
        }
      ]
    },
    {
      "cell_type": "markdown",
      "source": [
        "**Q14: What fraction of the total number of tweets are happy?**\n",
        "\n",
        "For example, if 2 out of 10 tweets are happy, then the answer is `2/10` i.e. `0.2`."
      ],
      "metadata": {
        "id": "qbg_tZOJHOz7"
      }
    },
    {
      "cell_type": "code",
      "source": [
        "happy_fraction = number_of_happy_tweets/10"
      ],
      "metadata": {
        "id": "Hsf-nhCVGNja"
      },
      "execution_count": null,
      "outputs": []
    },
    {
      "cell_type": "code",
      "source": [
        "print(\"The fraction of happy tweets is:\", happy_fraction)"
      ],
      "metadata": {
        "colab": {
          "base_uri": "https://localhost:8080/"
        },
        "id": "QHqtpyRRHm8R",
        "outputId": "76eb9022-2182-4a36-cae5-3cc9a10596d3"
      },
      "execution_count": null,
      "outputs": [
        {
          "output_type": "stream",
          "name": "stdout",
          "text": [
            "The fraction of happy tweets is: 0.6\n"
          ]
        }
      ]
    },
    {
      "cell_type": "markdown",
      "source": [
        "To identify whether a tweet is sad, we can simply check if contains any of the words from `sad_words`.\n",
        "\n",
        "**Q15: Determine the number of tweets in the dataset that can be classified as sad.**"
      ],
      "metadata": {
        "id": "WRWRssHmHwWB"
      }
    },
    {
      "cell_type": "code",
      "source": [
        "# store the final answer in this variable\n",
        "number_of_sad_tweets = 0\n",
        "\n",
        "# perform the calculations here\n",
        "def is_tweet_sad_function(sample_tweet_text):\n",
        "  for word in sad_words:\n",
        "    if word in sample_tweet_text:\n",
        "      return True\n",
        "  return False\n",
        "    \n",
        "\n",
        "for sample in tweets:\n",
        "  if is_tweet_sad_function(sample):\n",
        "    number_of_sad_tweets+=1\n",
        "\n"
      ],
      "metadata": {
        "id": "U8dhjQHwHtRO"
      },
      "execution_count": null,
      "outputs": []
    },
    {
      "cell_type": "code",
      "source": [
        "print(\"Number of sad tweets:\", number_of_sad_tweets)"
      ],
      "metadata": {
        "colab": {
          "base_uri": "https://localhost:8080/"
        },
        "id": "S5SxRy2XH9TX",
        "outputId": "adb2d8d0-03a6-423f-d25f-534bfd69c4d5"
      },
      "execution_count": null,
      "outputs": [
        {
          "output_type": "stream",
          "name": "stdout",
          "text": [
            "Number of sad tweets: 2\n"
          ]
        }
      ]
    },
    {
      "cell_type": "markdown",
      "source": [
        "**Q16: What fraction of the total number of tweets are sad?**"
      ],
      "metadata": {
        "id": "GD0Dg3YzH5yt"
      }
    },
    {
      "cell_type": "code",
      "source": [
        "sad_fraction = number_of_sad_tweets/10"
      ],
      "metadata": {
        "id": "k8TDawLeH8ng"
      },
      "execution_count": null,
      "outputs": []
    },
    {
      "cell_type": "code",
      "source": [
        "print(\"The fraction of sad tweets is:\", sad_fraction)"
      ],
      "metadata": {
        "colab": {
          "base_uri": "https://localhost:8080/"
        },
        "id": "3UDlKfjrUZsw",
        "outputId": "95531147-f010-477b-c1de-9bacff94a31b"
      },
      "execution_count": null,
      "outputs": [
        {
          "output_type": "stream",
          "name": "stdout",
          "text": [
            "The fraction of sad tweets is: 0.2\n"
          ]
        }
      ]
    },
    {
      "cell_type": "markdown",
      "source": [
        "Great work, even with some basic analysis, we already know a lot about the sentiment of the tweets given to us. Let us now define a metric called \"sentiment score\", to summarize the overall sentiment of the tweets.\n",
        "\n",
        "**Q16b (Optional): Calculate the sentiment score, which is defined as the difference between the fraction of happy tweets and the fraction of sad tweets.**"
      ],
      "metadata": {
        "id": "SLs91fsYWBYU"
      }
    },
    {
      "cell_type": "code",
      "source": [
        "sentiment_score = happy_fraction - sad_fraction"
      ],
      "metadata": {
        "id": "9k0OpxK_V7jJ"
      },
      "execution_count": null,
      "outputs": []
    },
    {
      "cell_type": "code",
      "source": [
        "print(\"The sentiment score for the given tweets is\", (sentiment_score))"
      ],
      "metadata": {
        "colab": {
          "base_uri": "https://localhost:8080/"
        },
        "id": "Z1E-od09bHyZ",
        "outputId": "40903685-28b5-4b04-cecb-5a6fb431c3a9"
      },
      "execution_count": null,
      "outputs": [
        {
          "output_type": "stream",
          "name": "stdout",
          "text": [
            "The sentiment score for the given tweets is 0.39999999999999997\n"
          ]
        }
      ]
    },
    {
      "cell_type": "markdown",
      "source": [
        "# Numpy Exercise - 100"
      ],
      "metadata": {
        "id": "_wmk8D9SbqyA"
      }
    },
    {
      "cell_type": "markdown",
      "source": [
        "#### 1. Import the numpy package under the name `np` (★☆☆)"
      ],
      "metadata": {
        "id": "Kk-buDgA5Pmw"
      }
    },
    {
      "cell_type": "code",
      "source": [
        "#import numpy\n",
        "import numpy as np"
      ],
      "metadata": {
        "id": "yD35HRG5bzwP"
      },
      "execution_count": 1,
      "outputs": []
    },
    {
      "cell_type": "markdown",
      "source": [
        "#### 2. Print the numpy version and the configuration (★☆☆)"
      ],
      "metadata": {
        "id": "aoYw-fiI5caX"
      }
    },
    {
      "cell_type": "code",
      "source": [
        "print(np.__version__)"
      ],
      "metadata": {
        "colab": {
          "base_uri": "https://localhost:8080/"
        },
        "id": "IQrvuGWh61JU",
        "outputId": "b75d4524-c765-4247-a6c5-719a88270a66"
      },
      "execution_count": 2,
      "outputs": [
        {
          "output_type": "stream",
          "name": "stdout",
          "text": [
            "1.21.6\n"
          ]
        }
      ]
    },
    {
      "cell_type": "markdown",
      "source": [
        "#### 3. Create a null vector of size 10 (★☆☆)"
      ],
      "metadata": {
        "id": "AD45Ik3u5kEo"
      }
    },
    {
      "cell_type": "code",
      "source": [
        "# null vector means we have to create 10 zeros array so\n",
        "vect = np.zeros(10)\n",
        "print(vect.ndim)\n",
        "print( vect.size)\n",
        "print(vect.shape)\n",
        "print(vect)"
      ],
      "metadata": {
        "colab": {
          "base_uri": "https://localhost:8080/"
        },
        "id": "VkMvlLxe7lmJ",
        "outputId": "83ca6294-8c59-4841-a9ea-0e58621dfe5a"
      },
      "execution_count": 5,
      "outputs": [
        {
          "output_type": "stream",
          "name": "stdout",
          "text": [
            "1\n",
            "10\n",
            "(10,)\n",
            "[0. 0. 0. 0. 0. 0. 0. 0. 0. 0.]\n"
          ]
        }
      ]
    },
    {
      "cell_type": "markdown",
      "source": [
        "#### 4. How to find the memory size of any array (★☆☆)"
      ],
      "metadata": {
        "id": "BAWeVe_p5nfL"
      }
    },
    {
      "cell_type": "code",
      "source": [
        "x=vect\n",
        "print(\"Size of the array: \",\n",
        "      x.size)\n",
        "  \n",
        "print(\"Memory size of one array element in bytes: \",\n",
        "      x.itemsize)\n",
        "  \n",
        "# memory size of numpy array in bytes\n",
        "print(\"Memory size of numpy array in bytes:\",\n",
        "      x.size * x.itemsize)"
      ],
      "metadata": {
        "colab": {
          "base_uri": "https://localhost:8080/"
        },
        "id": "q3l1OkD-9KvN",
        "outputId": "1c14fb55-676e-4546-c54d-ba210cb12389"
      },
      "execution_count": 7,
      "outputs": [
        {
          "output_type": "stream",
          "name": "stdout",
          "text": [
            "Size of the array:  10\n",
            "Memory size of one array element in bytes:  8\n",
            "Memory size of numpy array in bytes: 80\n"
          ]
        }
      ]
    },
    {
      "cell_type": "markdown",
      "source": [
        "#### 5. How to get the documentation of the numpy add function from the command line? (★☆☆)"
      ],
      "metadata": {
        "id": "GO0l06bG5qjo"
      }
    },
    {
      "cell_type": "code",
      "source": [
        "print(np)\n",
        "# For ducumentation\n",
        "#print(np.info(np.add))\n",
        "np.info(np.add)"
      ],
      "metadata": {
        "colab": {
          "base_uri": "https://localhost:8080/"
        },
        "id": "koMccJxT9jci",
        "outputId": "80933b5a-7b59-4446-c5a4-fed3229a11dc"
      },
      "execution_count": 12,
      "outputs": [
        {
          "output_type": "stream",
          "name": "stdout",
          "text": [
            "<module 'numpy' from '/usr/local/lib/python3.7/dist-packages/numpy/__init__.py'>\n",
            "add(x1, x2, /, out=None, *, where=True, casting='same_kind', order='K', dtype=None, subok=True[, signature, extobj])\n",
            "\n",
            "Add arguments element-wise.\n",
            "\n",
            "Parameters\n",
            "----------\n",
            "x1, x2 : array_like\n",
            "    The arrays to be added.\n",
            "    If ``x1.shape != x2.shape``, they must be broadcastable to a common\n",
            "    shape (which becomes the shape of the output).\n",
            "out : ndarray, None, or tuple of ndarray and None, optional\n",
            "    A location into which the result is stored. If provided, it must have\n",
            "    a shape that the inputs broadcast to. If not provided or None,\n",
            "    a freshly-allocated array is returned. A tuple (possible only as a\n",
            "    keyword argument) must have length equal to the number of outputs.\n",
            "where : array_like, optional\n",
            "    This condition is broadcast over the input. At locations where the\n",
            "    condition is True, the `out` array will be set to the ufunc result.\n",
            "    Elsewhere, the `out` array will retain its original value.\n",
            "    Note that if an uninitialized `out` array is created via the default\n",
            "    ``out=None``, locations within it where the condition is False will\n",
            "    remain uninitialized.\n",
            "**kwargs\n",
            "    For other keyword-only arguments, see the\n",
            "    :ref:`ufunc docs <ufuncs.kwargs>`.\n",
            "\n",
            "Returns\n",
            "-------\n",
            "add : ndarray or scalar\n",
            "    The sum of `x1` and `x2`, element-wise.\n",
            "    This is a scalar if both `x1` and `x2` are scalars.\n",
            "\n",
            "Notes\n",
            "-----\n",
            "Equivalent to `x1` + `x2` in terms of array broadcasting.\n",
            "\n",
            "Examples\n",
            "--------\n",
            ">>> np.add(1.0, 4.0)\n",
            "5.0\n",
            ">>> x1 = np.arange(9.0).reshape((3, 3))\n",
            ">>> x2 = np.arange(3.0)\n",
            ">>> np.add(x1, x2)\n",
            "array([[  0.,   2.,   4.],\n",
            "       [  3.,   5.,   7.],\n",
            "       [  6.,   8.,  10.]])\n",
            "\n",
            "The ``+`` operator can be used as a shorthand for ``np.add`` on ndarrays.\n",
            "\n",
            ">>> x1 = np.arange(9.0).reshape((3, 3))\n",
            ">>> x2 = np.arange(3.0)\n",
            ">>> x1 + x2\n",
            "array([[ 0.,  2.,  4.],\n",
            "       [ 3.,  5.,  7.],\n",
            "       [ 6.,  8., 10.]])\n"
          ]
        }
      ]
    },
    {
      "cell_type": "markdown",
      "source": [
        "#### 6. Create a null vector of size 10 but the fifth value which is 1 (★☆☆)"
      ],
      "metadata": {
        "id": "wfKhwNSj5u14"
      }
    },
    {
      "cell_type": "code",
      "source": [
        "print(vect)\n",
        "vect[5] = 1\n",
        "print(vect)"
      ],
      "metadata": {
        "colab": {
          "base_uri": "https://localhost:8080/"
        },
        "id": "-YgOQiNi-TiB",
        "outputId": "2c30b5c4-be75-4873-f255-16e4e8e6896c"
      },
      "execution_count": 13,
      "outputs": [
        {
          "output_type": "stream",
          "name": "stdout",
          "text": [
            "[0. 0. 0. 0. 0. 0. 0. 0. 0. 0.]\n",
            "[0. 0. 0. 0. 0. 1. 0. 0. 0. 0.]\n"
          ]
        }
      ]
    },
    {
      "cell_type": "markdown",
      "source": [
        "#### 7. Create a vector with values ranging from 10 to 49 (★☆☆)"
      ],
      "metadata": {
        "id": "YHr9R8QZ50GB"
      }
    },
    {
      "cell_type": "code",
      "source": [
        "arr = np.arange(10,49,dtype=int)\n",
        "arr"
      ],
      "metadata": {
        "colab": {
          "base_uri": "https://localhost:8080/"
        },
        "id": "7tD8yf1G_SDH",
        "outputId": "6a015c77-2c30-42e5-d49e-a87b0b675a4f"
      },
      "execution_count": 14,
      "outputs": [
        {
          "output_type": "execute_result",
          "data": {
            "text/plain": [
              "array([10, 11, 12, 13, 14, 15, 16, 17, 18, 19, 20, 21, 22, 23, 24, 25, 26,\n",
              "       27, 28, 29, 30, 31, 32, 33, 34, 35, 36, 37, 38, 39, 40, 41, 42, 43,\n",
              "       44, 45, 46, 47, 48])"
            ]
          },
          "metadata": {},
          "execution_count": 14
        }
      ]
    },
    {
      "cell_type": "markdown",
      "source": [
        "#### 8. Reverse a vector (first element becomes last) (★☆☆)"
      ],
      "metadata": {
        "id": "MXyqMKQU54mF"
      }
    },
    {
      "cell_type": "markdown",
      "source": [
        "#### 9. Create a 3x3 matrix with values ranging from 0 to 8 (★☆☆)"
      ],
      "metadata": {
        "id": "hcnd6OpY56Fy"
      }
    },
    {
      "cell_type": "markdown",
      "source": [
        "#### 10. Find indices of non-zero elements from [1,2,0,0,4,0] (★☆☆)"
      ],
      "metadata": {
        "id": "k-I1WL2759K3"
      }
    },
    {
      "cell_type": "markdown",
      "source": [
        "#### 11. Create a 3x3 identity matrix (★☆☆)"
      ],
      "metadata": {
        "id": "9tJj1bxf6A9r"
      }
    },
    {
      "cell_type": "markdown",
      "source": [
        "#### 12. Create a 3x3x3 array with random values (★☆☆)"
      ],
      "metadata": {
        "id": "gM81SIyT6EYW"
      }
    },
    {
      "cell_type": "markdown",
      "source": [
        "#### 13. Create a 10x10 array with random values and find the minimum and maximum values (★☆☆)"
      ],
      "metadata": {
        "id": "-J0MAYq36ZWy"
      }
    },
    {
      "cell_type": "markdown",
      "source": [
        "#### 14. Create a random vector of size 30 and find the mean value (★☆☆)"
      ],
      "metadata": {
        "id": "K0ZpxUJF6b-j"
      }
    },
    {
      "cell_type": "markdown",
      "source": [
        "#### 15. Create a 2d array with 1 on the border and 0 inside (★☆☆)"
      ],
      "metadata": {
        "id": "f2w4bBkX6dzc"
      }
    },
    {
      "cell_type": "markdown",
      "source": [
        "#### 16. How to add a border (filled with 0's) around an existing array? (★☆☆)"
      ],
      "metadata": {
        "id": "72dvv1jD6frj"
      }
    },
    {
      "cell_type": "markdown",
      "source": [
        "#### 17. What is the result of the following expression? (★☆☆)\n",
        "```python\n",
        "0 * np.nan\n",
        "np.nan == np.nan\n",
        "np.inf > np.nan\n",
        "np.nan - np.nan\n",
        "np.nan in set([np.nan])\n",
        "0.3 == 3 * 0.1\n",
        "```"
      ],
      "metadata": {
        "id": "lWMQDY_P6hb5"
      }
    },
    {
      "cell_type": "markdown",
      "source": [
        "#### 18. Create a 5x5 matrix with values 1,2,3,4 just below the diagonal (★☆☆)"
      ],
      "metadata": {
        "id": "IFpl-2_L6jsQ"
      }
    },
    {
      "cell_type": "markdown",
      "source": [
        "#### 19. Create a 8x8 matrix and fill it with a checkerboard pattern (★☆☆)\n"
      ],
      "metadata": {
        "id": "MGdiLhOk6lnX"
      }
    },
    {
      "cell_type": "markdown",
      "source": [
        "#### 20. Consider a (6,7,8) shape array, what is the index (x,y,z) of the 100th element?"
      ],
      "metadata": {
        "id": "YRDcfvOg6pJI"
      }
    },
    {
      "cell_type": "code",
      "source": [
        ""
      ],
      "metadata": {
        "id": "lUjDZigm5Es4"
      },
      "execution_count": null,
      "outputs": []
    }
  ]
}